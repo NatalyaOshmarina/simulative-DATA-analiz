{
  "nbformat": 4,
  "nbformat_minor": 0,
  "metadata": {
    "colab": {
      "provenance": []
    },
    "kernelspec": {
      "name": "python3",
      "display_name": "Python 3"
    },
    "language_info": {
      "name": "python"
    }
  },
  "cells": [
    {
      "cell_type": "markdown",
      "source": [
        "## **3 кейс**\n",
        "\n",
        "**CRM**"
      ],
      "metadata": {
        "id": "XUqCUBW5fUST"
      }
    },
    {
      "cell_type": "code",
      "source": [
        "import requests"
      ],
      "metadata": {
        "id": "dHK8PVP8TcHD"
      },
      "execution_count": 2,
      "outputs": []
    },
    {
      "cell_type": "markdown",
      "source": [
        "### **Решения**"
      ],
      "metadata": {
        "id": "CxmnD3GvffQ4"
      }
    },
    {
      "cell_type": "markdown",
      "source": [
        "#### **Задача 1**\n",
        "\n",
        "Создайте класс `Lead`."
      ],
      "metadata": {
        "id": "5bdLXu2ksLB7"
      }
    },
    {
      "cell_type": "markdown",
      "source": [
        "**Решение**\n",
        "\n",
        "Напишите свое решение ниже"
      ],
      "metadata": {
        "id": "qUL4LtIUnJge"
      }
    },
    {
      "cell_type": "code",
      "source": [
        "class Lead:\n",
        "  def __init__(\n",
        "      self,\n",
        "      lead_id: int,\n",
        "      datetime: str,\n",
        "      page: str,\n",
        "      form_title: str,\n",
        "      contacts: str,\n",
        "      name: str\n",
        "      ) -> None:\n",
        "    self.lead_id = lead_id\n",
        "    self.datetime = datetime\n",
        "    self.page = page\n",
        "    self.form_title = form_title\n",
        "    self.contacts = contacts\n",
        "    self.name = name\n",
        "\n",
        "  def to_dict(self):\n",
        "    return {\n",
        "        'lead_id': self.lead_id,\n",
        "        'datetime': self.datetime,\n",
        "        'page': self.page,\n",
        "        'form_title': self.form_title,\n",
        "        'contacts': self.contacts,\n",
        "        'name': self.name\n",
        "    }\n"
      ],
      "metadata": {
        "id": "Ia39hhmZbNRW"
      },
      "execution_count": 1,
      "outputs": []
    },
    {
      "cell_type": "markdown",
      "source": [
        "✏️ ✏️ ✏️\n",
        "\n",
        "**Проверка**\n",
        "\n",
        "Чтобы проверить свое решение, запустите код в следующих ячейках"
      ],
      "metadata": {
        "id": "54Tvpn9OkDwV"
      }
    },
    {
      "cell_type": "code",
      "source": [
        "lead = Lead(1, '2023-07-01 10:00', 'example.com', 'Обратная связь', 'ivan@example.com', 'Иван Иванов')\n",
        "res = lead.to_dict()\n",
        "\n",
        "try:\n",
        "    assert res == {'lead_id': 1,\n",
        "                   'datetime': '2023-07-01 10:00',\n",
        "                   'page': 'example.com',\n",
        "                   'form_title': 'Обратная связь',\n",
        "                   'contacts': 'ivan@example.com',\n",
        "                   'name': 'Иван Иванов'}\n",
        "except AssertionError:\n",
        "    print('Ответы не совпадают')\n",
        "else:\n",
        "    print('Поздравляем, Вы справились!')"
      ],
      "metadata": {
        "id": "LkqzVw9skKEC",
        "colab": {
          "base_uri": "https://localhost:8080/"
        },
        "outputId": "e43cc27a-3d22-4b34-b2de-72b81e29bc3e"
      },
      "execution_count": null,
      "outputs": [
        {
          "output_type": "stream",
          "name": "stdout",
          "text": [
            "Поздравляем, Вы справились!\n"
          ]
        }
      ]
    },
    {
      "cell_type": "markdown",
      "source": [
        "#### **Задача 2**\n",
        "\n",
        "Создайте класс `Simulator`."
      ],
      "metadata": {
        "id": "QLNMvvhXoIdV"
      }
    },
    {
      "cell_type": "markdown",
      "source": [
        "**Решение**\n",
        "\n",
        "Напишите свое решение ниже"
      ],
      "metadata": {
        "id": "LThhpSINoMHN"
      }
    },
    {
      "cell_type": "code",
      "source": [
        "class Simulator:\n",
        "  def __init__(\n",
        "      self,\n",
        "      simulator_type: str,\n",
        "      version: str\n",
        "      ):\n",
        "    self.simulator_type = simulator_type\n",
        "    self.version = version\n",
        "\n",
        "  def to_dict(self):\n",
        "    return {\n",
        "        'simulator_type': self.simulator_type,\n",
        "        'version': self.version\n",
        "    }\n"
      ],
      "metadata": {
        "id": "9s8JBMlboJuf"
      },
      "execution_count": null,
      "outputs": []
    },
    {
      "cell_type": "markdown",
      "source": [
        "✏️ ✏️ ✏️\n",
        "\n",
        "**Проверка**\n",
        "\n",
        "Чтобы проверить свое решение, запустите код в следующих ячейках"
      ],
      "metadata": {
        "id": "GN_PNZICsxRD"
      }
    },
    {
      "cell_type": "code",
      "source": [
        "simulator = Simulator('Type A', '1.0')\n",
        "res2 = simulator.to_dict()\n",
        "\n",
        "try:\n",
        "    assert res2 == {'simulator_type': 'Type A', 'version': '1.0'}\n",
        "except AssertionError:\n",
        "    print('Ответы не совпадают')\n",
        "else:\n",
        "    print('Поздравляем, Вы справились!')"
      ],
      "metadata": {
        "colab": {
          "base_uri": "https://localhost:8080/"
        },
        "id": "a36bM9j9tD7l",
        "outputId": "954e2638-e7d0-464b-b353-b067efb19296"
      },
      "execution_count": null,
      "outputs": [
        {
          "output_type": "stream",
          "name": "stdout",
          "text": [
            "Поздравляем, Вы справились!\n"
          ]
        }
      ]
    },
    {
      "cell_type": "markdown",
      "source": [
        "#### **Задача 3**\n",
        "\n",
        "Определите класс `SalesFunnel`. Пока без метода `process_lead`."
      ],
      "metadata": {
        "id": "AwB-HtPLtjyl"
      }
    },
    {
      "cell_type": "markdown",
      "source": [
        "**Решение**\n",
        "\n",
        "Напишите свое решение ниже"
      ],
      "metadata": {
        "id": "GOTB--hmt2xw"
      }
    },
    {
      "cell_type": "code",
      "source": [
        "class SalesFunnel:\n",
        "  def __init__(self, stages=None) -> None:\n",
        "    self.stages = stages if stages is not None else []\n",
        "\n",
        "  def add_stage(self, stage: str):\n",
        "    self.stages.append(stage)\n",
        "    return self  # Возвращаем self для цепочки вызовов\n",
        "\n",
        "  def __iter__(self):\n",
        "    return iter(self._tasks)\n"
      ],
      "metadata": {
        "id": "fz7nRb_ntKMv"
      },
      "execution_count": null,
      "outputs": []
    },
    {
      "cell_type": "markdown",
      "source": [
        "✏️ ✏️ ✏️\n",
        "\n",
        "**Проверка**\n",
        "\n",
        "Чтобы проверить свое решение, запустите код в следующих ячейках"
      ],
      "metadata": {
        "id": "0-7TiI06t8D0"
      }
    },
    {
      "cell_type": "code",
      "source": [
        "funnel = SalesFunnel()\n",
        "funnel.add_stage('Stage 1')\n",
        "funnel.add_stage('Stage 2')\n",
        "funnel.add_stage('Stage 3')\n",
        "res3 = funnel.stages\n",
        "\n",
        "try:\n",
        "    assert res3 == ['Stage 1', 'Stage 2', 'Stage 3']\n",
        "except AssertionError:\n",
        "    print('Ответы не совпадают')\n",
        "else:\n",
        "    print('Поздравляем, Вы справились!')"
      ],
      "metadata": {
        "colab": {
          "base_uri": "https://localhost:8080/"
        },
        "id": "KzV-hUKcvxb2",
        "outputId": "c1630fc7-abaf-4dcd-bdca-7536f7388129"
      },
      "execution_count": null,
      "outputs": [
        {
          "output_type": "stream",
          "name": "stdout",
          "text": [
            "Поздравляем, Вы справились!\n"
          ]
        }
      ]
    },
    {
      "cell_type": "markdown",
      "source": [
        "#### **Задача 4**\n",
        "\n",
        "К классу `SalesFunnel` добавьте метод `process_lead`."
      ],
      "metadata": {
        "id": "CgRs9f--z9N-"
      }
    },
    {
      "cell_type": "markdown",
      "source": [
        "**Решение**\n",
        "\n",
        "Напишите свое решение ниже"
      ],
      "metadata": {
        "id": "HAC66WJB0DtG"
      }
    },
    {
      "cell_type": "code",
      "source": [
        "class SalesFunnel:\n",
        "  \"\"\"\n",
        "  Класс для записи логов отправки данных в CRM-сервис\n",
        "  логи хранят данные о текущем и следующем этапе воронки продаж,\n",
        "  а также о статусе передачи данных в CRM-сервис\n",
        "  \"\"\"\n",
        "  CRM_URL = \"https://itresume.com/crm/api/leads\"\n",
        "\n",
        "  def __init__(self, stages=None, logs=None) -> None:\n",
        "    self.stages = stages if stages is not None else []\n",
        "    self.logs = logs if logs is not None else []\n",
        "    self.__current_stage = 0 # Приватное поле для хранения индекса текущего этапа\n",
        "    self.__next_stage = 1 # Приватное поле для хранения индекса следующего этапа\n",
        "    self.__log = {}  # Приватное поле для хранения текущего лога\n",
        "\n",
        "  def add_stage(self, stage: str):\n",
        "    \"\"\"Добавляет этап в воронку продаж\"\"\"\n",
        "    self.stages.append(stage)\n",
        "    return self  # Возвращаем self для цепочки вызовов\n",
        "\n",
        "  def get_log(self, lead: object) -> dict:\n",
        "    \"\"\"Возвращает текущий и следующий этапы для лида\"\"\"\n",
        "    self.__log = {\n",
        "        lead.lead_id: (\n",
        "            self.stages[self.__current_stage], self.stages[self.__next_stage]\n",
        "            )\n",
        "    }\n",
        "    return self.__log\n",
        "\n",
        "  def __counter_stage(self, lead: object) -> dict[str, tuple]:\n",
        "    \"\"\"Приватный метод для перехода на следующий этап\"\"\"\n",
        "    self.__current_stage += 1\n",
        "    self.__next_stage += 1\n",
        "    self.__log = {\n",
        "        lead.lead_id: (\n",
        "            self.stages[self.__current_stage], self.stages[self.__next_stage]\n",
        "            )\n",
        "        }\n",
        "    return self.__log\n",
        "\n",
        "  def process_lead(self, lead: object) -> list:\n",
        "    \"\"\"Обрабатывает лид через воронку продаж\"\"\"\n",
        "    # Получаем текущий статус\n",
        "    current_log = self.get_log(lead)\n",
        "    current_stage, next_stage = current_log[lead.lead_id]\n",
        "\n",
        "    # Формируем параметры для CRM\n",
        "    crm_params = {\n",
        "      'lead_id': lead.lead_id,\n",
        "      'datetime': lead.datetime,\n",
        "      'page': lead.page,\n",
        "      'form_title': lead.form_title,\n",
        "      'contacts': lead.contacts,\n",
        "      'name': lead.name\n",
        "      }\n",
        "    response = requests.post(SalesFunnel.CRM_URL, json=crm_params)\n",
        "\n",
        "    # Логируем текущий этап\n",
        "    log_current = 'Обработка лида {lead_id} - Текущий этап: {stage}'.format(\n",
        "          lead_id=lead.lead_id,\n",
        "          stage=self.__log[lead.lead_id][0]\n",
        "           )\n",
        "    self.logs.append(log_current)\n",
        "\n",
        "    # Отправка в CRM и обработка ответа\n",
        "    try:\n",
        "      response = requests.post(self.CRM_URL, json=crm_params)\n",
        "      if response.status_code == 200:\n",
        "        self.logs.append('Данные лида успешно отправлены в CRM')\n",
        "      else:\n",
        "        self.logs.append('Не удалось отправить данные лида в CRM')\n",
        "    except requests.RequestException:\n",
        "        self.logs.append('Ошибка соединения с CRM')\n",
        "\n",
        "    # Логируем переход на следующий этап\n",
        "    log_next = 'Перемещаем лид {lead_id} на следующий этап: {stage}'.format(\n",
        "        lead_id = lead.lead_id,\n",
        "        stage=self.__log[lead.lead_id][1]\n",
        "    )\n",
        "    self.log = self.__counter_stage(lead)\n",
        "    self.logs.append(log_next)\n",
        "    return self.logs\n"
      ],
      "metadata": {
        "id": "63tUPEeLz5e1"
      },
      "execution_count": 24,
      "outputs": []
    },
    {
      "cell_type": "markdown",
      "source": [
        "✏️ ✏️ ✏️\n",
        "\n",
        "**Проверка**\n",
        "\n",
        "Чтобы проверить свое решение, запустите код в следующих ячейках"
      ],
      "metadata": {
        "id": "wAeUY7ey0JGJ"
      }
    },
    {
      "cell_type": "code",
      "source": [
        "sales_funnel = SalesFunnel([\"Генерация лида\", \"Подтверждение\", \"Предложение\", \"Возражение\"])\n",
        "lead = Lead(\"123\", \"2023-07-01\", \"example.com\", \"Свяжитесь с нами\", \"ivan@example.com\", \"Иван Иванов\")\n",
        "res4 = sales_funnel.process_lead(lead)\n",
        "\n",
        "try:\n",
        "    assert res4 == ['Обработка лида 123 - Текущий этап: Генерация лида',\n",
        "                    'Не удалось отправить данные лида в CRM',\n",
        "                    'Перемещаем лид 123 на следующий этап: Подтверждение']\n",
        "except AssertionError:\n",
        "    print('Ответы не совпадают')\n",
        "else:\n",
        "    print('Поздравляем, Вы справились!')"
      ],
      "metadata": {
        "colab": {
          "base_uri": "https://localhost:8080/"
        },
        "id": "e2nVbdAn1IjH",
        "outputId": "2b03e6f7-1f30-4ebc-fe93-244fd5638115"
      },
      "execution_count": 25,
      "outputs": [
        {
          "output_type": "stream",
          "name": "stdout",
          "text": [
            "Поздравляем, Вы справились!\n"
          ]
        }
      ]
    },
    {
      "cell_type": "code",
      "source": [],
      "metadata": {
        "id": "5TrEuC1O1dmg"
      },
      "execution_count": null,
      "outputs": []
    }
  ]
}