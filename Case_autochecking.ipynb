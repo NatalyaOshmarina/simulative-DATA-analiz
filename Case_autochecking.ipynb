{
  "nbformat": 4,
  "nbformat_minor": 0,
  "metadata": {
    "colab": {
      "provenance": []
    },
    "kernelspec": {
      "name": "python3",
      "display_name": "Python 3"
    },
    "language_info": {
      "name": "python"
    }
  },
  "cells": [
    {
      "cell_type": "markdown",
      "source": [
        "## **1 кейс**\n",
        "\n",
        "**Система автопроверки**"
      ],
      "metadata": {
        "id": "XUqCUBW5fUST"
      }
    },
    {
      "cell_type": "markdown",
      "source": [
        "**Важно**\n",
        "\n",
        "Перед началом решения выполните следующую ячейку, чтобы загрузить два файла - эталонный код и код пользователя."
      ],
      "metadata": {
        "id": "OcK9kF9mfZIt"
      }
    },
    {
      "cell_type": "code",
      "execution_count": null,
      "metadata": {
        "id": "KtNBw8nOfPsB",
        "colab": {
          "base_uri": "https://localhost:8080/"
        },
        "outputId": "ae790a04-6eac-4ea8-acc7-896458498db8"
      },
      "outputs": [
        {
          "output_type": "stream",
          "name": "stdout",
          "text": [
            "--2025-03-24 03:03:56--  https://gist.github.com/Vs8th/aafed81d81678c807a3ad3dbf93588b2/raw/user.py\n",
            "Resolving gist.github.com (gist.github.com)... 140.82.113.3\n",
            "Connecting to gist.github.com (gist.github.com)|140.82.113.3|:443... connected.\n",
            "HTTP request sent, awaiting response... 301 Moved Permanently\n",
            "Location: https://gist.githubusercontent.com/Vs8th/aafed81d81678c807a3ad3dbf93588b2/raw/user.py [following]\n",
            "--2025-03-24 03:03:57--  https://gist.githubusercontent.com/Vs8th/aafed81d81678c807a3ad3dbf93588b2/raw/user.py\n",
            "Resolving gist.githubusercontent.com (gist.githubusercontent.com)... 185.199.108.133, 185.199.109.133, 185.199.110.133, ...\n",
            "Connecting to gist.githubusercontent.com (gist.githubusercontent.com)|185.199.108.133|:443... connected.\n",
            "HTTP request sent, awaiting response... 200 OK\n",
            "Length: 106 [text/plain]\n",
            "Saving to: ‘user.py’\n",
            "\n",
            "user.py             100%[===================>]     106  --.-KB/s    in 0s      \n",
            "\n",
            "2025-03-24 03:03:57 (2.10 MB/s) - ‘user.py’ saved [106/106]\n",
            "\n",
            "--2025-03-24 03:03:57--  https://gist.github.com/Vs8th/95f7897019a4213c76e5b65234d31e30/raw/etalon.py\n",
            "Resolving gist.github.com (gist.github.com)... 140.82.113.3\n",
            "Connecting to gist.github.com (gist.github.com)|140.82.113.3|:443... connected.\n",
            "HTTP request sent, awaiting response... 301 Moved Permanently\n",
            "Location: https://gist.githubusercontent.com/Vs8th/95f7897019a4213c76e5b65234d31e30/raw/etalon.py [following]\n",
            "--2025-03-24 03:03:57--  https://gist.githubusercontent.com/Vs8th/95f7897019a4213c76e5b65234d31e30/raw/etalon.py\n",
            "Resolving gist.githubusercontent.com (gist.githubusercontent.com)... 185.199.108.133, 185.199.109.133, 185.199.110.133, ...\n",
            "Connecting to gist.githubusercontent.com (gist.githubusercontent.com)|185.199.108.133|:443... connected.\n",
            "HTTP request sent, awaiting response... 200 OK\n",
            "Length: 31 [text/plain]\n",
            "Saving to: ‘etalon.py’\n",
            "\n",
            "etalon.py           100%[===================>]      31  --.-KB/s    in 0s      \n",
            "\n",
            "2025-03-24 03:03:58 (701 KB/s) - ‘etalon.py’ saved [31/31]\n",
            "\n",
            "--2025-03-24 03:03:58--  https://gist.github.com/Vs8th/59f797dfbd33f9a4be1e5ed43bb42f4d/raw/res_cor.txt\n",
            "Resolving gist.github.com (gist.github.com)... 140.82.113.3\n",
            "Connecting to gist.github.com (gist.github.com)|140.82.113.3|:443... connected.\n",
            "HTTP request sent, awaiting response... 301 Moved Permanently\n",
            "Location: https://gist.githubusercontent.com/Vs8th/59f797dfbd33f9a4be1e5ed43bb42f4d/raw/res_cor.txt [following]\n",
            "--2025-03-24 03:03:58--  https://gist.githubusercontent.com/Vs8th/59f797dfbd33f9a4be1e5ed43bb42f4d/raw/res_cor.txt\n",
            "Resolving gist.githubusercontent.com (gist.githubusercontent.com)... 185.199.108.133, 185.199.109.133, 185.199.110.133, ...\n",
            "Connecting to gist.githubusercontent.com (gist.githubusercontent.com)|185.199.108.133|:443... connected.\n",
            "HTTP request sent, awaiting response... 200 OK\n",
            "Length: 355 [text/plain]\n",
            "Saving to: ‘res_cor.txt’\n",
            "\n",
            "res_cor.txt         100%[===================>]     355  --.-KB/s    in 0s      \n",
            "\n",
            "2025-03-24 03:03:58 (16.7 MB/s) - ‘res_cor.txt’ saved [355/355]\n",
            "\n"
          ]
        }
      ],
      "source": [
        "!wget https://gist.github.com/Vs8th/aafed81d81678c807a3ad3dbf93588b2/raw/user.py\n",
        "\n",
        "!wget https://gist.github.com/Vs8th/95f7897019a4213c76e5b65234d31e30/raw/etalon.py\n",
        "\n",
        "!wget https://gist.github.com/Vs8th/59f797dfbd33f9a4be1e5ed43bb42f4d/raw/res_cor.txt"
      ]
    },
    {
      "cell_type": "markdown",
      "source": [
        "Давайте сразу посмотрим с каким кодом мы имеем дело."
      ],
      "metadata": {
        "id": "JIwIK2E5fcyA"
      }
    },
    {
      "cell_type": "code",
      "source": [
        "with open('etalon.py', 'r') as f:\n",
        "    lines = f.readlines()\n",
        "\n",
        "lines"
      ],
      "metadata": {
        "id": "6f84pObFfbGE",
        "colab": {
          "base_uri": "https://localhost:8080/"
        },
        "outputId": "24e9b579-ad3d-4725-e2f4-b538d31f22e3"
      },
      "execution_count": null,
      "outputs": [
        {
          "output_type": "execute_result",
          "data": {
            "text/plain": [
              "['def add(a, b):\\n', '    return a + b']"
            ]
          },
          "metadata": {},
          "execution_count": 2
        }
      ]
    },
    {
      "cell_type": "code",
      "source": [
        "with open('user.py', 'r') as f:\n",
        "    lines2 = f.readlines()\n",
        "\n",
        "lines2"
      ],
      "metadata": {
        "colab": {
          "base_uri": "https://localhost:8080/"
        },
        "id": "zmNFemr6OkB7",
        "outputId": "df8d1ba9-9868-47d0-ec46-3f3ca422ef74"
      },
      "execution_count": null,
      "outputs": [
        {
          "output_type": "execute_result",
          "data": {
            "text/plain": [
              "['def add_numbers(a, b):\\n',\n",
              " '    return a - b  # Ошибка: нужно сложить, а не вычесть']"
            ]
          },
          "metadata": {},
          "execution_count": 3
        }
      ]
    },
    {
      "cell_type": "markdown",
      "source": [
        "### **Решения**"
      ],
      "metadata": {
        "id": "CxmnD3GvffQ4"
      }
    },
    {
      "cell_type": "markdown",
      "source": [
        "#### **Задача 1**\n",
        "\n",
        "Задача не из легких, поэтому начнем по шагам. Для начала напишите функцию `run_tests`, которая прочтет эталонный код и код пользователя из `.py` файлов, выполнит их и сохранит результаты в файл `output.txt`."
      ],
      "metadata": {
        "id": "5bdLXu2ksLB7"
      }
    },
    {
      "cell_type": "markdown",
      "source": [
        "**Решение**\n",
        "\n",
        "Напишите свое решение ниже"
      ],
      "metadata": {
        "id": "qUL4LtIUnJge"
      }
    },
    {
      "cell_type": "code",
      "source": [
        "from importlib import import_module\n",
        "from inspect import isfunction, getmembers, getsource\n",
        "import ast\n",
        "from multiprocessing import Process"
      ],
      "metadata": {
        "id": "wrB-2Ey8WEyZ"
      },
      "execution_count": 26,
      "outputs": []
    },
    {
      "cell_type": "code",
      "source": [
        "class NoneFunction(Exception):\n",
        "  pass"
      ],
      "metadata": {
        "id": "YwjEZJblT-Wj"
      },
      "execution_count": 24,
      "outputs": []
    },
    {
      "cell_type": "code",
      "source": [
        "def run_tests(standard_code, user_code, test_cases, output_file):\n",
        "  \"\"\"\n",
        "  Создает файл в формате txt с результатами проверки кода.\n",
        "\n",
        "    Args:\n",
        "        standart_code: эталонная модель.\n",
        "        user_code: модуль для проверки.\n",
        "        test_cases (list): список данных для тестирования.\n",
        "        output_file: файл в формате txt с результатами проверки.\n",
        "  \"\"\"\n",
        "  #извлекаем функции из модулей, получаем список ответов из тестовых данных\n",
        "  function_etalon = getmembers(standard_code, isfunction)\n",
        "  answers_etalon = [\n",
        "      func(*test) for _, func in function_etalon\n",
        "      for test in test_cases\n",
        "      ]\n",
        "  function_user = getmembers(user_code, isfunction)\n",
        "  answers_user = [\n",
        "      func(*test)\n",
        "      for _, func in function_user\n",
        "      for test in test_cases\n",
        "      ]\n",
        "\n",
        "  #проверяем файл на системные ошибки\n",
        "  #если системных ошибок нет, сверяем эталонные ответы с ответами\n",
        "  #функции студента\n",
        "  for name, func in function_user:\n",
        "    if not name:\n",
        "      check = ['В файле нет функции']\n",
        "      raise NoneFunction(\n",
        "          'Ошибка при выполнении кода пользователя: {error}'.format(\n",
        "              error=check[0]\n",
        "              )\n",
        "          )\n",
        "    else:\n",
        "      check = list(\n",
        "        map(\n",
        "            lambda x, y: 'Тест пройден\\n'\n",
        "            if x == y\n",
        "            else 'Тест не пройден\\nОжидаемый результат: {x}\\nРезультат пользователя: {y}\\n'.format(\n",
        "                x=x, y=y\n",
        "                ),\n",
        "            answers_etalon, answers_user\n",
        "            )\n",
        "        )\n",
        "\n",
        "  with open('output.txt', 'w') as file:\n",
        "    file.writelines(check)\n",
        "\n",
        "\n",
        "# Чтение кодов из файлов\n",
        "standard_module = import_module('etalon')\n",
        "user_module = import_module('user')\n",
        "\n",
        "test_cases = [(1, 2), (3, 4), (5, 6)]\n",
        "output_file = 'output.txt'\n",
        "run_tests(standard_module, user_module, test_cases, output_file)"
      ],
      "metadata": {
        "id": "ymmsa-OaYfKH"
      },
      "execution_count": null,
      "outputs": []
    },
    {
      "cell_type": "markdown",
      "source": [
        "✏️ ✏️ ✏️\n",
        "\n",
        "**Проверка**\n",
        "\n",
        "Чтобы проверить свое решение, запустите код в следующих ячейках"
      ],
      "metadata": {
        "id": "54Tvpn9OkDwV"
      }
    },
    {
      "cell_type": "code",
      "source": [
        "with open('output.txt', 'r') as file1:\n",
        "    res1 = file1.read()\n",
        "\n",
        "with open('res_cor.txt', 'r') as file2:\n",
        "    res2 = file2.read()\n",
        "\n",
        "try:\n",
        "    assert res1 == res2\n",
        "except AssertionError:\n",
        "    print('Ответы не совпадают')\n",
        "else:\n",
        "    print('Поздравляем, Вы справились!')"
      ],
      "metadata": {
        "id": "LkqzVw9skKEC",
        "colab": {
          "base_uri": "https://localhost:8080/"
        },
        "outputId": "c7cad18f-3bfc-4ffb-de54-62a873718125"
      },
      "execution_count": null,
      "outputs": [
        {
          "output_type": "stream",
          "name": "stdout",
          "text": [
            "Поздравляем, Вы справились!\n"
          ]
        }
      ]
    },
    {
      "cell_type": "markdown",
      "source": [
        "#### **Задача 2**\n",
        "\n",
        "Теперь давайте двигаться дальше. Нужно добавить проверку на вредоносный код. Напишите отдельную функцию - `check_for_malicious_code`, которую мы будем вызывать перед проверкой кода."
      ],
      "metadata": {
        "id": "QLNMvvhXoIdV"
      }
    },
    {
      "cell_type": "markdown",
      "source": [
        "Перед написанием кода, выполните следующую ячейку, в ней скачивается новый код пользователя, который проверит работу функции `check_for_malicious_code`."
      ],
      "metadata": {
        "id": "YZ9QLF2YAhUG"
      }
    },
    {
      "cell_type": "code",
      "source": [
        "!wget https://gist.github.com/Vs8th/9f6a2c73c755cfcc088c7835ec4fb2c0/raw/user_malicious.py"
      ],
      "metadata": {
        "id": "KTn16q3wcTTc",
        "colab": {
          "base_uri": "https://localhost:8080/"
        },
        "outputId": "cff4f73b-07d3-4f44-c205-69b922445e18"
      },
      "execution_count": null,
      "outputs": [
        {
          "output_type": "stream",
          "name": "stdout",
          "text": [
            "--2025-03-24 03:04:41--  https://gist.github.com/Vs8th/9f6a2c73c755cfcc088c7835ec4fb2c0/raw/user_malicious.py\n",
            "Resolving gist.github.com (gist.github.com)... 140.82.114.3\n",
            "Connecting to gist.github.com (gist.github.com)|140.82.114.3|:443... connected.\n",
            "HTTP request sent, awaiting response... 301 Moved Permanently\n",
            "Location: https://gist.githubusercontent.com/Vs8th/9f6a2c73c755cfcc088c7835ec4fb2c0/raw/user_malicious.py [following]\n",
            "--2025-03-24 03:04:41--  https://gist.githubusercontent.com/Vs8th/9f6a2c73c755cfcc088c7835ec4fb2c0/raw/user_malicious.py\n",
            "Resolving gist.githubusercontent.com (gist.githubusercontent.com)... 185.199.110.133, 185.199.108.133, 185.199.111.133, ...\n",
            "Connecting to gist.githubusercontent.com (gist.githubusercontent.com)|185.199.110.133|:443... connected.\n",
            "HTTP request sent, awaiting response... 200 OK\n",
            "Length: 117 [text/plain]\n",
            "Saving to: ‘user_malicious.py’\n",
            "\n",
            "user_malicious.py   100%[===================>]     117  --.-KB/s    in 0s      \n",
            "\n",
            "2025-03-24 03:04:41 (5.77 MB/s) - ‘user_malicious.py’ saved [117/117]\n",
            "\n"
          ]
        }
      ]
    },
    {
      "cell_type": "markdown",
      "source": [
        "**Решение**\n",
        "\n",
        "Напишите свое решение ниже"
      ],
      "metadata": {
        "id": "LThhpSINoMHN"
      }
    },
    {
      "cell_type": "code",
      "source": [
        "\n",
        "FORBIDDEN_NAMES = ['eval', 'exec']\n",
        "\n",
        "def check_for_malicious_code(code, module, test_cases):\n",
        "  \"\"\"\n",
        "  Проверяет модуль на синтаксические ошибки и наличие вредоносного кода.\n",
        "  Под вредоносным кодом понимается код, содержаший функции eval и exec\n",
        "\n",
        "    Args:\n",
        "        code (str): программный код.\n",
        "        module: модуль для проверки.\n",
        "        test_cases (list): список данных для тестирования модуля.\n",
        "\n",
        "    Returns:\n",
        "        str: Записи для сохранения в файл в формате txt.\n",
        "  \"\"\"\n",
        "  #проверяем наличие функции в файле\n",
        "  if not code.startswith('def'):\n",
        "    check = ['В файле нет функции']\n",
        "    raise  NoneFunction(\n",
        "        'Ошибка при выполнении кода пользователя: {error}'.format(\n",
        "            error=check[0]\n",
        "            )\n",
        "        )\n",
        "\n",
        "  #проверяем синктаксис\n",
        "  if FORBIDDEN_NAMES[0] not in code and FORBIDDEN_NAMES[1] not in code:\n",
        "    for _, func in module:\n",
        "      for test in test_cases:\n",
        "        try:\n",
        "          func(*test)\n",
        "        except Exception as error:\n",
        "          return 'Код содержит синтаксическую ошибку: {error}'.format(\n",
        "              error=error\n",
        "              )\n",
        "\n",
        "  #проверяем наличие вредоносных функций\n",
        "  tree = ast.parse(code)\n",
        "  for node in ast.walk(tree):\n",
        "    if isinstance(node, ast.Call):\n",
        "      if isinstance(node.func, ast.Name):\n",
        "        if node.func.id == FORBIDDEN_NAMES[0]:\n",
        "          return 'Код содержит вызов {name}()'.format(\n",
        "              name=node.func.id\n",
        "              )\n",
        "        elif node.func.id == FORBIDDEN_NAMES[1]:\n",
        "          return 'Код содержит запрещенный атрибут: {name}'.format(\n",
        "              name=node.func.id\n",
        "              )\n",
        "  return None\n",
        "\n",
        "\n",
        "#def run_tests(standard_code, user_code, test_cases, output_file):\n",
        "\n",
        "    # сюда можете вставить ваш код из прошлой задачи\n",
        "    #...\n",
        "\n",
        "# Чтение кодов из файлов\n",
        "standard_module = import_module('etalon')\n",
        "user_module = import_module('user')\n",
        "\n",
        "test_cases = [(1, 2), (3, 4), (5, 6)]\n",
        "output_file = 'output.txt'\n",
        "# Проверка на вредоносный код\n",
        "malicious_code_message = check_for_malicious_code(\n",
        "    getsource(user_module),\n",
        "    getmembers(user_module, isfunction),\n",
        "    test_cases\n",
        "    )\n",
        "if malicious_code_message:\n",
        "    with open(output_file, 'w') as f:\n",
        "        f.write(\"Ошибка при проверке модуля user_malicious:\\n\")\n",
        "        f.write(malicious_code_message)\n",
        "else:\n",
        "    run_tests(standard_module, user_module, test_cases, output_file)\n"
      ],
      "metadata": {
        "id": "9s8JBMlboJuf"
      },
      "execution_count": null,
      "outputs": []
    },
    {
      "cell_type": "markdown",
      "source": [
        "✏️ ✏️ ✏️\n",
        "\n",
        "**Проверка**\n",
        "\n",
        "Чтобы проверить свое решение, запустите код в следующих ячейках"
      ],
      "metadata": {
        "id": "GN_PNZICsxRD"
      }
    },
    {
      "cell_type": "code",
      "source": [
        "# Здесь будет скачиваться файл с эталонным ответом\n",
        "\n",
        "!wget https://gist.github.com/Vs8th/5197125c5ef1e1b34b7d73adccdaf4bb/raw/cor_output_2.txt"
      ],
      "metadata": {
        "id": "tys9eJRSqcEW",
        "colab": {
          "base_uri": "https://localhost:8080/"
        },
        "outputId": "6870359c-a8ff-4e20-b074-aa67938f92b1"
      },
      "execution_count": null,
      "outputs": [
        {
          "output_type": "stream",
          "name": "stdout",
          "text": [
            "--2025-03-24 03:39:53--  https://gist.github.com/Vs8th/5197125c5ef1e1b34b7d73adccdaf4bb/raw/cor_output_2.txt\n",
            "Resolving gist.github.com (gist.github.com)... 140.82.112.3\n",
            "Connecting to gist.github.com (gist.github.com)|140.82.112.3|:443... connected.\n",
            "HTTP request sent, awaiting response... 301 Moved Permanently\n",
            "Location: https://gist.githubusercontent.com/Vs8th/5197125c5ef1e1b34b7d73adccdaf4bb/raw/cor_output_2.txt [following]\n",
            "--2025-03-24 03:39:54--  https://gist.githubusercontent.com/Vs8th/5197125c5ef1e1b34b7d73adccdaf4bb/raw/cor_output_2.txt\n",
            "Resolving gist.githubusercontent.com (gist.githubusercontent.com)... 185.199.108.133, 185.199.109.133, 185.199.110.133, ...\n",
            "Connecting to gist.githubusercontent.com (gist.githubusercontent.com)|185.199.108.133|:443... connected.\n",
            "HTTP request sent, awaiting response... 200 OK\n",
            "Length: 107 [text/plain]\n",
            "Saving to: ‘cor_output_2.txt’\n",
            "\n",
            "cor_output_2.txt    100%[===================>]     107  --.-KB/s    in 0s      \n",
            "\n",
            "2025-03-24 03:39:54 (1.96 MB/s) - ‘cor_output_2.txt’ saved [107/107]\n",
            "\n"
          ]
        }
      ]
    },
    {
      "cell_type": "code",
      "source": [
        "with open('output2.txt', 'r') as file1:\n",
        "    res1 = file1.read()\n",
        "\n",
        "with open('cor_output_2.txt', 'r') as file2:\n",
        "    res2 = file2.read()\n",
        "\n",
        "try:\n",
        "    assert res1== res2\n",
        "except AssertionError:\n",
        "    print('Ответы не совпадают')\n",
        "else:\n",
        "    print('Поздравляем, Вы справились!')"
      ],
      "metadata": {
        "colab": {
          "base_uri": "https://localhost:8080/"
        },
        "id": "1GWodeoioj0p",
        "outputId": "b5e06205-c8c5-412b-cf64-9a83325fb9a8"
      },
      "execution_count": null,
      "outputs": [
        {
          "output_type": "stream",
          "name": "stdout",
          "text": [
            "Поздравляем, Вы справились!\n"
          ]
        }
      ]
    },
    {
      "cell_type": "markdown",
      "source": [
        "#### **Задача 3**\n",
        "\n",
        "Движемся дальше - последнее, что нам нужно проверить - время выполнения. Если время выполнения превышает 5 секунд, уведомите об этом пользователя и остановите выполнение проверки."
      ],
      "metadata": {
        "id": "AwB-HtPLtjyl"
      }
    },
    {
      "cell_type": "markdown",
      "source": [
        "Перед написанием кода, выполните следующую ячейку, в ней скачивается новый код пользователя, который проверит работу проверки на время выполнения."
      ],
      "metadata": {
        "id": "ibykgbg_BEJS"
      }
    },
    {
      "cell_type": "code",
      "source": [
        "!wget https://gist.github.com/Vs8th/4aba49489a8b0843ef85c4a1a93f923d/raw/user_inf.py"
      ],
      "metadata": {
        "id": "8N4EK36Erkic",
        "colab": {
          "base_uri": "https://localhost:8080/"
        },
        "outputId": "a7091d52-31ce-49c6-e2f7-6ef45c4ee932"
      },
      "execution_count": null,
      "outputs": [
        {
          "output_type": "stream",
          "name": "stdout",
          "text": [
            "--2025-03-24 03:44:33--  https://gist.github.com/Vs8th/4aba49489a8b0843ef85c4a1a93f923d/raw/user_inf.py\n",
            "Resolving gist.github.com (gist.github.com)... 140.82.114.4\n",
            "Connecting to gist.github.com (gist.github.com)|140.82.114.4|:443... connected.\n",
            "HTTP request sent, awaiting response... 301 Moved Permanently\n",
            "Location: https://gist.githubusercontent.com/Vs8th/4aba49489a8b0843ef85c4a1a93f923d/raw/user_inf.py [following]\n",
            "--2025-03-24 03:44:34--  https://gist.githubusercontent.com/Vs8th/4aba49489a8b0843ef85c4a1a93f923d/raw/user_inf.py\n",
            "Resolving gist.githubusercontent.com (gist.githubusercontent.com)... 185.199.108.133, 185.199.109.133, 185.199.110.133, ...\n",
            "Connecting to gist.githubusercontent.com (gist.githubusercontent.com)|185.199.108.133|:443... connected.\n",
            "HTTP request sent, awaiting response... 200 OK\n",
            "Length: 55 [text/plain]\n",
            "Saving to: ‘user_inf.py’\n",
            "\n",
            "user_inf.py         100%[===================>]      55  --.-KB/s    in 0s      \n",
            "\n",
            "2025-03-24 03:44:34 (2.36 MB/s) - ‘user_inf.py’ saved [55/55]\n",
            "\n"
          ]
        }
      ]
    },
    {
      "cell_type": "markdown",
      "source": [
        "**Решение**\n",
        "\n",
        "Напишите свое решение ниже"
      ],
      "metadata": {
        "id": "GOTB--hmt2xw"
      }
    },
    {
      "cell_type": "code",
      "source": [
        "\n",
        "FORBIDDEN_NAMES = ['eval']\n",
        "\n",
        "def check_for_malicious_code(code, module, test_cases):\n",
        "  \"\"\"\n",
        "  Проверяет модуль на синтаксические ошибки и наличие вредоносного кода.\n",
        "  Под вредоносным кодом понимается код, содержаший функцию eval.\n",
        "\n",
        "    Args:\n",
        "        code (str): программный код.\n",
        "        module: модуль для проверки.\n",
        "        test_cases (list): список данных для тестирования модуля.\n",
        "\n",
        "    Returns:\n",
        "        str: Записи для сохранения в файл в формате txt.\n",
        "  \"\"\"\n",
        "  #проверяем наличие функции в файле\n",
        "  if not code.startswith('def'):\n",
        "    check = ['В файле нет функции']\n",
        "    raise  NoneFunction(\n",
        "        'Ошибка при выполнении кода пользователя: {error}'.format(\n",
        "            error=check[0]\n",
        "            )\n",
        "        )\n",
        "\n",
        "  #проверяем синктаксис\n",
        "  if FORBIDDEN_NAMES[0] not in code:\n",
        "    for _, func in module:\n",
        "      for test in test_cases:\n",
        "        try:\n",
        "          process = Process(target=func, args=test)\n",
        "          process.start()\n",
        "          process.join(timeout=5)\n",
        "          if process.is_alive():\n",
        "            return 'Предупреждение: время выполнения превышает 5 секунд.'\n",
        "        except Exception as error:\n",
        "          return 'Код содержит синтаксическую ошибку: {error}'.format(\n",
        "              error=error\n",
        "              )\n",
        "\n",
        "  #проверяем наличие вредоносных функций\n",
        "  tree = ast.parse(code)\n",
        "  for node in ast.walk(tree):\n",
        "    if isinstance(node, ast.Call):\n",
        "      if isinstance(node.func, ast.Name):\n",
        "        if node.func.id == FORBIDDEN_NAMES[0]:\n",
        "          return 'Код содержит вызов {name}()'.format(\n",
        "              name=node.func.id\n",
        "              )\n",
        "\n",
        "  return None\n",
        "\n",
        "#def run_tests(standard_code, user_code, test_cases, output_file):\n",
        "\n",
        "    # сюда можете вставить ваш код из прошлой задачи\n",
        "    # в него необходимо будет добавить проверку на время выполнения\n",
        "   #...\n",
        "\n",
        "\n",
        "# Чтение кодов из файлов\n",
        "standard_module = import_module('etalon')\n",
        "user_module = import_module('user_inf')\n",
        "\n",
        "test_cases = [(1, 2), (3, 4), (5, 6)]\n",
        "output_file = 'output3.txt'\n",
        "# Проверка на вредоносный код\n",
        "malicious_code_message = check_for_malicious_code(\n",
        "      getsource(user_module),\n",
        "      getmembers(user_module, isfunction),\n",
        "      test_cases\n",
        "  )\n",
        "\n",
        "if malicious_code_message:\n",
        "    with open(output_file, 'w') as f:\n",
        "       # f.write(\"Ошибка при проверке модуля user_malicious:\\n\")\n",
        "        f.write(malicious_code_message)\n",
        "else:\n",
        "    run_tests(standard_module, user_module, test_cases, output_file)\n"
      ],
      "metadata": {
        "id": "fz7nRb_ntKMv"
      },
      "execution_count": 36,
      "outputs": []
    },
    {
      "cell_type": "markdown",
      "source": [
        "✏️ ✏️ ✏️\n",
        "\n",
        "**Проверка**\n",
        "\n",
        "Чтобы проверить свое решение, запустите код в следующих ячейках"
      ],
      "metadata": {
        "id": "0-7TiI06t8D0"
      }
    },
    {
      "cell_type": "code",
      "source": [
        "# Здесь будет скачиваться файл с эталонным ответом\n",
        "\n",
        "!wget https://gist.github.com/Vs8th/cfcafbd2cd46e8905555b02eae78406e/raw/cor_res_3.txt"
      ],
      "metadata": {
        "id": "eOzvKzYqt_UH",
        "colab": {
          "base_uri": "https://localhost:8080/"
        },
        "outputId": "1d3eed85-2813-47a6-fb25-f9698c875075"
      },
      "execution_count": 33,
      "outputs": [
        {
          "output_type": "stream",
          "name": "stdout",
          "text": [
            "--2025-03-24 04:59:10--  https://gist.github.com/Vs8th/cfcafbd2cd46e8905555b02eae78406e/raw/cor_res_3.txt\n",
            "Resolving gist.github.com (gist.github.com)... 140.82.113.3\n",
            "Connecting to gist.github.com (gist.github.com)|140.82.113.3|:443... connected.\n",
            "HTTP request sent, awaiting response... 301 Moved Permanently\n",
            "Location: https://gist.githubusercontent.com/Vs8th/cfcafbd2cd46e8905555b02eae78406e/raw/cor_res_3.txt [following]\n",
            "--2025-03-24 04:59:10--  https://gist.githubusercontent.com/Vs8th/cfcafbd2cd46e8905555b02eae78406e/raw/cor_res_3.txt\n",
            "Resolving gist.githubusercontent.com (gist.githubusercontent.com)... 185.199.108.133, 185.199.109.133, 185.199.110.133, ...\n",
            "Connecting to gist.githubusercontent.com (gist.githubusercontent.com)|185.199.108.133|:443... connected.\n",
            "HTTP request sent, awaiting response... 200 OK\n",
            "Length: 96 [text/plain]\n",
            "Saving to: ‘cor_res_3.txt’\n",
            "\n",
            "cor_res_3.txt       100%[===================>]      96  --.-KB/s    in 0s      \n",
            "\n",
            "2025-03-24 04:59:10 (5.05 MB/s) - ‘cor_res_3.txt’ saved [96/96]\n",
            "\n"
          ]
        }
      ]
    },
    {
      "cell_type": "code",
      "source": [
        "with open('output3.txt', 'r') as file1:\n",
        "    res1 = file1.read()\n",
        "\n",
        "with open('cor_res_3.txt', 'r') as file2:\n",
        "    res2 = file2.read()\n",
        "\n",
        "try:\n",
        "    assert res1 == res2\n",
        "except AssertionError:\n",
        "    print('Ответы не совпадают')\n",
        "else:\n",
        "    print('Поздравляем, Вы справились!')"
      ],
      "metadata": {
        "colab": {
          "base_uri": "https://localhost:8080/"
        },
        "id": "KzV-hUKcvxb2",
        "outputId": "53037374-3b45-4cee-8e88-0bf66c35964f"
      },
      "execution_count": 37,
      "outputs": [
        {
          "output_type": "stream",
          "name": "stdout",
          "text": [
            "Поздравляем, Вы справились!\n"
          ]
        }
      ]
    },
    {
      "cell_type": "code",
      "source": [],
      "metadata": {
        "id": "hOoDBgK7sqMK"
      },
      "execution_count": null,
      "outputs": []
    }
  ]
}