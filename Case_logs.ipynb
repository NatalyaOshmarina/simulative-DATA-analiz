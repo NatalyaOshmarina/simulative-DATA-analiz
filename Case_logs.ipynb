{
  "nbformat": 4,
  "nbformat_minor": 0,
  "metadata": {
    "colab": {
      "provenance": []
    },
    "kernelspec": {
      "name": "python3",
      "display_name": "Python 3"
    },
    "language_info": {
      "name": "python"
    }
  },
  "cells": [
    {
      "cell_type": "markdown",
      "source": [
        "## **1 кейс**\n",
        "\n",
        "**Работа с логами**"
      ],
      "metadata": {
        "id": "XUqCUBW5fUST"
      }
    },
    {
      "cell_type": "markdown",
      "source": [
        "**Важно**\n",
        "\n",
        "Перед началом решения выполните следующую ячейку, чтобы загрузить необходимый для работы файл."
      ],
      "metadata": {
        "id": "OcK9kF9mfZIt"
      }
    },
    {
      "cell_type": "code",
      "execution_count": 1,
      "metadata": {
        "id": "KtNBw8nOfPsB",
        "outputId": "460c00aa-c833-4b79-e9eb-499d46a39d19",
        "colab": {
          "base_uri": "https://localhost:8080/"
        }
      },
      "outputs": [
        {
          "output_type": "stream",
          "name": "stdout",
          "text": [
            "--2025-03-18 03:33:42--  https://gist.github.com/Vs8th/38d5d914171c84166728a9746d212bad/raw/auto_purchase.log\n",
            "Resolving gist.github.com (gist.github.com)... 140.82.113.4\n",
            "Connecting to gist.github.com (gist.github.com)|140.82.113.4|:443... connected.\n",
            "HTTP request sent, awaiting response... 301 Moved Permanently\n",
            "Location: https://gist.githubusercontent.com/Vs8th/38d5d914171c84166728a9746d212bad/raw/auto_purchase.log [following]\n",
            "--2025-03-18 03:33:43--  https://gist.githubusercontent.com/Vs8th/38d5d914171c84166728a9746d212bad/raw/auto_purchase.log\n",
            "Resolving gist.githubusercontent.com (gist.githubusercontent.com)... 185.199.108.133, 185.199.109.133, 185.199.110.133, ...\n",
            "Connecting to gist.githubusercontent.com (gist.githubusercontent.com)|185.199.108.133|:443... connected.\n",
            "HTTP request sent, awaiting response... 200 OK\n",
            "Length: 459418 (449K) [text/plain]\n",
            "Saving to: ‘auto_purchase.log’\n",
            "\n",
            "auto_purchase.log   100%[===================>] 448.65K  --.-KB/s    in 0.05s   \n",
            "\n",
            "2025-03-18 03:33:43 (9.14 MB/s) - ‘auto_purchase.log’ saved [459418/459418]\n",
            "\n"
          ]
        }
      ],
      "source": [
        "!wget https://gist.github.com/Vs8th/38d5d914171c84166728a9746d212bad/raw/auto_purchase.log"
      ]
    },
    {
      "cell_type": "markdown",
      "source": [
        "Чтобы посмотреть как он выглядит выполните следующую ячейку."
      ],
      "metadata": {
        "id": "JIwIK2E5fcyA"
      }
    },
    {
      "cell_type": "code",
      "source": [
        "with open('auto_purchase.log', 'r') as f:\n",
        "    lines = f.readlines()\n",
        "\n",
        "for line in lines[:15]:\n",
        "    print(line)"
      ],
      "metadata": {
        "id": "6f84pObFfbGE",
        "colab": {
          "base_uri": "https://localhost:8080/"
        },
        "outputId": "971215b7-9d73-46fb-a778-a60504f4057f"
      },
      "execution_count": null,
      "outputs": [
        {
          "output_type": "stream",
          "name": "stdout",
          "text": [
            "INFO  | 2022-07-19 16:46:43,708  | file: demon_auto_purchase_bundle.py |  line: 44 | [demon] Поверяем истекающие премиум-пакеты\n",
            "\n",
            "INFO  | 2022-07-19 16:46:43,722  | file: demon_auto_purchase_bundle.py |  line: 54 | [demon] Cегодня 2022-07-19, количество людей с автопродлением подписки: 1\n",
            "\n",
            "INFO  | 2022-07-19 16:46:43,723  | file: demon_auto_purchase_bundle.py |  line: 61 | [demon] Обновляем подписку пользователю id: 63, payment_method_id: 2a68f0fe\n",
            "\n",
            "INFO  | 2022-07-19 17:05:32,925  | file: demon_auto_purchase_bundle.py |  line: 44 | [demon] Поверяем истекающие премиум-пакеты\n",
            "\n",
            "INFO  | 2022-07-19 17:05:32,944  | file: demon_auto_purchase_bundle.py |  line: 54 | [demon] Cегодня 2022-07-19, количество людей с автопродлением подписки: 1\n",
            "\n",
            "INFO  | 2022-07-19 17:05:32,947  | file: demon_auto_purchase_bundle.py |  line: 61 | [demon] Обновляем подписку пользователю id: 63, payment_method_id: 2a68f0fe\n",
            "\n",
            "INFO  | 2022-07-20 00:01:02,711  | file: demon_auto_purchase_bundle.py |  line: 44 | [demon] Поверяем истекающие премиум-пакеты\n",
            "\n",
            "INFO  | 2022-07-20 00:01:02,728  | file: demon_auto_purchase_bundle.py |  line: 54 | [demon] Cегодня 2022-07-20, количество людей с автопродлением подписки: 0\n",
            "\n",
            "INFO  | 2022-07-20 00:01:02,730  | file: demon_auto_purchase_bundle.py |  line: 57 | [demon] Выход из программы\n",
            "\n",
            "INFO  | 2022-07-21 00:01:02,244  | file: demon_auto_purchase_bundle.py |  line: 44 | [demon] Поверяем истекающие премиум-пакеты\n",
            "\n",
            "INFO  | 2022-07-21 00:01:02,262  | file: demon_auto_purchase_bundle.py |  line: 54 | [demon] Cегодня 2022-07-21, количество людей с автопродлением подписки: 0\n",
            "\n",
            "INFO  | 2022-07-21 00:01:02,264  | file: demon_auto_purchase_bundle.py |  line: 57 | [demon] Выход из программы\n",
            "\n",
            "INFO  | 2022-07-22 00:01:02,271  | file: demon_auto_purchase_bundle.py |  line: 44 | [demon] Поверяем истекающие премиум-пакеты\n",
            "\n",
            "INFO  | 2022-07-22 00:01:02,286  | file: demon_auto_purchase_bundle.py |  line: 54 | [demon] Cегодня 2022-07-22, количество людей с автопродлением подписки: 0\n",
            "\n",
            "INFO  | 2022-07-22 00:01:02,288  | file: demon_auto_purchase_bundle.py |  line: 57 | [demon] Выход из программы\n",
            "\n"
          ]
        }
      ]
    },
    {
      "cell_type": "markdown",
      "source": [
        "### **Решения**"
      ],
      "metadata": {
        "id": "CxmnD3GvffQ4"
      }
    },
    {
      "cell_type": "markdown",
      "source": [
        "#### **Задача 1**\n",
        "\n",
        "Ваша задача написать функцию `count_success_and_failure`, которая принимает на вход путь к файлу с логами и подсчитывает количество успешных продлений и ошибок при списании. Функция должна вернуть кортеж из двух значений: количества успешных попыток и неуспешных."
      ],
      "metadata": {
        "id": "5bdLXu2ksLB7"
      }
    },
    {
      "cell_type": "markdown",
      "source": [
        "**Решение**\n",
        "\n",
        "Напишите свое решение ниже"
      ],
      "metadata": {
        "id": "qUL4LtIUnJge"
      }
    },
    {
      "cell_type": "code",
      "source": [
        "def count_success_and_failure(file_path):\n",
        "\n",
        "    with open(file_path, 'r') as file:\n",
        "      reader = file.readlines()\n",
        "      return len([\n",
        "          row for i, row in enumerate(reader) if (i < len(reader) - 1 and 'Обновляем подписку' in row and not reader[i+1].startswith('ERROR')) or\n",
        "           ('Обновляем подписку' in row and i >= len(reader) - 1)\n",
        "          ]), len([\n",
        "              row for row in reader if row.startswith('ERROR')])\n",
        "\n",
        "count_success_and_failure('auto_purchase.log')"
      ],
      "metadata": {
        "id": "Ia39hhmZbNRW",
        "colab": {
          "base_uri": "https://localhost:8080/"
        },
        "outputId": "867989f9-9e85-46a2-9d6d-a1b635c8ee8e"
      },
      "execution_count": null,
      "outputs": [
        {
          "output_type": "execute_result",
          "data": {
            "text/plain": [
              "(1034, 186)"
            ]
          },
          "metadata": {},
          "execution_count": 72
        }
      ]
    },
    {
      "cell_type": "markdown",
      "source": [
        "✏️ ✏️ ✏️\n",
        "\n",
        "**Проверка**\n",
        "\n",
        "Чтобы проверить свое решение, запустите код в следующих ячейках"
      ],
      "metadata": {
        "id": "54Tvpn9OkDwV"
      }
    },
    {
      "cell_type": "code",
      "source": [
        "res = count_success_and_failure('auto_purchase.log')\n",
        "\n",
        "try:\n",
        "    assert res == (1034, 186)\n",
        "except AssertionError:\n",
        "    print('Ответы не совпадают')\n",
        "else:\n",
        "    print('Поздравляем, Вы справились!')"
      ],
      "metadata": {
        "id": "LkqzVw9skKEC",
        "colab": {
          "base_uri": "https://localhost:8080/"
        },
        "outputId": "b8327e66-bb37-4367-8dc8-3768b5f4f037"
      },
      "execution_count": null,
      "outputs": [
        {
          "output_type": "stream",
          "name": "stdout",
          "text": [
            "Поздравляем, Вы справились!\n"
          ]
        }
      ]
    },
    {
      "cell_type": "markdown",
      "source": [
        "#### **Задача 2**\n",
        "\n",
        "Ваша задача написать функцию `auto_renewal_sub`, которая принимает на вход путь к файлу с логами и обрабатывает количество клиентов с автопродлением подписки. Мы хотим посмотреть на изменение этого показателя в динамике: посчитайте сглаженные значения с помощью метода скользящего среднего и метода медианного сглаживания.  \n",
        "\n",
        "**Примечание:** При сглаживании берем все предыдущие значения, включая текущее, будущие значения не берем. Если в один день наблюдаем несколько записей об автопродлении - берем максимальное из имеющихся число клиентов с подпиской.\n",
        "\n",
        "Функция должна записать в файл `auto_renewal_sub.txt` два списка, предварив их соответствущими обозначениями:\n",
        "\n",
        "`Среднее: [2.0, 1.0, 0.67...]`\n",
        "\n",
        "`Медиана: [2, 2, 0...]`"
      ],
      "metadata": {
        "id": "QLNMvvhXoIdV"
      }
    },
    {
      "cell_type": "markdown",
      "source": [
        "**Решение**\n",
        "\n",
        "Напишите свое решение ниже"
      ],
      "metadata": {
        "id": "LThhpSINoMHN"
      }
    },
    {
      "cell_type": "code",
      "source": [
        "from collections import defaultdict"
      ],
      "metadata": {
        "id": "uWLfhQ3DURWA"
      },
      "execution_count": 2,
      "outputs": []
    },
    {
      "cell_type": "code",
      "source": [
        "def get_max(cnt_users):\n",
        "  grouped = defaultdict(list)\n",
        "  for key, value in cnt_users:\n",
        "    grouped[key].append(value)\n",
        "  return [max(values) for values in grouped.values()]\n",
        "\n",
        "def get_avg(cnt_users):\n",
        "  for i in range(len(cnt_users)):\n",
        "      avg = sum(cnt_users[:i+1]) / (len(cnt_users[:i]) + 1)\n",
        "      yield round(avg, 2)\n",
        "\n",
        "def get_median(cnt_users):\n",
        "  for i in range(len(cnt_users)):\n",
        "    if (len(cnt_users[:i]) + 1) % 2 == 1:  # Если количество элементов нечетное\n",
        "        median = sorted(cnt_users[:i+1])[(len(cnt_users[:i]) + 1) // 2]\n",
        "    else:  # Если количество элементов четное\n",
        "        middle1 = sorted(cnt_users[:i+1])[(len(cnt_users[:i]) + 1) // 2 - 1]\n",
        "        middle2 = sorted(cnt_users[:i+1])[(len(cnt_users[:i]) + 1) // 2]\n",
        "        median = (middle1 + middle2) / 2\n",
        "    yield int(median)\n",
        "\n",
        "def auto_renewal_sub(log_file_path):\n",
        "  with open(log_file_path, 'r') as file:\n",
        "      reader = file.readlines()\n",
        "\n",
        "  cnt_users = [(row.split('|')[4].split(' ')[3].strip(','), int(row.split(' ')[-1])) for row in reader if 'количество людей' in row]\n",
        "  max_cnt_users = get_max(cnt_users)\n",
        "\n",
        "  avg = list(get_avg(max_cnt_users))\n",
        "  median = list(get_median(max_cnt_users))\n",
        "\n",
        "  with open('auto_renewal_sub.txt', 'w') as file:\n",
        "    file.write('Среднее: {avg}\\nМедиана: {median}'.format(avg=avg, median=median))\n",
        "\n",
        "auto_renewal_sub('auto_purchase.log')"
      ],
      "metadata": {
        "id": "9s8JBMlboJuf"
      },
      "execution_count": 37,
      "outputs": []
    },
    {
      "cell_type": "markdown",
      "source": [
        "✏️ ✏️ ✏️\n",
        "\n",
        "**Проверка**\n",
        "\n",
        "Чтобы проверить свое решение, запустите код в следующих ячейках"
      ],
      "metadata": {
        "id": "GN_PNZICsxRD"
      }
    },
    {
      "cell_type": "code",
      "source": [
        "# Здесь будет скачиваться файл с эталонным ответом\n",
        "\n",
        "!wget https://gist.github.com/Vs8th/846cbc97a722ab825cda4dda3b2b3434/raw/cor_auto_renewal.txt\n",
        "\n",
        "import pandas as pd\n",
        "\n",
        "user_answer = pd.read_csv('auto_renewal_sub.txt')\n",
        "correct_answer = pd.read_csv('cor_auto_renewal.txt')"
      ],
      "metadata": {
        "id": "tys9eJRSqcEW",
        "collapsed": true,
        "outputId": "fc24c094-3c6f-4fde-9548-3c0e5a215fc8",
        "colab": {
          "base_uri": "https://localhost:8080/"
        }
      },
      "execution_count": 38,
      "outputs": [
        {
          "output_type": "stream",
          "name": "stdout",
          "text": [
            "--2025-03-18 05:26:55--  https://gist.github.com/Vs8th/846cbc97a722ab825cda4dda3b2b3434/raw/cor_auto_renewal.txt\n",
            "Resolving gist.github.com (gist.github.com)... 140.82.113.4\n",
            "Connecting to gist.github.com (gist.github.com)|140.82.113.4|:443... connected.\n",
            "HTTP request sent, awaiting response... 301 Moved Permanently\n",
            "Location: https://gist.githubusercontent.com/Vs8th/846cbc97a722ab825cda4dda3b2b3434/raw/cor_auto_renewal.txt [following]\n",
            "--2025-03-18 05:26:56--  https://gist.githubusercontent.com/Vs8th/846cbc97a722ab825cda4dda3b2b3434/raw/cor_auto_renewal.txt\n",
            "Resolving gist.githubusercontent.com (gist.githubusercontent.com)... 185.199.108.133, 185.199.111.133, 185.199.109.133, ...\n",
            "Connecting to gist.githubusercontent.com (gist.githubusercontent.com)|185.199.108.133|:443... connected.\n",
            "HTTP request sent, awaiting response... 200 OK\n",
            "Length: 2431 (2.4K) [text/plain]\n",
            "Saving to: ‘cor_auto_renewal.txt’\n",
            "\n",
            "cor_auto_renewal.tx 100%[===================>]   2.37K  --.-KB/s    in 0s      \n",
            "\n",
            "2025-03-18 05:26:56 (27.8 MB/s) - ‘cor_auto_renewal.txt’ saved [2431/2431]\n",
            "\n"
          ]
        }
      ]
    },
    {
      "cell_type": "code",
      "source": [
        "try:\n",
        "  assert (user_answer == correct_answer).all().all(), 'Ответы не совпадают'\n",
        "except Exception as err:\n",
        "  raise AssertionError(f'При проверке возникла ошибка {repr(err)}')\n",
        "else:\n",
        "  print('Поздравляем, Вы справились и успешно прошли все проверки!!')"
      ],
      "metadata": {
        "colab": {
          "base_uri": "https://localhost:8080/"
        },
        "id": "a36bM9j9tD7l",
        "outputId": "140211d4-d0b3-45b4-8ff7-2663582b58fb"
      },
      "execution_count": 39,
      "outputs": [
        {
          "output_type": "stream",
          "name": "stdout",
          "text": [
            "Поздравляем, Вы справились и успешно прошли все проверки!!\n"
          ]
        }
      ]
    },
    {
      "cell_type": "markdown",
      "source": [
        "#### **Задача 3**\n",
        "\n",
        "Напишите функцию `sub_renewal_by_day`, которая принимает на вход путь к файлу с логами и анализирует взаимосвязь дня продления подписки и количества продлений в этот день. Функция должна записать в файл `weekdays.txt` аналитическую записку в формате:\n",
        "\n",
        "**`Количество обновлений подписки по дням недели:`**\n",
        "\n",
        "**`Понедельник: 6`**\n",
        "\n",
        "**`Вторник: 7`**\n",
        "\n",
        "**`Среда: 8`**\n",
        "\n",
        "**`...`**"
      ],
      "metadata": {
        "id": "AwB-HtPLtjyl"
      }
    },
    {
      "cell_type": "markdown",
      "source": [
        "**Решение**\n",
        "\n",
        "Напишите свое решение ниже"
      ],
      "metadata": {
        "id": "GOTB--hmt2xw"
      }
    },
    {
      "cell_type": "code",
      "source": [
        "from datetime import datetime\n",
        "from collections import Counter"
      ],
      "metadata": {
        "id": "R-PvUihFkxDe"
      },
      "execution_count": 28,
      "outputs": []
    },
    {
      "cell_type": "code",
      "source": [
        "def sub_renewal_by_day(file_path):\n",
        "  with open(file_path, 'r') as file:\n",
        "    reader = file.readlines()\n",
        "\n",
        "  cnt_users = [\n",
        "          datetime.strptime(row.split('|')[1].split(' ')[1], '%Y-%m-%d').isoweekday() for i, row in enumerate(reader)\n",
        "          if (i < len(reader) - 1 and 'Обновляем подписку' in row and not reader[i+1].startswith('ERROR'))\n",
        "          or ('Обновляем подписку' in row and i >= len(reader) - 1)\n",
        "          ]\n",
        "  cnt_by_week = Counter(cnt_users)\n",
        "\n",
        "  with open('weekdays.txt', 'w') as file:\n",
        "    file.write(\n",
        "        'Понедельник: {monday}\\nВторник: {tuesday}\\nСреда: {wednesday}\\nЧетверг: {thursday}\\nПятница: {friday}\\nСуббота: {saturday}\\nВоскресенье: {sunday}'.format(\n",
        "            monday=cnt_by_week[1],\n",
        "            tuesday=cnt_by_week[2],\n",
        "            wednesday=cnt_by_week[3],\n",
        "            thursday=cnt_by_week[4],\n",
        "            friday=cnt_by_week[5],\n",
        "            saturday=cnt_by_week[6],\n",
        "            sunday=cnt_by_week[7]\n",
        "            )\n",
        "        )\n",
        "\n",
        "sub_renewal_by_day('auto_purchase.log')"
      ],
      "metadata": {
        "id": "fz7nRb_ntKMv"
      },
      "execution_count": 35,
      "outputs": []
    },
    {
      "cell_type": "markdown",
      "source": [
        "✏️ ✏️ ✏️\n",
        "\n",
        "**Проверка**\n",
        "\n",
        "Чтобы проверить свое решение, запустите код в следующих ячейках"
      ],
      "metadata": {
        "id": "0-7TiI06t8D0"
      }
    },
    {
      "cell_type": "code",
      "source": [
        "# Здесь будет скачиваться файл с эталонным ответом\n",
        "\n",
        "!wget https://gist.github.com/Vs8th/c4c382f50761b5b9e64795eb89d49fda/raw/cor_weekdays.txt\n",
        "\n",
        "import pandas as pd\n",
        "\n",
        "user_answer = pd.read_csv('weekdays.txt')\n",
        "correct_answer = pd.read_csv('cor_weekdays.txt')"
      ],
      "metadata": {
        "id": "eOzvKzYqt_UH",
        "colab": {
          "base_uri": "https://localhost:8080/"
        },
        "outputId": "55ea95f6-d452-450c-bad3-1232b3e1b1cf"
      },
      "execution_count": 36,
      "outputs": [
        {
          "output_type": "stream",
          "name": "stdout",
          "text": [
            "--2025-03-18 05:25:27--  https://gist.github.com/Vs8th/c4c382f50761b5b9e64795eb89d49fda/raw/cor_weekdays.txt\n",
            "Resolving gist.github.com (gist.github.com)... 140.82.113.3\n",
            "Connecting to gist.github.com (gist.github.com)|140.82.113.3|:443... connected.\n",
            "HTTP request sent, awaiting response... 301 Moved Permanently\n",
            "Location: https://gist.githubusercontent.com/Vs8th/c4c382f50761b5b9e64795eb89d49fda/raw/cor_weekdays.txt [following]\n",
            "--2025-03-18 05:25:27--  https://gist.githubusercontent.com/Vs8th/c4c382f50761b5b9e64795eb89d49fda/raw/cor_weekdays.txt\n",
            "Resolving gist.githubusercontent.com (gist.githubusercontent.com)... 185.199.108.133, 185.199.109.133, 185.199.110.133, ...\n",
            "Connecting to gist.githubusercontent.com (gist.githubusercontent.com)|185.199.108.133|:443... connected.\n",
            "HTTP request sent, awaiting response... 200 OK\n",
            "Length: 238 [text/plain]\n",
            "Saving to: ‘cor_weekdays.txt’\n",
            "\n",
            "cor_weekdays.txt    100%[===================>]     238  --.-KB/s    in 0s      \n",
            "\n",
            "2025-03-18 05:25:28 (7.20 MB/s) - ‘cor_weekdays.txt’ saved [238/238]\n",
            "\n"
          ]
        }
      ]
    },
    {
      "cell_type": "code",
      "source": [
        "try:\n",
        "  assert (user_answer == correct_answer).all().all(), 'Ответы не совпадают'\n",
        "except Exception as err:\n",
        "  raise AssertionError(f'При проверке возникла ошибка {repr(err)}')\n",
        "else:\n",
        "  print('Поздравляем, Вы справились и успешно прошли все проверки!!')"
      ],
      "metadata": {
        "colab": {
          "base_uri": "https://localhost:8080/"
        },
        "id": "KzV-hUKcvxb2",
        "outputId": "56f6f0b7-44b8-472c-926c-8037fcd43069"
      },
      "execution_count": null,
      "outputs": [
        {
          "output_type": "stream",
          "name": "stdout",
          "text": [
            "Поздравляем, Вы справились и успешно прошли все проверки!!\n"
          ]
        }
      ]
    }
  ]
}