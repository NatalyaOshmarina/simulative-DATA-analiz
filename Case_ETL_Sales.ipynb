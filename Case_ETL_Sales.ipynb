{
  "nbformat": 4,
  "nbformat_minor": 0,
  "metadata": {
    "colab": {
      "provenance": []
    },
    "kernelspec": {
      "name": "python3",
      "display_name": "Python 3"
    },
    "language_info": {
      "name": "python"
    }
  },
  "cells": [
    {
      "cell_type": "markdown",
      "source": [
        "## **1 кейс**\n",
        "\n",
        "**ETL продажи**"
      ],
      "metadata": {
        "id": "XUqCUBW5fUST"
      }
    },
    {
      "cell_type": "markdown",
      "source": [
        "**Важно**\n",
        "\n",
        "Перед началом решения выполните следующую ячейку, чтобы загрузить необходимый для работы файл."
      ],
      "metadata": {
        "id": "OcK9kF9mfZIt"
      }
    },
    {
      "cell_type": "code",
      "execution_count": 89,
      "metadata": {
        "id": "KtNBw8nOfPsB",
        "colab": {
          "base_uri": "https://localhost:8080/"
        },
        "outputId": "7b762763-9be5-44d6-dc5c-1353ca84fb2a"
      },
      "outputs": [
        {
          "output_type": "stream",
          "name": "stdout",
          "text": [
            "--2025-04-03 09:00:46--  https://gist.github.com/Vs8th/c1550e322588b735752bf2a7ccd1cdd0/raw/sales_data.csv\n",
            "Resolving gist.github.com (gist.github.com)... 140.82.114.4\n",
            "Connecting to gist.github.com (gist.github.com)|140.82.114.4|:443... connected.\n",
            "HTTP request sent, awaiting response... 301 Moved Permanently\n",
            "Location: https://gist.githubusercontent.com/Vs8th/c1550e322588b735752bf2a7ccd1cdd0/raw/sales_data.csv [following]\n",
            "--2025-04-03 09:00:46--  https://gist.githubusercontent.com/Vs8th/c1550e322588b735752bf2a7ccd1cdd0/raw/sales_data.csv\n",
            "Resolving gist.githubusercontent.com (gist.githubusercontent.com)... 185.199.111.133, 185.199.108.133, 185.199.109.133, ...\n",
            "Connecting to gist.githubusercontent.com (gist.githubusercontent.com)|185.199.111.133|:443... connected.\n",
            "HTTP request sent, awaiting response... 200 OK\n",
            "Length: 31844 (31K) [text/plain]\n",
            "Saving to: ‘sales_data.csv’\n",
            "\n",
            "sales_data.csv      100%[===================>]  31.10K  --.-KB/s    in 0.01s   \n",
            "\n",
            "2025-04-03 09:00:47 (3.03 MB/s) - ‘sales_data.csv’ saved [31844/31844]\n",
            "\n"
          ]
        }
      ],
      "source": [
        "!wget https://gist.github.com/Vs8th/c1550e322588b735752bf2a7ccd1cdd0/raw/sales_data.csv"
      ]
    },
    {
      "cell_type": "markdown",
      "source": [
        "Чтобы посмотреть как он выглядит выполните следующую ячейку."
      ],
      "metadata": {
        "id": "JIwIK2E5fcyA"
      }
    },
    {
      "cell_type": "code",
      "source": [
        "import pandas as pd\n",
        "\n",
        "df = pd.read_csv('sales_data.csv')\n",
        "df"
      ],
      "metadata": {
        "id": "6f84pObFfbGE",
        "colab": {
          "base_uri": "https://localhost:8080/",
          "height": 423
        },
        "outputId": "3306c14f-1784-411d-b590-38bc07977322"
      },
      "execution_count": 12,
      "outputs": [
        {
          "output_type": "execute_result",
          "data": {
            "text/plain": [
              "       id        date  amount    product\n",
              "0       1  2023-04-25   35.21  Product 6\n",
              "1       2  2022-08-31  359.19  Product 9\n",
              "2       3  2023-01-22  117.53  Product 5\n",
              "3       4  2022-12-15  366.68  Product 4\n",
              "4       5  2023-03-06  628.65  Product 2\n",
              "..    ...         ...     ...        ...\n",
              "995   996  2022-07-10  653.66  Product 3\n",
              "996   997  2023-01-13  691.89  Product 3\n",
              "997   998  2023-01-31  207.24  Product 1\n",
              "998   999  2023-01-16  653.59  Product 2\n",
              "999  1000  2023-06-20  448.11  Product 3\n",
              "\n",
              "[1000 rows x 4 columns]"
            ],
            "text/html": [
              "\n",
              "  <div id=\"df-19f0ca0c-ac46-4ccb-8978-a7d3af5fcb35\" class=\"colab-df-container\">\n",
              "    <div>\n",
              "<style scoped>\n",
              "    .dataframe tbody tr th:only-of-type {\n",
              "        vertical-align: middle;\n",
              "    }\n",
              "\n",
              "    .dataframe tbody tr th {\n",
              "        vertical-align: top;\n",
              "    }\n",
              "\n",
              "    .dataframe thead th {\n",
              "        text-align: right;\n",
              "    }\n",
              "</style>\n",
              "<table border=\"1\" class=\"dataframe\">\n",
              "  <thead>\n",
              "    <tr style=\"text-align: right;\">\n",
              "      <th></th>\n",
              "      <th>id</th>\n",
              "      <th>date</th>\n",
              "      <th>amount</th>\n",
              "      <th>product</th>\n",
              "    </tr>\n",
              "  </thead>\n",
              "  <tbody>\n",
              "    <tr>\n",
              "      <th>0</th>\n",
              "      <td>1</td>\n",
              "      <td>2023-04-25</td>\n",
              "      <td>35.21</td>\n",
              "      <td>Product 6</td>\n",
              "    </tr>\n",
              "    <tr>\n",
              "      <th>1</th>\n",
              "      <td>2</td>\n",
              "      <td>2022-08-31</td>\n",
              "      <td>359.19</td>\n",
              "      <td>Product 9</td>\n",
              "    </tr>\n",
              "    <tr>\n",
              "      <th>2</th>\n",
              "      <td>3</td>\n",
              "      <td>2023-01-22</td>\n",
              "      <td>117.53</td>\n",
              "      <td>Product 5</td>\n",
              "    </tr>\n",
              "    <tr>\n",
              "      <th>3</th>\n",
              "      <td>4</td>\n",
              "      <td>2022-12-15</td>\n",
              "      <td>366.68</td>\n",
              "      <td>Product 4</td>\n",
              "    </tr>\n",
              "    <tr>\n",
              "      <th>4</th>\n",
              "      <td>5</td>\n",
              "      <td>2023-03-06</td>\n",
              "      <td>628.65</td>\n",
              "      <td>Product 2</td>\n",
              "    </tr>\n",
              "    <tr>\n",
              "      <th>...</th>\n",
              "      <td>...</td>\n",
              "      <td>...</td>\n",
              "      <td>...</td>\n",
              "      <td>...</td>\n",
              "    </tr>\n",
              "    <tr>\n",
              "      <th>995</th>\n",
              "      <td>996</td>\n",
              "      <td>2022-07-10</td>\n",
              "      <td>653.66</td>\n",
              "      <td>Product 3</td>\n",
              "    </tr>\n",
              "    <tr>\n",
              "      <th>996</th>\n",
              "      <td>997</td>\n",
              "      <td>2023-01-13</td>\n",
              "      <td>691.89</td>\n",
              "      <td>Product 3</td>\n",
              "    </tr>\n",
              "    <tr>\n",
              "      <th>997</th>\n",
              "      <td>998</td>\n",
              "      <td>2023-01-31</td>\n",
              "      <td>207.24</td>\n",
              "      <td>Product 1</td>\n",
              "    </tr>\n",
              "    <tr>\n",
              "      <th>998</th>\n",
              "      <td>999</td>\n",
              "      <td>2023-01-16</td>\n",
              "      <td>653.59</td>\n",
              "      <td>Product 2</td>\n",
              "    </tr>\n",
              "    <tr>\n",
              "      <th>999</th>\n",
              "      <td>1000</td>\n",
              "      <td>2023-06-20</td>\n",
              "      <td>448.11</td>\n",
              "      <td>Product 3</td>\n",
              "    </tr>\n",
              "  </tbody>\n",
              "</table>\n",
              "<p>1000 rows × 4 columns</p>\n",
              "</div>\n",
              "    <div class=\"colab-df-buttons\">\n",
              "\n",
              "  <div class=\"colab-df-container\">\n",
              "    <button class=\"colab-df-convert\" onclick=\"convertToInteractive('df-19f0ca0c-ac46-4ccb-8978-a7d3af5fcb35')\"\n",
              "            title=\"Convert this dataframe to an interactive table.\"\n",
              "            style=\"display:none;\">\n",
              "\n",
              "  <svg xmlns=\"http://www.w3.org/2000/svg\" height=\"24px\" viewBox=\"0 -960 960 960\">\n",
              "    <path d=\"M120-120v-720h720v720H120Zm60-500h600v-160H180v160Zm220 220h160v-160H400v160Zm0 220h160v-160H400v160ZM180-400h160v-160H180v160Zm440 0h160v-160H620v160ZM180-180h160v-160H180v160Zm440 0h160v-160H620v160Z\"/>\n",
              "  </svg>\n",
              "    </button>\n",
              "\n",
              "  <style>\n",
              "    .colab-df-container {\n",
              "      display:flex;\n",
              "      gap: 12px;\n",
              "    }\n",
              "\n",
              "    .colab-df-convert {\n",
              "      background-color: #E8F0FE;\n",
              "      border: none;\n",
              "      border-radius: 50%;\n",
              "      cursor: pointer;\n",
              "      display: none;\n",
              "      fill: #1967D2;\n",
              "      height: 32px;\n",
              "      padding: 0 0 0 0;\n",
              "      width: 32px;\n",
              "    }\n",
              "\n",
              "    .colab-df-convert:hover {\n",
              "      background-color: #E2EBFA;\n",
              "      box-shadow: 0px 1px 2px rgba(60, 64, 67, 0.3), 0px 1px 3px 1px rgba(60, 64, 67, 0.15);\n",
              "      fill: #174EA6;\n",
              "    }\n",
              "\n",
              "    .colab-df-buttons div {\n",
              "      margin-bottom: 4px;\n",
              "    }\n",
              "\n",
              "    [theme=dark] .colab-df-convert {\n",
              "      background-color: #3B4455;\n",
              "      fill: #D2E3FC;\n",
              "    }\n",
              "\n",
              "    [theme=dark] .colab-df-convert:hover {\n",
              "      background-color: #434B5C;\n",
              "      box-shadow: 0px 1px 3px 1px rgba(0, 0, 0, 0.15);\n",
              "      filter: drop-shadow(0px 1px 2px rgba(0, 0, 0, 0.3));\n",
              "      fill: #FFFFFF;\n",
              "    }\n",
              "  </style>\n",
              "\n",
              "    <script>\n",
              "      const buttonEl =\n",
              "        document.querySelector('#df-19f0ca0c-ac46-4ccb-8978-a7d3af5fcb35 button.colab-df-convert');\n",
              "      buttonEl.style.display =\n",
              "        google.colab.kernel.accessAllowed ? 'block' : 'none';\n",
              "\n",
              "      async function convertToInteractive(key) {\n",
              "        const element = document.querySelector('#df-19f0ca0c-ac46-4ccb-8978-a7d3af5fcb35');\n",
              "        const dataTable =\n",
              "          await google.colab.kernel.invokeFunction('convertToInteractive',\n",
              "                                                    [key], {});\n",
              "        if (!dataTable) return;\n",
              "\n",
              "        const docLinkHtml = 'Like what you see? Visit the ' +\n",
              "          '<a target=\"_blank\" href=https://colab.research.google.com/notebooks/data_table.ipynb>data table notebook</a>'\n",
              "          + ' to learn more about interactive tables.';\n",
              "        element.innerHTML = '';\n",
              "        dataTable['output_type'] = 'display_data';\n",
              "        await google.colab.output.renderOutput(dataTable, element);\n",
              "        const docLink = document.createElement('div');\n",
              "        docLink.innerHTML = docLinkHtml;\n",
              "        element.appendChild(docLink);\n",
              "      }\n",
              "    </script>\n",
              "  </div>\n",
              "\n",
              "\n",
              "<div id=\"df-88876df4-afbc-44a2-a4d3-cdca0bca73df\">\n",
              "  <button class=\"colab-df-quickchart\" onclick=\"quickchart('df-88876df4-afbc-44a2-a4d3-cdca0bca73df')\"\n",
              "            title=\"Suggest charts\"\n",
              "            style=\"display:none;\">\n",
              "\n",
              "<svg xmlns=\"http://www.w3.org/2000/svg\" height=\"24px\"viewBox=\"0 0 24 24\"\n",
              "     width=\"24px\">\n",
              "    <g>\n",
              "        <path d=\"M19 3H5c-1.1 0-2 .9-2 2v14c0 1.1.9 2 2 2h14c1.1 0 2-.9 2-2V5c0-1.1-.9-2-2-2zM9 17H7v-7h2v7zm4 0h-2V7h2v10zm4 0h-2v-4h2v4z\"/>\n",
              "    </g>\n",
              "</svg>\n",
              "  </button>\n",
              "\n",
              "<style>\n",
              "  .colab-df-quickchart {\n",
              "      --bg-color: #E8F0FE;\n",
              "      --fill-color: #1967D2;\n",
              "      --hover-bg-color: #E2EBFA;\n",
              "      --hover-fill-color: #174EA6;\n",
              "      --disabled-fill-color: #AAA;\n",
              "      --disabled-bg-color: #DDD;\n",
              "  }\n",
              "\n",
              "  [theme=dark] .colab-df-quickchart {\n",
              "      --bg-color: #3B4455;\n",
              "      --fill-color: #D2E3FC;\n",
              "      --hover-bg-color: #434B5C;\n",
              "      --hover-fill-color: #FFFFFF;\n",
              "      --disabled-bg-color: #3B4455;\n",
              "      --disabled-fill-color: #666;\n",
              "  }\n",
              "\n",
              "  .colab-df-quickchart {\n",
              "    background-color: var(--bg-color);\n",
              "    border: none;\n",
              "    border-radius: 50%;\n",
              "    cursor: pointer;\n",
              "    display: none;\n",
              "    fill: var(--fill-color);\n",
              "    height: 32px;\n",
              "    padding: 0;\n",
              "    width: 32px;\n",
              "  }\n",
              "\n",
              "  .colab-df-quickchart:hover {\n",
              "    background-color: var(--hover-bg-color);\n",
              "    box-shadow: 0 1px 2px rgba(60, 64, 67, 0.3), 0 1px 3px 1px rgba(60, 64, 67, 0.15);\n",
              "    fill: var(--button-hover-fill-color);\n",
              "  }\n",
              "\n",
              "  .colab-df-quickchart-complete:disabled,\n",
              "  .colab-df-quickchart-complete:disabled:hover {\n",
              "    background-color: var(--disabled-bg-color);\n",
              "    fill: var(--disabled-fill-color);\n",
              "    box-shadow: none;\n",
              "  }\n",
              "\n",
              "  .colab-df-spinner {\n",
              "    border: 2px solid var(--fill-color);\n",
              "    border-color: transparent;\n",
              "    border-bottom-color: var(--fill-color);\n",
              "    animation:\n",
              "      spin 1s steps(1) infinite;\n",
              "  }\n",
              "\n",
              "  @keyframes spin {\n",
              "    0% {\n",
              "      border-color: transparent;\n",
              "      border-bottom-color: var(--fill-color);\n",
              "      border-left-color: var(--fill-color);\n",
              "    }\n",
              "    20% {\n",
              "      border-color: transparent;\n",
              "      border-left-color: var(--fill-color);\n",
              "      border-top-color: var(--fill-color);\n",
              "    }\n",
              "    30% {\n",
              "      border-color: transparent;\n",
              "      border-left-color: var(--fill-color);\n",
              "      border-top-color: var(--fill-color);\n",
              "      border-right-color: var(--fill-color);\n",
              "    }\n",
              "    40% {\n",
              "      border-color: transparent;\n",
              "      border-right-color: var(--fill-color);\n",
              "      border-top-color: var(--fill-color);\n",
              "    }\n",
              "    60% {\n",
              "      border-color: transparent;\n",
              "      border-right-color: var(--fill-color);\n",
              "    }\n",
              "    80% {\n",
              "      border-color: transparent;\n",
              "      border-right-color: var(--fill-color);\n",
              "      border-bottom-color: var(--fill-color);\n",
              "    }\n",
              "    90% {\n",
              "      border-color: transparent;\n",
              "      border-bottom-color: var(--fill-color);\n",
              "    }\n",
              "  }\n",
              "</style>\n",
              "\n",
              "  <script>\n",
              "    async function quickchart(key) {\n",
              "      const quickchartButtonEl =\n",
              "        document.querySelector('#' + key + ' button');\n",
              "      quickchartButtonEl.disabled = true;  // To prevent multiple clicks.\n",
              "      quickchartButtonEl.classList.add('colab-df-spinner');\n",
              "      try {\n",
              "        const charts = await google.colab.kernel.invokeFunction(\n",
              "            'suggestCharts', [key], {});\n",
              "      } catch (error) {\n",
              "        console.error('Error during call to suggestCharts:', error);\n",
              "      }\n",
              "      quickchartButtonEl.classList.remove('colab-df-spinner');\n",
              "      quickchartButtonEl.classList.add('colab-df-quickchart-complete');\n",
              "    }\n",
              "    (() => {\n",
              "      let quickchartButtonEl =\n",
              "        document.querySelector('#df-88876df4-afbc-44a2-a4d3-cdca0bca73df button');\n",
              "      quickchartButtonEl.style.display =\n",
              "        google.colab.kernel.accessAllowed ? 'block' : 'none';\n",
              "    })();\n",
              "  </script>\n",
              "</div>\n",
              "    </div>\n",
              "  </div>\n"
            ],
            "application/vnd.google.colaboratory.intrinsic+json": {
              "type": "dataframe",
              "variable_name": "df",
              "summary": "{\n  \"name\": \"df\",\n  \"rows\": 1000,\n  \"fields\": [\n    {\n      \"column\": \"id\",\n      \"properties\": {\n        \"dtype\": \"number\",\n        \"std\": 288,\n        \"min\": 1,\n        \"max\": 1000,\n        \"num_unique_values\": 1000,\n        \"samples\": [\n          522,\n          738,\n          741\n        ],\n        \"semantic_type\": \"\",\n        \"description\": \"\"\n      }\n    },\n    {\n      \"column\": \"date\",\n      \"properties\": {\n        \"dtype\": \"object\",\n        \"num_unique_values\": 336,\n        \"samples\": [\n          \"2023-07-01\",\n          \"2023-02-15\",\n          \"2023-05-06\"\n        ],\n        \"semantic_type\": \"\",\n        \"description\": \"\"\n      }\n    },\n    {\n      \"column\": \"amount\",\n      \"properties\": {\n        \"dtype\": \"number\",\n        \"std\": 281.5513498462036,\n        \"min\": 13.44,\n        \"max\": 999.68,\n        \"num_unique_values\": 993,\n        \"samples\": [\n          702.87,\n          267.45,\n          429.57\n        ],\n        \"semantic_type\": \"\",\n        \"description\": \"\"\n      }\n    },\n    {\n      \"column\": \"product\",\n      \"properties\": {\n        \"dtype\": \"category\",\n        \"num_unique_values\": 10,\n        \"samples\": [\n          \"Product 10\",\n          \"Product 9\",\n          \"Product 3\"\n        ],\n        \"semantic_type\": \"\",\n        \"description\": \"\"\n      }\n    }\n  ]\n}"
            }
          },
          "metadata": {},
          "execution_count": 12
        }
      ]
    },
    {
      "cell_type": "markdown",
      "source": [
        "### **Решения**"
      ],
      "metadata": {
        "id": "CxmnD3GvffQ4"
      }
    },
    {
      "cell_type": "markdown",
      "source": [
        "#### **Задача 1**\n",
        "\n",
        "Ваша задача написать класс `Extraction`, и определить в нем метод `from_csv`, который принимал бы путь к файлу и вытаскивал данные в виде списка объектов.\n",
        "\n",
        "Для этого, здесь же, определите класс `Sale`."
      ],
      "metadata": {
        "id": "5bdLXu2ksLB7"
      }
    },
    {
      "cell_type": "markdown",
      "source": [
        "**Решение**\n",
        "\n",
        "Напишите свое решение ниже"
      ],
      "metadata": {
        "id": "qUL4LtIUnJge"
      }
    },
    {
      "cell_type": "code",
      "source": [
        "import csv\n",
        "from datetime import datetime"
      ],
      "metadata": {
        "id": "1LIvE9If8uE0"
      },
      "execution_count": 38,
      "outputs": []
    },
    {
      "cell_type": "code",
      "source": [
        "class Sale:\n",
        "  \"\"\"\n",
        "  Класс для возврата данных из массива продаж (id, дата, сумма продаж, товар)\n",
        "  \"\"\"\n",
        "  def __init__(self, row) -> None:\n",
        "     self._sales = row # Храним всю строку данных\n",
        "\n",
        "  def get_id(self):\n",
        "    return self._sales[0]\n",
        "\n",
        "  def get_date(self):\n",
        "    return self._sales[1]\n",
        "\n",
        "  def get_amount(self):\n",
        "    return float(self._sales[2])\n",
        "\n",
        "  def get_product(self):\n",
        "    return self._sales[3]\n",
        "\n",
        "class Extraction:\n",
        "  \"\"\"\n",
        "  Класс для импорта данных о продажах в CSV\n",
        "  \"\"\"\n",
        "  def __init__(self, sales_data, header=None) -> None:\n",
        "    self._sales_data = sales_data  # Список объектов Sale\n",
        "    self._header = header\n",
        "\n",
        "  @classmethod\n",
        "  def from_csv(cls, path):\n",
        "    with open(path, newline='') as file:\n",
        "      reader = csv.reader(file, delimiter=',')\n",
        "      header = next(reader)\n",
        "      sales_objects = [Sale(row) for row in reader]\n",
        "      return cls(sales_objects)\n",
        "        # Возвращаем экземпляр Extraction\n",
        "\n",
        "  def __getitem__(self, index):\n",
        "    return self._sales_data[index]\n",
        "\n",
        "  @property\n",
        "  def header(self):\n",
        "    \"\"\"Возвращает заголовки столбцов\"\"\"\n",
        "    return self._header\n",
        "\n",
        "  # Для обратной совместимости (если где-то использовался как список)\n",
        "  def __iter__(self):\n",
        "    return iter(self._sales_data)\n",
        "\n",
        "  def __len__(self):\n",
        "    return len(self._sales_data)\n"
      ],
      "metadata": {
        "id": "Ia39hhmZbNRW"
      },
      "execution_count": 105,
      "outputs": []
    },
    {
      "cell_type": "markdown",
      "source": [
        "✏️ ✏️ ✏️\n",
        "\n",
        "**Проверка**\n",
        "\n",
        "Чтобы проверить свое решение, запустите код в следующих ячейках"
      ],
      "metadata": {
        "id": "54Tvpn9OkDwV"
      }
    },
    {
      "cell_type": "code",
      "source": [
        "#@title ✏️ Проверка: чтобы проверить свое решение запустите код в этой ячейке\n",
        "a = Extraction.from_csv('sales_data.csv')\n",
        "res = []\n",
        "for i in a[5:105:25]:\n",
        "  id = i.get_id()\n",
        "  date = i.get_date()\n",
        "  amount = i.get_amount()\n",
        "  product = i.get_product()\n",
        "  res.append((id, date, amount, product))\n",
        "\n",
        "try:\n",
        "    assert res == [('6', '2022-08-04', 843.69, 'Product 3'),\n",
        "                   ('31', '2022-11-06', 131.6, 'Product 8'),\n",
        "                   ('56', '2023-06-24', 747.08, 'Product 8'),\n",
        "                   ('81', '2023-05-09', 658.02, 'Product 10')]\n",
        "except AssertionError:\n",
        "    print('Ответы не совпадают')\n",
        "else:\n",
        "    print('Поздравляем, Вы справились!')"
      ],
      "metadata": {
        "id": "LkqzVw9skKEC",
        "colab": {
          "base_uri": "https://localhost:8080/"
        },
        "outputId": "be9a7edc-32cc-4636-8d61-8ed34c343615",
        "cellView": "form"
      },
      "execution_count": 106,
      "outputs": [
        {
          "output_type": "stream",
          "name": "stdout",
          "text": [
            "Поздравляем, Вы справились!\n"
          ]
        }
      ]
    },
    {
      "cell_type": "markdown",
      "source": [
        "#### **Задача 2**\n",
        "\n",
        "Напишите класс `Transformation`, который содержит два метода: `filter_by_date(sales_data, start_date, end_date)` и `filter_by_amount(sales_data, min_amount, max_amount)`."
      ],
      "metadata": {
        "id": "QLNMvvhXoIdV"
      }
    },
    {
      "cell_type": "markdown",
      "source": [
        "**Решение**\n",
        "\n",
        "Напишите свое решение ниже"
      ],
      "metadata": {
        "id": "LThhpSINoMHN"
      }
    },
    {
      "cell_type": "code",
      "source": [
        "class Transformation:\n",
        "  \"\"\"\n",
        "  Класс для фильтрации данных\n",
        "  по установленным параметрам\n",
        "  \"\"\"\n",
        "  @staticmethod # статистический метод применен для упрощения кода\n",
        "  def filter_by_date(sales_data, start_date, end_date):\n",
        "    start = datetime.strptime(start_date, '%Y-%m-%d')\n",
        "    end = datetime.strptime(end_date, '%Y-%m-%d')\n",
        "\n",
        "    filtered = []\n",
        "    for sale in sales_data:\n",
        "      sale_date = datetime.strptime(sale.get_date(), '%Y-%m-%d')\n",
        "      if start <= sale_date <= end:\n",
        "        filtered.append(sale)\n",
        "    return filtered\n",
        "\n",
        "  @staticmethod\n",
        "  def filter_by_amount(sales_data, min_amount, max_amount):\n",
        "\n",
        "    filtered = []\n",
        "    for sale in sales_data:\n",
        "      amount = sale.get_amount()\n",
        "      if min_amount <= amount <= max_amount:\n",
        "        filtered.append(sale)\n",
        "    return filtered\n"
      ],
      "metadata": {
        "id": "9s8JBMlboJuf"
      },
      "execution_count": 107,
      "outputs": []
    },
    {
      "cell_type": "markdown",
      "source": [
        "✏️ ✏️ ✏️\n",
        "\n",
        "**Проверка**\n",
        "\n",
        "Чтобы проверить свое решение, запустите код в следующих ячейках"
      ],
      "metadata": {
        "id": "GN_PNZICsxRD"
      }
    },
    {
      "cell_type": "code",
      "source": [
        "#@title ✏️ Проверка: чтобы проверить свое решение запустите код в этой ячейке\n",
        "sales_data = Extraction.from_csv('sales_data.csv')\n",
        "filtered_sales1 = Transformation.filter_by_date(sales_data, '2023-01-01', '2023-06-30')\n",
        "res2 = []\n",
        "for i in filtered_sales1[5:105:36]:\n",
        "  id = i.get_id()\n",
        "  date = i.get_date()\n",
        "  amount = i.get_amount()\n",
        "  product = i.get_product()\n",
        "  res2.append((id, date, amount, product))\n",
        "\n",
        "try:\n",
        "    assert res2 == [('10', '2023-02-04', 530.21, 'Product 1'),\n",
        "                    ('97', '2023-03-16', 518.75, 'Product 8'),\n",
        "                    ('163', '2023-06-12', 706.27, 'Product 9')]\n",
        "except AssertionError:\n",
        "    print('Ответы не совпадают')\n",
        "else:\n",
        "    print('Поздравляем, Вы справились!')"
      ],
      "metadata": {
        "colab": {
          "base_uri": "https://localhost:8080/"
        },
        "id": "a36bM9j9tD7l",
        "outputId": "a521e9e8-1f6d-49f1-96ed-337fec14925e",
        "cellView": "form"
      },
      "execution_count": 108,
      "outputs": [
        {
          "output_type": "stream",
          "name": "stdout",
          "text": [
            "Поздравляем, Вы справились!\n"
          ]
        }
      ]
    },
    {
      "cell_type": "code",
      "source": [
        "#@title ✏️ Проверка: чтобы проверить свое решение запустите код в этой ячейке\n",
        "sales_data = Extraction.from_csv('sales_data.csv')\n",
        "filtered_sales2 = Transformation.filter_by_amount(filtered_sales1, 100, 1000)\n",
        "res3 = []\n",
        "for i in filtered_sales2[5:105:36]:\n",
        "  id = i.get_id()\n",
        "  date = i.get_date()\n",
        "  amount = i.get_amount()\n",
        "  product = i.get_product()\n",
        "  res3.append((id, date, amount, product))\n",
        "\n",
        "try:\n",
        "    assert res3 == [('11', '2023-01-04', 974.04, 'Product 10'),\n",
        "                    ('104', '2023-06-19', 680.99, 'Product 9'),\n",
        "                    ('178', '2023-01-28', 417.43, 'Product 7')]\n",
        "except AssertionError:\n",
        "    print('Ответы не совпадают')\n",
        "else:\n",
        "    print('Поздравляем, Вы справились!')"
      ],
      "metadata": {
        "colab": {
          "base_uri": "https://localhost:8080/"
        },
        "id": "khbNXvlDyYAT",
        "outputId": "712ad4fe-6893-4616-e743-0d1c08947f8d",
        "cellView": "form"
      },
      "execution_count": 109,
      "outputs": [
        {
          "output_type": "stream",
          "name": "stdout",
          "text": [
            "Поздравляем, Вы справились!\n"
          ]
        }
      ]
    },
    {
      "cell_type": "markdown",
      "source": [
        "#### **Задача 3**\n",
        "\n",
        "Напишите класс `Analysis`, содержащий два метода: `calculate_total_sales` и `calculate_average_sales`. Возвращаемые значения округлите до двух знаков после запятой."
      ],
      "metadata": {
        "id": "AwB-HtPLtjyl"
      }
    },
    {
      "cell_type": "markdown",
      "source": [
        "**Решение**\n",
        "\n",
        "Напишите свое решение ниже"
      ],
      "metadata": {
        "id": "GOTB--hmt2xw"
      }
    },
    {
      "cell_type": "code",
      "source": [
        "# вычисляет общую сумму и среднее значение продаж\n",
        "class Analysis:\n",
        "  \"\"\"\n",
        "  Класс для вычисления общей суммы продаж\n",
        "  и среднего значения продаж\n",
        "  \"\"\"\n",
        "  @staticmethod\n",
        "  def calculate_total_sales(sales_data):\n",
        "    total_sales = 0\n",
        "    for sale in sales_data:\n",
        "      total_sales += sale.get_amount()\n",
        "    return total_sales\n",
        "\n",
        "  @staticmethod\n",
        "  def calculate_average_sales(sales_data):\n",
        "    total_sales = 0\n",
        "    len_data = 0\n",
        "    for sale in sales_data:\n",
        "      total_sales += sale.get_amount()\n",
        "      len_data += 1\n",
        "    return total_sales / len_data\n"
      ],
      "metadata": {
        "id": "fz7nRb_ntKMv"
      },
      "execution_count": 110,
      "outputs": []
    },
    {
      "cell_type": "markdown",
      "source": [
        "✏️ ✏️ ✏️\n",
        "\n",
        "**Проверка**\n",
        "\n",
        "Чтобы проверить свое решение, запустите код в следующих ячейках"
      ],
      "metadata": {
        "id": "0-7TiI06t8D0"
      }
    },
    {
      "cell_type": "code",
      "source": [
        "#@title ✏️ Проверка: чтобы проверить свое решение запустите код в этой ячейке\n",
        "res4 = round(Analysis.calculate_total_sales(sales_data), 2)\n",
        "\n",
        "try:\n",
        "    assert res4 == 522581.97\n",
        "except AssertionError:\n",
        "    print('Ответы не совпадают')\n",
        "else:\n",
        "    print('Поздравляем, Вы справились!')"
      ],
      "metadata": {
        "colab": {
          "base_uri": "https://localhost:8080/"
        },
        "id": "KzV-hUKcvxb2",
        "outputId": "66e4ca97-3fca-4282-c63c-507e30b44f2b",
        "cellView": "form"
      },
      "execution_count": 111,
      "outputs": [
        {
          "output_type": "stream",
          "name": "stdout",
          "text": [
            "Поздравляем, Вы справились!\n"
          ]
        }
      ]
    },
    {
      "cell_type": "code",
      "source": [
        "#@title ✏️ Проверка: чтобы проверить свое решение запустите код в этой ячейке\n",
        "res5 = round(Analysis.calculate_average_sales(sales_data), 2)\n",
        "\n",
        "try:\n",
        "    assert res5 == 522.58\n",
        "except AssertionError:\n",
        "    print('Ответы не совпадают')\n",
        "else:\n",
        "    print('Поздравляем, Вы справились!')"
      ],
      "metadata": {
        "colab": {
          "base_uri": "https://localhost:8080/"
        },
        "id": "2Pk17zzBzsDn",
        "outputId": "863ee55c-a639-4220-b7c8-5048c3ff15f6",
        "cellView": "form"
      },
      "execution_count": 112,
      "outputs": [
        {
          "output_type": "stream",
          "name": "stdout",
          "text": [
            "Поздравляем, Вы справились!\n"
          ]
        }
      ]
    },
    {
      "cell_type": "markdown",
      "source": [
        "#### **Задача 4**\n",
        "\n",
        "Напишите класс `Loading` с методом `to_csv(sales_data, file_path)`, который запишет данные в `csv` файл."
      ],
      "metadata": {
        "id": "CgRs9f--z9N-"
      }
    },
    {
      "cell_type": "markdown",
      "source": [
        "**Решение**\n",
        "\n",
        "Напишите свое решение ниже"
      ],
      "metadata": {
        "id": "HAC66WJB0DtG"
      }
    },
    {
      "cell_type": "code",
      "source": [
        "class Loading:\n",
        "  \"\"\"\n",
        "  Класс для экспорта данных о продажах в CSV\n",
        "  \"\"\"\n",
        "\n",
        "  @staticmethod\n",
        "  def to_csv(sales_data, file_path):\n",
        "    load_data = [\n",
        "            (sale.get_id(), sale.get_date(),\n",
        "             sale.get_amount(), sale.get_product())\n",
        "            for sale in sales_data\n",
        "        ]\n",
        "    with open(file_path, 'w', newline='') as file:\n",
        "      writer = csv.writer(file, delimiter=',')\n",
        "      # Используем сохраненные заголовки или стандартные, если их нет\n",
        "      header = getattr(\n",
        "          sales_data,\n",
        "          'header',\n",
        "           ['id', 'date', 'amount', 'product']\n",
        "          )\n",
        "      writer.writerow(header)\n",
        "      for row in load_data:\n",
        "        writer.writerow(row)\n"
      ],
      "metadata": {
        "id": "63tUPEeLz5e1"
      },
      "execution_count": 113,
      "outputs": []
    },
    {
      "cell_type": "markdown",
      "source": [
        "✏️ ✏️ ✏️\n",
        "\n",
        "**Проверка**\n",
        "\n",
        "Чтобы проверить свое решение, запустите код в следующих ячейках"
      ],
      "metadata": {
        "id": "wAeUY7ey0JGJ"
      }
    },
    {
      "cell_type": "code",
      "source": [
        "Loading.to_csv(filtered_sales2, 'filtered_sales.csv')"
      ],
      "metadata": {
        "id": "BbYGpfJ40HC9"
      },
      "execution_count": 114,
      "outputs": []
    },
    {
      "cell_type": "code",
      "source": [
        "# Здесь будет скачиваться файл с эталонным ответом\n",
        "\n",
        "!wget https://gist.github.com/Vs8th/533f827cc337efe288a5064604fe4e56/raw/filtered_sales_cor.csv\n",
        "\n",
        "import pandas as pd\n",
        "\n",
        "user_answer = pd.read_csv('filtered_sales.csv')\n",
        "correct_answer = pd.read_csv('filtered_sales_cor.csv')"
      ],
      "metadata": {
        "id": "nArXJ0ax1F09",
        "colab": {
          "base_uri": "https://localhost:8080/"
        },
        "outputId": "2613dbb3-e414-40fa-931d-43b9751d2685"
      },
      "execution_count": 100,
      "outputs": [
        {
          "output_type": "stream",
          "name": "stdout",
          "text": [
            "--2025-04-03 09:01:23--  https://gist.github.com/Vs8th/533f827cc337efe288a5064604fe4e56/raw/filtered_sales_cor.csv\n",
            "Resolving gist.github.com (gist.github.com)... 140.82.113.4\n",
            "Connecting to gist.github.com (gist.github.com)|140.82.113.4|:443... connected.\n",
            "HTTP request sent, awaiting response... 301 Moved Permanently\n",
            "Location: https://gist.githubusercontent.com/Vs8th/533f827cc337efe288a5064604fe4e56/raw/filtered_sales_cor.csv [following]\n",
            "--2025-04-03 09:01:23--  https://gist.githubusercontent.com/Vs8th/533f827cc337efe288a5064604fe4e56/raw/filtered_sales_cor.csv\n",
            "Resolving gist.githubusercontent.com (gist.githubusercontent.com)... 185.199.108.133, 185.199.109.133, 185.199.110.133, ...\n",
            "Connecting to gist.githubusercontent.com (gist.githubusercontent.com)|185.199.108.133|:443... connected.\n",
            "HTTP request sent, awaiting response... 200 OK\n",
            "Length: 14847 (14K) [text/plain]\n",
            "Saving to: ‘filtered_sales_cor.csv’\n",
            "\n",
            "filtered_sales_cor. 100%[===================>]  14.50K  --.-KB/s    in 0.001s  \n",
            "\n",
            "2025-04-03 09:01:23 (12.4 MB/s) - ‘filtered_sales_cor.csv’ saved [14847/14847]\n",
            "\n"
          ]
        }
      ]
    },
    {
      "cell_type": "code",
      "source": [
        "#@title ✏️ Проверка: чтобы проверить свое решение запустите код в этой ячейке\n",
        "try:\n",
        "  assert (user_answer == correct_answer).all().all(), 'Ответы не совпадают'\n",
        "  assert user_answer.columns.equals(correct_answer.columns), 'Названия столбцов не совпадают'\n",
        "except Exception as err:\n",
        "  raise AssertionError(f'При проверке возникла ошибка {repr(err)}')\n",
        "else:\n",
        "  print('Поздравляем, Вы справились и успешно прошли все проверки!')"
      ],
      "metadata": {
        "colab": {
          "base_uri": "https://localhost:8080/"
        },
        "id": "e2nVbdAn1IjH",
        "outputId": "d95dbe60-cf3a-4043-da81-6e7b621a9fcb",
        "cellView": "form"
      },
      "execution_count": 115,
      "outputs": [
        {
          "output_type": "stream",
          "name": "stdout",
          "text": [
            "Поздравляем, Вы справились и успешно прошли все проверки!\n"
          ]
        }
      ]
    }
  ]
}