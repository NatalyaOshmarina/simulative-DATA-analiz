{
  "nbformat": 4,
  "nbformat_minor": 0,
  "metadata": {
    "colab": {
      "provenance": []
    },
    "kernelspec": {
      "name": "python3",
      "display_name": "Python 3"
    },
    "language_info": {
      "name": "python"
    }
  },
  "cells": [
    {
      "cell_type": "markdown",
      "source": [
        "## 2 кейс\n",
        "\n",
        "**Соберите данные из Google Sheets и напишите функцию `generate_report`, которая принимает три списка (данные с каждого листа в Google Sheets) и сохраняет отчет в файл `student_debt_report.txt`**"
      ],
      "metadata": {
        "id": "kilnMAFvwPlm"
      }
    },
    {
      "cell_type": "markdown",
      "source": [
        "**Важно**\n",
        "\n",
        "Перед началом решения задачи выполните следующую ячейку - в ней скачиваются нужные файлы"
      ],
      "metadata": {
        "id": "Ese_hT_YwxHw"
      }
    },
    {
      "cell_type": "code",
      "execution_count": 1,
      "metadata": {
        "id": "84h9WDU8ngRf",
        "outputId": "a0bc8ac0-5c60-4214-d69f-859ded33eb58",
        "colab": {
          "base_uri": "https://localhost:8080/"
        }
      },
      "outputs": [
        {
          "output_type": "stream",
          "name": "stdout",
          "text": [
            "--2025-03-11 03:26:49--  https://gist.github.com/Vs8th/d0bd4bdbbb58c8ae4f70a2a503e2d5fc/raw/creds.json\n",
            "Resolving gist.github.com (gist.github.com)... 140.82.112.3\n",
            "Connecting to gist.github.com (gist.github.com)|140.82.112.3|:443... connected.\n",
            "HTTP request sent, awaiting response... 301 Moved Permanently\n",
            "Location: https://gist.githubusercontent.com/Vs8th/d0bd4bdbbb58c8ae4f70a2a503e2d5fc/raw/creds.json [following]\n",
            "--2025-03-11 03:26:49--  https://gist.githubusercontent.com/Vs8th/d0bd4bdbbb58c8ae4f70a2a503e2d5fc/raw/creds.json\n",
            "Resolving gist.githubusercontent.com (gist.githubusercontent.com)... 185.199.111.133, 185.199.108.133, 185.199.109.133, ...\n",
            "Connecting to gist.githubusercontent.com (gist.githubusercontent.com)|185.199.111.133|:443... connected.\n",
            "HTTP request sent, awaiting response... 200 OK\n",
            "Length: 2358 (2.3K) [text/plain]\n",
            "Saving to: ‘creds.json’\n",
            "\n",
            "creds.json          100%[===================>]   2.30K  --.-KB/s    in 0s      \n",
            "\n",
            "2025-03-11 03:26:50 (35.2 MB/s) - ‘creds.json’ saved [2358/2358]\n",
            "\n",
            "--2025-03-11 03:26:50--  https://gist.github.com/Vs8th/39c5deed0f5539d781f00328f7fd4fe0/raw/result.txt\n",
            "Resolving gist.github.com (gist.github.com)... 140.82.112.3\n",
            "Connecting to gist.github.com (gist.github.com)|140.82.112.3|:443... connected.\n",
            "HTTP request sent, awaiting response... 301 Moved Permanently\n",
            "Location: https://gist.githubusercontent.com/Vs8th/39c5deed0f5539d781f00328f7fd4fe0/raw/result.txt [following]\n",
            "--2025-03-11 03:26:50--  https://gist.githubusercontent.com/Vs8th/39c5deed0f5539d781f00328f7fd4fe0/raw/result.txt\n",
            "Resolving gist.githubusercontent.com (gist.githubusercontent.com)... 185.199.111.133, 185.199.109.133, 185.199.110.133, ...\n",
            "Connecting to gist.githubusercontent.com (gist.githubusercontent.com)|185.199.111.133|:443... connected.\n",
            "HTTP request sent, awaiting response... 200 OK\n",
            "Length: 198 [text/plain]\n",
            "Saving to: ‘result.txt’\n",
            "\n",
            "result.txt          100%[===================>]     198  --.-KB/s    in 0s      \n",
            "\n",
            "2025-03-11 03:26:50 (3.91 MB/s) - ‘result.txt’ saved [198/198]\n",
            "\n"
          ]
        }
      ],
      "source": [
        "!wget https://gist.github.com/Vs8th/d0bd4bdbbb58c8ae4f70a2a503e2d5fc/raw/creds.json\n",
        "\n",
        "!wget https://gist.github.com/Vs8th/39c5deed0f5539d781f00328f7fd4fe0/raw/result.txt"
      ]
    },
    {
      "cell_type": "markdown",
      "source": [
        "Чтобы посмотреть как выглядят сами гугл таблицы в оригинале - можете перейти по [ссылке](https://docs.google.com/spreadsheets/d/1hRnw-PEftF0J-6KY7InlILVwWdkJu4vJiGwRjuE_P4U/edit?usp=sharing) и изучить."
      ],
      "metadata": {
        "id": "4DrLBsjgxAEA"
      }
    },
    {
      "cell_type": "markdown",
      "source": [
        "Небольшое описание столбцов в таблицах:  \n",
        "**Лист1:** `student_id` - айди студента; `student_name` - имя студента; `installment` (Y/N) - факт наличия рассрочки у студента (Y - рассрочка есть, N - рассрочки нет).  \n",
        "**Лист2:** `student_id` - айди студента; `last_payment_date` - дата последней полученной оплаты; `expected_payment_date` - дата, в которую ожидаем следующий платеж (рассчитывается от даты последнего платежа).  \n",
        "**Лист3:** `student_id` - айди студента; `already_payed_amount` - уже выплаченная часть рассрочки; `left_to_pay` - оставшаяся (невыплаченная) часть; `one-time_payment` - единоразовый платеж; `installment_amount` - общая сумма, которая бралась в рассрочку."
      ],
      "metadata": {
        "id": "n9JJRgd4xLC7"
      }
    },
    {
      "cell_type": "markdown",
      "source": [
        "Как примерно должен выглядеть результат:"
      ],
      "metadata": {
        "id": "DzT-pVSOxDKF"
      }
    },
    {
      "cell_type": "code",
      "source": [
        "with open('result.txt') as f:\n",
        "  print(f.read())"
      ],
      "metadata": {
        "id": "yvYYOXrBxChi",
        "outputId": "cae8fea7-a328-4c21-c331-3804f9d86ea1",
        "colab": {
          "base_uri": "https://localhost:8080/"
        }
      },
      "execution_count": null,
      "outputs": [
        {
          "output_type": "stream",
          "name": "stdout",
          "text": [
            "Студент Иванов У.У. - долг 100000 рублей\n",
            "Студент Петров Е.Е. - долг 250000 рублей\n",
            "Студент Сидоров И.И. - долг 10000 рублей\n"
          ]
        }
      ]
    },
    {
      "cell_type": "code",
      "source": [
        "#@title Если возникнут трудности с определением `scope`, подсказка:\n",
        "\n",
        "scope = ['https://www.googleapis.com/auth/spreadsheets.readonly',\n",
        "         'https://www.googleapis.com/auth/drive']"
      ],
      "metadata": {
        "id": "SOZfpY8OnJGl"
      },
      "execution_count": 3,
      "outputs": []
    },
    {
      "cell_type": "code",
      "source": [
        "import gspread\n",
        "from oauth2client.service_account import ServiceAccountCredentials"
      ],
      "metadata": {
        "id": "WS25nZyyyS9q"
      },
      "execution_count": 2,
      "outputs": []
    },
    {
      "cell_type": "code",
      "source": [
        "# Загружаем ключи аутентификации из файла json\n",
        "creds = ServiceAccountCredentials.from_json_keyfile_name('creds.json', scope)\n",
        "\n",
        "# Авторизуемся в Google Sheets API\n",
        "client = gspread.authorize(creds)"
      ],
      "metadata": {
        "id": "s1g089WJy_Oy"
      },
      "execution_count": 4,
      "outputs": []
    },
    {
      "cell_type": "markdown",
      "source": [
        "**Примечание**\n",
        "\n",
        "Считать должников необходимо на 1 марта 2023 года. То есть определяя количество просроченных платежей, мы определяем их количество не на настоящую дату, а на **1 марта 2023 года**. А периоды внесения платежей для всех студентов одинаковы - **6 месяцев** (183 дня).\n",
        "\n",
        "То есть, если ожидаемый платеж должен был пройти 3 февраля 2022 года, то к 1 марта 2023 студент просрочил уже три платежа (3 февраля 2022, 3 августа 2022 и 3 февраля 2023)."
      ],
      "metadata": {
        "id": "gJh58XYTk181"
      }
    },
    {
      "cell_type": "markdown",
      "source": [
        "**Решение**\n",
        "\n",
        "Напишите свое решение ниже"
      ],
      "metadata": {
        "id": "zvpm-3CmxH5l"
      }
    },
    {
      "cell_type": "code",
      "source": [
        "def generate_report(sheet1, sheet2, sheet3):\n",
        "  from datetime import datetime\n",
        "  installment = list()\n",
        "\n",
        "  for student in sheet1:\n",
        "    if student['installment'] == 'Y':\n",
        "      installment.append(student)\n",
        "\n",
        "  for date in sheet2:\n",
        "    expected_payment_date = datetime.strptime( '01.03.2023', \"%d.%m.%Y\").date()\n",
        "    last_payment_date = datetime.strptime( date['last_payment_date'], \"%d.%m.%Y\").date()\n",
        "    date.setdefault('diff', expected_payment_date - last_payment_date)\n",
        "    date.setdefault('num_period', int(str(date['diff']).split()[0]) // 182)\n",
        "\n",
        "  for elem1 in installment:\n",
        "    for elem2 in sheet2:\n",
        "      if elem1['student_id'] != elem2['student_id']:\n",
        "        continue\n",
        "      for elem3 in sheet3:\n",
        "        if elem2['student_id'] != elem3['student_id']:\n",
        "          continue\n",
        "        elem1.update(elem2)\n",
        "        elem1.update(elem3)\n",
        "\n",
        "  with open('student_debt_report.txt', 'w') as f:\n",
        "    for student in installment:\n",
        "      if student['num_period'] and (student['num_period'] * student['one-time_payment']) < student['left_to_pay']:\n",
        "        f.write('\\n')\n",
        "        f.write(\n",
        "            'Студент ' +\n",
        "                student['student_name'] +\n",
        "                ' - долг ' +\n",
        "                str(student['num_period'] * student['one-time_payment']) +\n",
        "                ' рублей'\n",
        "                )\n",
        "      elif student['num_period'] and student['num_period'] * student['one-time_payment'] > student['left_to_pay']:\n",
        "        f.write('\\n')\n",
        "        f.write(\n",
        "            'Студент ' +\n",
        "            student['student_name'] +\n",
        "            ' - долг ' +\n",
        "            str(student['left_to_pay']) +\n",
        "            ' рублей'\n",
        "            )\n",
        "\n",
        "  with open('student_debt_report.txt', 'r') as f:\n",
        "    filtered_lines = [line for line in f if line.strip()]\n",
        "\n",
        "  with open('student_debt_report.txt', 'w') as f:\n",
        "    f.writelines(filtered_lines)\n",
        "\n",
        "sheet1 = client.open(\"Installments\").worksheet(\"Лист1\")\n",
        "sheet1_data = sheet1.get_all_records()\n",
        "sheet2 = client.open(\"Installments\").worksheet(\"Лист2\")\n",
        "sheet2_data = sheet2.get_all_records()\n",
        "sheet3 = client.open(\"Installments\").worksheet(\"Лист3\")\n",
        "sheet3_data = sheet3.get_all_records()\n",
        "generate_report(sheet1_data, sheet2_data, sheet3_data)\n"
      ],
      "metadata": {
        "id": "CFDewPXwxLoX"
      },
      "execution_count": 11,
      "outputs": []
    },
    {
      "cell_type": "markdown",
      "source": [
        "✏️ ✏️ ✏️\n",
        "\n",
        "**Проверка**\n",
        "\n",
        "Чтобы проверить свое решение, запустите код в следующих ячейках"
      ],
      "metadata": {
        "id": "VSZxSfjWxeZr"
      }
    },
    {
      "cell_type": "code",
      "source": [
        "# Здесь будет скачиваться файл с эталонным ответом\n",
        "\n",
        "!wget https://gist.github.com/Vs8th/63832f093f4db8d8b251ba5d39571f3d/raw/student_debt.txt\n",
        "\n",
        "import pandas as pd\n",
        "\n",
        "user_answer = pd.read_csv('student_debt_report.txt')\n",
        "correct_answer = pd.read_csv('student_debt.txt')"
      ],
      "metadata": {
        "id": "nbDL6rllxe4X",
        "colab": {
          "base_uri": "https://localhost:8080/"
        },
        "outputId": "db6e16d7-ca78-4b23-fa98-e20ab0080d34"
      },
      "execution_count": 13,
      "outputs": [
        {
          "output_type": "stream",
          "name": "stdout",
          "text": [
            "--2025-03-11 03:48:16--  https://gist.github.com/Vs8th/63832f093f4db8d8b251ba5d39571f3d/raw/student_debt.txt\n",
            "Resolving gist.github.com (gist.github.com)... 140.82.112.4\n",
            "Connecting to gist.github.com (gist.github.com)|140.82.112.4|:443... connected.\n",
            "HTTP request sent, awaiting response... 301 Moved Permanently\n",
            "Location: https://gist.githubusercontent.com/Vs8th/63832f093f4db8d8b251ba5d39571f3d/raw/student_debt.txt [following]\n",
            "--2025-03-11 03:48:16--  https://gist.githubusercontent.com/Vs8th/63832f093f4db8d8b251ba5d39571f3d/raw/student_debt.txt\n",
            "Resolving gist.githubusercontent.com (gist.githubusercontent.com)... 185.199.108.133, 185.199.109.133, 185.199.110.133, ...\n",
            "Connecting to gist.githubusercontent.com (gist.githubusercontent.com)|185.199.108.133|:443... connected.\n",
            "HTTP request sent, awaiting response... 200 OK\n",
            "Length: 11325 (11K) [text/plain]\n",
            "Saving to: ‘student_debt.txt.1’\n",
            "\n",
            "student_debt.txt.1  100%[===================>]  11.06K  --.-KB/s    in 0s      \n",
            "\n",
            "2025-03-11 03:48:16 (70.9 MB/s) - ‘student_debt.txt.1’ saved [11325/11325]\n",
            "\n"
          ]
        }
      ]
    },
    {
      "cell_type": "code",
      "source": [
        "try:\n",
        "  assert (user_answer == correct_answer).all().all(), 'Ответы не совпадают'\n",
        "  assert user_answer.columns.equals(correct_answer.columns), 'Названия столбцов не совпадают'\n",
        "except Exception as err:\n",
        "  raise AssertionError(f'При проверке возникла ошибка {repr(err)}')\n",
        "else:\n",
        "  print('Поздравляем, Вы справились и успешно прошли все проверки!!')"
      ],
      "metadata": {
        "id": "gMqsbz7Wxm-G",
        "colab": {
          "base_uri": "https://localhost:8080/"
        },
        "outputId": "6053822d-d5f1-4327-f333-55e4ecc99e96"
      },
      "execution_count": 14,
      "outputs": [
        {
          "output_type": "stream",
          "name": "stdout",
          "text": [
            "Поздравляем, Вы справились и успешно прошли все проверки!!\n"
          ]
        }
      ]
    }
  ]
}