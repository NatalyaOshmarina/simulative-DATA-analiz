{
  "cells": [
    {
      "cell_type": "markdown",
      "metadata": {
        "id": "T_xBU6WvyPhY"
      },
      "source": [
        "## 3 кейс\n",
        "\n",
        "**В этом кейсе вы будете рассчитывать:**\n",
        "* retention\n",
        "* rolling retention\n",
        "* lifetime\n",
        "* churn rate\n",
        "* mau\n",
        "* wau\n",
        "* dau"
      ]
    },
    {
      "cell_type": "markdown",
      "metadata": {
        "id": "U2D5zGSdzc92"
      },
      "source": [
        "**Важно**\n",
        "\n",
        "Перед началом решения задачи выполните следующую ячейку - в ней скачиваются нужные файлы"
      ]
    },
    {
      "cell_type": "code",
      "execution_count": 1,
      "metadata": {
        "colab": {
          "base_uri": "https://localhost:8080/"
        },
        "id": "3eJFMuMpyCp-",
        "outputId": "0bb58471-85a6-44bb-feae-6e259073bf9b"
      },
      "outputs": [
        {
          "output_type": "stream",
          "name": "stdout",
          "text": [
            "--2025-03-17 04:48:25--  https://gist.github.com/Vs8th/739269a03f2f4a7396d04d6739da3771/raw/registrations.csv\n",
            "Resolving gist.github.com (gist.github.com)... 140.82.116.4\n",
            "Connecting to gist.github.com (gist.github.com)|140.82.116.4|:443... connected.\n",
            "HTTP request sent, awaiting response... 301 Moved Permanently\n",
            "Location: https://gist.githubusercontent.com/Vs8th/739269a03f2f4a7396d04d6739da3771/raw/registrations.csv [following]\n",
            "--2025-03-17 04:48:25--  https://gist.githubusercontent.com/Vs8th/739269a03f2f4a7396d04d6739da3771/raw/registrations.csv\n",
            "Resolving gist.githubusercontent.com (gist.githubusercontent.com)... 185.199.111.133, 185.199.109.133, 185.199.110.133, ...\n",
            "Connecting to gist.githubusercontent.com (gist.githubusercontent.com)|185.199.111.133|:443... connected.\n",
            "HTTP request sent, awaiting response... 200 OK\n",
            "Length: 14918 (15K) [text/plain]\n",
            "Saving to: ‘registrations.csv’\n",
            "\n",
            "registrations.csv   100%[===================>]  14.57K  --.-KB/s    in 0s      \n",
            "\n",
            "2025-03-17 04:48:25 (66.2 MB/s) - ‘registrations.csv’ saved [14918/14918]\n",
            "\n",
            "--2025-03-17 04:48:26--  https://gist.github.com/Vs8th/aacb80595d1d6aaa2e31eb735f8bc644/raw/entries.csv\n",
            "Resolving gist.github.com (gist.github.com)... 140.82.116.4\n",
            "Connecting to gist.github.com (gist.github.com)|140.82.116.4|:443... connected.\n",
            "HTTP request sent, awaiting response... 301 Moved Permanently\n",
            "Location: https://gist.githubusercontent.com/Vs8th/aacb80595d1d6aaa2e31eb735f8bc644/raw/entries.csv [following]\n",
            "--2025-03-17 04:48:26--  https://gist.githubusercontent.com/Vs8th/aacb80595d1d6aaa2e31eb735f8bc644/raw/entries.csv\n",
            "Resolving gist.githubusercontent.com (gist.githubusercontent.com)... 185.199.111.133, 185.199.109.133, 185.199.110.133, ...\n",
            "Connecting to gist.githubusercontent.com (gist.githubusercontent.com)|185.199.111.133|:443... connected.\n",
            "HTTP request sent, awaiting response... 200 OK\n",
            "Length: 308588 (301K) [text/plain]\n",
            "Saving to: ‘entries.csv’\n",
            "\n",
            "entries.csv         100%[===================>] 301.36K  --.-KB/s    in 0.03s   \n",
            "\n",
            "2025-03-17 04:48:26 (10.5 MB/s) - ‘entries.csv’ saved [308588/308588]\n",
            "\n",
            "--2025-03-17 04:48:26--  https://gist.github.com/Vs8th/0e827e9a608117345dd6585ab81e8c86/raw/metrics.txt\n",
            "Resolving gist.github.com (gist.github.com)... 140.82.116.4\n",
            "Connecting to gist.github.com (gist.github.com)|140.82.116.4|:443... connected.\n",
            "HTTP request sent, awaiting response... 301 Moved Permanently\n",
            "Location: https://gist.githubusercontent.com/Vs8th/0e827e9a608117345dd6585ab81e8c86/raw/metrics.txt [following]\n",
            "--2025-03-17 04:48:26--  https://gist.githubusercontent.com/Vs8th/0e827e9a608117345dd6585ab81e8c86/raw/metrics.txt\n",
            "Resolving gist.githubusercontent.com (gist.githubusercontent.com)... 185.199.111.133, 185.199.109.133, 185.199.110.133, ...\n",
            "Connecting to gist.githubusercontent.com (gist.githubusercontent.com)|185.199.111.133|:443... connected.\n",
            "HTTP request sent, awaiting response... 200 OK\n",
            "Length: 67 [text/plain]\n",
            "Saving to: ‘metrics.txt’\n",
            "\n",
            "metrics.txt         100%[===================>]      67  --.-KB/s    in 0s      \n",
            "\n",
            "2025-03-17 04:48:26 (1.65 MB/s) - ‘metrics.txt’ saved [67/67]\n",
            "\n"
          ]
        }
      ],
      "source": [
        "!wget https://gist.github.com/Vs8th/739269a03f2f4a7396d04d6739da3771/raw/registrations.csv\n",
        "\n",
        "!wget https://gist.github.com/Vs8th/aacb80595d1d6aaa2e31eb735f8bc644/raw/entries.csv\n",
        "\n",
        "!wget https://gist.github.com/Vs8th/0e827e9a608117345dd6585ab81e8c86/raw/metrics.txt"
      ]
    },
    {
      "cell_type": "markdown",
      "metadata": {
        "id": "vnMFicli7Fa7"
      },
      "source": [
        "Файлами для работы являются `registrations.csv` и `entries.csv`. В них хранятся данные о регистрациях пользователей и входа на платформу соответственно."
      ]
    },
    {
      "cell_type": "code",
      "execution_count": 4,
      "metadata": {
        "id": "u5l9mm-vzpJ8"
      },
      "outputs": [],
      "source": [
        "import csv\n",
        "from datetime import datetime, timedelta\n"
      ]
    },
    {
      "cell_type": "code",
      "source": [
        "# функции чтения файлов и вывода пользователей n-го дня\n",
        "def read_file_all(file):\n",
        "  with open(file, newline='') as file_csv:\n",
        "    reader = csv.reader(file_csv, delimiter=';')\n",
        "    header = next(reader)\n",
        "    users = [row for row in reader]\n",
        "    return users\n",
        "\n",
        "def read_file_by_period(file, period):\n",
        "  with open(file, newline='') as file_csv:\n",
        "    reader = csv.reader(file_csv, delimiter=';')\n",
        "    header = next(reader)\n",
        "    users = [row for row in reader if period in row[1]]\n",
        "    return users\n",
        "\n",
        "def get_users_n_day(days, users):\n",
        "  return dict(\n",
        "      zip(\n",
        "        [row[0] for row in users],\n",
        "          [(row[1], str(datetime.strptime(row[1], \"%Y-%m-%d\").date() + timedelta(days=days))\n",
        "          ) for row in users])\n",
        "    )"
      ],
      "metadata": {
        "id": "c4JoilAddVGX"
      },
      "execution_count": 7,
      "outputs": []
    },
    {
      "cell_type": "markdown",
      "metadata": {
        "id": "s2g2hxfMzqLo"
      },
      "source": [
        "### **Посчитайте Retention 15 дня (в процентах) для пользователей, зарегистрированных в январе**\n",
        "\n",
        "Cохраните результат в переменную `retention_15_day`\n",
        "\n",
        "**Примечание:** результат округлите до 5 знаков после запятой"
      ]
    },
    {
      "cell_type": "code",
      "execution_count": 10,
      "metadata": {
        "id": "HWjyXAcOcgK3"
      },
      "outputs": [],
      "source": [
        "#retention на 15 день\n",
        "registrations = read_file_by_period('registrations.csv', '2021-01')\n",
        "entries = read_file_all('entries.csv')\n",
        "cohort_15 = get_users_n_day(15, registrations)\n",
        "\n",
        "for_retention = dict()\n",
        "for key, value in cohort_15.items():\n",
        "  for elem in entries:\n",
        "    if elem[0] != key or elem[1] != value[1]:\n",
        "      continue\n",
        "    else:\n",
        "      for_retention.setdefault(key, elem[1])\n",
        "\n",
        "retention_15_day = round(len(for_retention) / len(cohort_15) * 100, 5)"
      ]
    },
    {
      "cell_type": "code",
      "execution_count": null,
      "metadata": {
        "cellView": "form",
        "colab": {
          "base_uri": "https://localhost:8080/"
        },
        "id": "YGydKAis0Ae9",
        "outputId": "e36b66a4-c8e8-4b03-89f3-b54edc1ab8fc"
      },
      "outputs": [
        {
          "output_type": "stream",
          "name": "stdout",
          "text": [
            "Поздравляем, Вы справились!\n"
          ]
        }
      ],
      "source": [
        "#@title ✏️ Проверка: чтобы проверить свое решение запустите код в этой ячейке\n",
        "# Открываем файл с правильными ответами\n",
        "with open('metrics.txt', 'r') as f:\n",
        "    answers = f.read().split('\\n')\n",
        "\n",
        "correct_answer = float(answers[0])\n",
        "\n",
        "try:\n",
        "    assert retention_15_day == correct_answer\n",
        "except AssertionError:\n",
        "    print('Ответы не совпадают')\n",
        "else:\n",
        "    print('Поздравляем, Вы справились!')"
      ]
    },
    {
      "cell_type": "markdown",
      "metadata": {
        "id": "TbkdEVLI0Cor"
      },
      "source": [
        "### **Посчитайте Rolling-retention 30 дня (в процентах) для пользователей из той же когорты**\n",
        "\n",
        "Сохраните результат в переменную `rolling_retention`\n",
        "\n",
        "**Примечание:** результат округлите до 5 знаков после запятой"
      ]
    },
    {
      "cell_type": "code",
      "execution_count": 11,
      "metadata": {
        "id": "keCBmUDJ0Hho"
      },
      "outputs": [],
      "source": [
        "#rolling retention на 30 день\n",
        "cohort_30 = get_users_n_day(30, registrations)\n",
        "\n",
        "for_roll_retention = dict()\n",
        "for key, value in cohort_30.items():\n",
        "  for elem in entries:\n",
        "    if elem[0] != key or datetime.strptime(elem[1], \"%Y-%m-%d\").date() < datetime.strptime(value[1], \"%Y-%m-%d\").date():\n",
        "      continue\n",
        "    elif elem[0] == key and datetime.strptime(elem[1], \"%Y-%m-%d\").date() >= datetime.strptime(value[1], \"%Y-%m-%d\").date():\n",
        "      for_roll_retention.setdefault(key, elem[1])\n",
        "\n",
        "\n",
        "rolling_retention = round(len(for_roll_retention) / len(cohort_30) * 100, 5)"
      ]
    },
    {
      "cell_type": "code",
      "execution_count": null,
      "metadata": {
        "cellView": "form",
        "colab": {
          "base_uri": "https://localhost:8080/"
        },
        "id": "fTwUwQZ40JCl",
        "outputId": "688b591b-402f-408a-8d66-228411a42798"
      },
      "outputs": [
        {
          "output_type": "stream",
          "name": "stdout",
          "text": [
            "Поздравляем, Вы справились!\n"
          ]
        }
      ],
      "source": [
        "#@title ✏️ Проверка: чтобы проверить свое решение запустите код в этой ячейке\n",
        "correct_answer = float(answers[1])\n",
        "\n",
        "try:\n",
        "    assert rolling_retention == correct_answer\n",
        "except AssertionError:\n",
        "    print('Ответы не совпадают')\n",
        "else:\n",
        "    print('Поздравляем, Вы справились!')"
      ]
    },
    {
      "cell_type": "markdown",
      "metadata": {
        "id": "wxkhEVmF0PAo"
      },
      "source": [
        "### **Посчитайте Lifetime по всем пользователям, посчитанный как интеграл от n-day retention**\n",
        "\n",
        "Сохраните результат в переменную `lifetime`\n",
        "\n",
        "**Примечание:** результат округлите до 5 знаков после запятой"
      ]
    },
    {
      "cell_type": "code",
      "execution_count": 12,
      "metadata": {
        "id": "LuEGY-5jpGNt"
      },
      "outputs": [],
      "source": [
        "#Lifetime (интегральный метод - сумма n-day retention за весь период)\n",
        "users = read_file_all('registrations.csv')\n",
        "registrations = dict(zip([row[0] for row in users], [row[1] for row in users]))\n",
        "\n",
        "#определим перечень всех разниц между днем регистрации и днем входа на сайт (список всех n_day)\n",
        "list_diff = set()\n",
        "\n",
        "for registration in users:\n",
        "  for entry in entries:\n",
        "    if registration[0] != entry[0]:\n",
        "      continue\n",
        "    else:\n",
        "      list_diff.add(datetime.strptime(entry[1], \"%Y-%m-%d\").date() - datetime.strptime(registration[1], \"%Y-%m-%d\").date())\n",
        "\n",
        "n_day_retention = dict.fromkeys(list_diff, 0)\n",
        "\n",
        "#создадим словарь уникальных входов\n",
        "dates_entry = set([row[1] for row in entries])\n",
        "entries_dict = dict()\n",
        "\n",
        "for day in dates_entry:\n",
        "  user_entry = list()\n",
        "  for elem in entries:\n",
        "    if day == elem[1]:\n",
        "      user_entry.append(elem[0])\n",
        "  entries_dict.setdefault(day, set(user_entry))\n",
        "\n",
        "#заполним словарь, где ключом является разница в днях между днем регистрации и днем входа, а значением - количество уникальных входов\n",
        "for diff in list_diff:\n",
        "  for key, value in registrations.items():\n",
        "    for entry, id in entries_dict.items():\n",
        "      if key not in id or datetime.strptime(entry, \"%Y-%m-%d\").date() - datetime.strptime(value, \"%Y-%m-%d\").date() != diff:\n",
        "        continue\n",
        "      else:\n",
        "        n_day_retention[diff] = n_day_retention.get(diff) + 1\n",
        "\n",
        "lifetime = round(sum(list(n_day_retention.values())) / max(n_day_retention.values()), 5)"
      ]
    },
    {
      "cell_type": "code",
      "execution_count": 13,
      "metadata": {
        "colab": {
          "base_uri": "https://localhost:8080/",
          "height": 210
        },
        "id": "k7s0V8hF0Vmx",
        "outputId": "abfb7bd0-99e8-42d1-c4f6-18d4803cff06"
      },
      "outputs": [
        {
          "output_type": "error",
          "ename": "NameError",
          "evalue": "name 'answers' is not defined",
          "traceback": [
            "\u001b[0;31m---------------------------------------------------------------------------\u001b[0m",
            "\u001b[0;31mNameError\u001b[0m                                 Traceback (most recent call last)",
            "\u001b[0;32m<ipython-input-13-0427de652410>\u001b[0m in \u001b[0;36m<cell line: 0>\u001b[0;34m()\u001b[0m\n\u001b[1;32m      1\u001b[0m \u001b[0;31m#@title ✏️ Проверка: чтобы проверить свое решение запустите код в этой ячейке\u001b[0m\u001b[0;34m\u001b[0m\u001b[0;34m\u001b[0m\u001b[0m\n\u001b[0;32m----> 2\u001b[0;31m \u001b[0mcorrect_answer\u001b[0m \u001b[0;34m=\u001b[0m \u001b[0mfloat\u001b[0m\u001b[0;34m(\u001b[0m\u001b[0manswers\u001b[0m\u001b[0;34m[\u001b[0m\u001b[0;36m2\u001b[0m\u001b[0;34m]\u001b[0m\u001b[0;34m)\u001b[0m\u001b[0;34m\u001b[0m\u001b[0;34m\u001b[0m\u001b[0m\n\u001b[0m\u001b[1;32m      3\u001b[0m \u001b[0;34m\u001b[0m\u001b[0m\n\u001b[1;32m      4\u001b[0m \u001b[0;32mtry\u001b[0m\u001b[0;34m:\u001b[0m\u001b[0;34m\u001b[0m\u001b[0;34m\u001b[0m\u001b[0m\n\u001b[1;32m      5\u001b[0m     \u001b[0;32massert\u001b[0m \u001b[0mlifetime\u001b[0m \u001b[0;34m==\u001b[0m \u001b[0mcorrect_answer\u001b[0m\u001b[0;34m\u001b[0m\u001b[0;34m\u001b[0m\u001b[0m\n",
            "\u001b[0;31mNameError\u001b[0m: name 'answers' is not defined"
          ]
        }
      ],
      "source": [
        "#@title ✏️ Проверка: чтобы проверить свое решение запустите код в этой ячейке\n",
        "correct_answer = float(answers[2])\n",
        "\n",
        "try:\n",
        "    assert lifetime == correct_answer\n",
        "except AssertionError:\n",
        "    print('Ответы не совпадают')\n",
        "else:\n",
        "    print('Поздравляем, Вы справились!')"
      ]
    },
    {
      "cell_type": "markdown",
      "metadata": {
        "id": "OrwoZ-wR0jJq"
      },
      "source": [
        "### **Посчитайте Churn rate 29 дня (в долях), посчитанный по всем пользователям**\n",
        "\n",
        "Сохраните результат в переменную `churn_29`"
      ]
    },
    {
      "cell_type": "code",
      "execution_count": 16,
      "metadata": {
        "id": "hKN7vidq0mJ3",
        "colab": {
          "base_uri": "https://localhost:8080/"
        },
        "outputId": "896e81ab-b3a1-44ce-bc2d-1f5181155498"
      },
      "outputs": [
        {
          "output_type": "execute_result",
          "data": {
            "text/plain": [
              "0.509"
            ]
          },
          "metadata": {},
          "execution_count": 16
        }
      ],
      "source": [
        "# вычислим rolling-retention 29 дня для всех пользователей\n",
        "users_29 = get_users_n_day(29, users)\n",
        "\n",
        "for_roll_retention = dict()\n",
        "for key, value in users_29.items():\n",
        "  for elem in entries:\n",
        "    if elem[0] != key or datetime.strptime(elem[1], \"%Y-%m-%d\").date() < datetime.strptime(value[1], \"%Y-%m-%d\").date():\n",
        "      continue\n",
        "    elif elem[0] == key and datetime.strptime(elem[1], \"%Y-%m-%d\").date() >= datetime.strptime(value[1], \"%Y-%m-%d\").date():\n",
        "      for_roll_retention.setdefault(key, elem[1])\n",
        "\n",
        "\n",
        "churn_29 = 1 - round(len(for_roll_retention) / len(users_29), 5)"
      ]
    },
    {
      "cell_type": "code",
      "execution_count": null,
      "metadata": {
        "cellView": "form",
        "id": "14KnR1gD0ou9",
        "colab": {
          "base_uri": "https://localhost:8080/"
        },
        "outputId": "1e965095-9385-4c78-ad79-9cb890fb65a8"
      },
      "outputs": [
        {
          "output_type": "stream",
          "name": "stdout",
          "text": [
            "Поздравляем, Вы справились!\n"
          ]
        }
      ],
      "source": [
        "#@title ✏️ Проверка: чтобы проверить свое решение запустите код в этой ячейке\n",
        "correct_answer = float(answers[3])\n",
        "\n",
        "try:\n",
        "    assert churn_29 == correct_answer\n",
        "except AssertionError:\n",
        "    print('Ответы не совпадают')\n",
        "else:\n",
        "    print('Поздравляем, Вы справились!')"
      ]
    },
    {
      "cell_type": "markdown",
      "metadata": {
        "id": "QuO3ZwRI5mdH"
      },
      "source": [
        "### **Посчитайте Mau, Wau, Dau за последний месяц/неделю/день записей**\n",
        "\n",
        "Сохраните результат в переменные `dec_mau`, `dec_wau`, `dec_dau` соответственно\n",
        "\n",
        "**Примечание:** последний месяц записей - декабрь. Поэтому `mau` рассчитываем для декабря (2021 года), для `wau` берем последнюю неделю - с 25 по 31 декабря, и для `dau` соответственно последний день - 31 декабря."
      ]
    },
    {
      "cell_type": "code",
      "execution_count": 17,
      "metadata": {
        "id": "HxGWkaSp5kpo",
        "colab": {
          "base_uri": "https://localhost:8080/"
        },
        "outputId": "f1122ce4-7acb-4477-ee11-b08302beb3f8"
      },
      "outputs": [
        {
          "output_type": "execute_result",
          "data": {
            "text/plain": [
              "133"
            ]
          },
          "metadata": {},
          "execution_count": 17
        }
      ],
      "source": [
        "# рассчитаем количество уникальных входов за декабрь\n",
        "user_mau = set()\n",
        "\n",
        "for day, users in entries_dict.items():\n",
        "  if day.split('-')[1] == '12':\n",
        "    for user in users:\n",
        "      user_mau.add(user)\n",
        "\n",
        "dec_mau = len(user_mau)\n",
        "dec_mau"
      ]
    },
    {
      "cell_type": "code",
      "execution_count": null,
      "metadata": {
        "cellView": "form",
        "id": "dpK4clbe5xiH",
        "colab": {
          "base_uri": "https://localhost:8080/"
        },
        "outputId": "77530ebe-2d64-43c0-8c1d-bf1d1b95b626"
      },
      "outputs": [
        {
          "output_type": "stream",
          "name": "stdout",
          "text": [
            "Поздравляем, Вы справились!\n"
          ]
        }
      ],
      "source": [
        "#@title ✏️ Проверка: чтобы проверить свое решение запустите код в этой ячейке\n",
        "correct_answer = float(answers[4])\n",
        "\n",
        "try:\n",
        "    assert dec_mau == correct_answer\n",
        "except AssertionError:\n",
        "    print('Ответы не совпадают')\n",
        "else:\n",
        "    print('Поздравляем, Вы справились!')"
      ]
    },
    {
      "cell_type": "code",
      "execution_count": 18,
      "metadata": {
        "id": "urEWcCuk522y",
        "colab": {
          "base_uri": "https://localhost:8080/"
        },
        "outputId": "66dfd315-63fb-4a3c-a870-741fff868e88"
      },
      "outputs": [
        {
          "output_type": "execute_result",
          "data": {
            "text/plain": [
              "84"
            ]
          },
          "metadata": {},
          "execution_count": 18
        }
      ],
      "source": [
        "# рассчитаем количество уникальных входов за период 25 декабря - 31 декабря\n",
        "\n",
        "user_wau = set()\n",
        "for day, users in entries_dict.items():\n",
        "  if datetime.strptime(day, '%Y-%m-%d').date() >= datetime.strptime('2021-12-25', '%Y-%m-%d').date():\n",
        "    for user in users:\n",
        "      user_wau.add(user)\n",
        "\n",
        "dec_wau = len(user_wau)\n",
        "dec_wau"
      ]
    },
    {
      "cell_type": "code",
      "execution_count": null,
      "metadata": {
        "cellView": "form",
        "id": "xziXbjnJ549b",
        "colab": {
          "base_uri": "https://localhost:8080/"
        },
        "outputId": "99761b4b-d697-429e-c199-287f1b729005"
      },
      "outputs": [
        {
          "output_type": "stream",
          "name": "stdout",
          "text": [
            "Поздравляем, Вы справились!\n"
          ]
        }
      ],
      "source": [
        "#@title ✏️ Проверка: чтобы проверить свое решение запустите код в этой ячейке\n",
        "correct_answer = float(answers[5])\n",
        "\n",
        "try:\n",
        "    assert dec_wau == correct_answer\n",
        "except AssertionError:\n",
        "    print('Ответы не совпадают')\n",
        "else:\n",
        "    print('Поздравляем, Вы справились!')"
      ]
    },
    {
      "cell_type": "code",
      "execution_count": 19,
      "metadata": {
        "id": "hv7Nz3TN59Ds",
        "colab": {
          "base_uri": "https://localhost:8080/"
        },
        "outputId": "bb248e05-d0f6-42cc-a9f9-1ed2cd70b7fb"
      },
      "outputs": [
        {
          "output_type": "execute_result",
          "data": {
            "text/plain": [
              "47"
            ]
          },
          "metadata": {},
          "execution_count": 19
        }
      ],
      "source": [
        "entries_dau = entries_dict.copy()\n",
        "\n",
        "for day, user in entries_dict.items():\n",
        "  entries_dau[day] = len(user)\n",
        "\n",
        "dec_dau = entries_dau['2021-12-31']\n",
        "dec_dau"
      ]
    },
    {
      "cell_type": "code",
      "execution_count": null,
      "metadata": {
        "cellView": "form",
        "id": "1csOLxor5_ox",
        "colab": {
          "base_uri": "https://localhost:8080/"
        },
        "outputId": "fc09624f-20eb-4c7d-fc34-36213b6befeb"
      },
      "outputs": [
        {
          "output_type": "stream",
          "name": "stdout",
          "text": [
            "Поздравляем, Вы справились!\n"
          ]
        }
      ],
      "source": [
        "#@title ✏️ Проверка: чтобы проверить свое решение запустите код в этой ячейке\n",
        "correct_answer = float(answers[6])\n",
        "\n",
        "try:\n",
        "    assert dec_dau == correct_answer\n",
        "except AssertionError:\n",
        "    print('Ответы не совпадают')\n",
        "else:\n",
        "    print('Поздравляем, Вы справились!')"
      ]
    },
    {
      "cell_type": "markdown",
      "metadata": {
        "id": "gzElxXgv6Dyr"
      },
      "source": [
        "### **Посчитайте Mau, Wau, Dau усредненные**\n",
        "\n",
        "Сохраните результат в переменные `avg_mau`, `avg_wau`, `avg_dau` соответственно\n",
        "\n",
        "**Примечание:** результаты округлите до 5 знаков после запятой"
      ]
    },
    {
      "cell_type": "code",
      "execution_count": 20,
      "metadata": {
        "id": "mUDYPPqx6RPr",
        "colab": {
          "base_uri": "https://localhost:8080/"
        },
        "outputId": "ffc00c82-e31d-43ba-e5e4-1222cce89701"
      },
      "outputs": [
        {
          "output_type": "execute_result",
          "data": {
            "text/plain": [
              "102.58333"
            ]
          },
          "metadata": {},
          "execution_count": 20
        }
      ],
      "source": [
        "#создадим словарь уникальных входов для wau (понедельно)\n",
        "entry_month = [row.split('-')[1] for row in entries_dict.keys()]\n",
        "entries_month = dict()\n",
        "\n",
        "for month in entry_month:\n",
        "  user_entry = list()\n",
        "  for elem in entries:\n",
        "    if month == elem[1].split('-')[1]:\n",
        "      user_entry.append(elem[0])\n",
        "  entries_month.setdefault(month, set(user_entry))\n",
        "\n",
        "entries_mau = dict()\n",
        "for month, users in entries_month.items():\n",
        "  entries_mau.setdefault(month, len(users))\n",
        "\n",
        "avg_mau = round(sum(list(entries_mau.values())) / len(list(entries_mau.values())), 5)\n",
        "avg_mau"
      ]
    },
    {
      "cell_type": "code",
      "execution_count": null,
      "metadata": {
        "cellView": "form",
        "id": "CfikZaBu6V9_",
        "colab": {
          "base_uri": "https://localhost:8080/"
        },
        "outputId": "d6c93f6e-27bb-461f-bb11-d9dd5fe5b4c1"
      },
      "outputs": [
        {
          "output_type": "stream",
          "name": "stdout",
          "text": [
            "Поздравляем, Вы справились!\n"
          ]
        }
      ],
      "source": [
        "#@title ✏️ Проверка: чтобы проверить свое решение запустите код в этой ячейке\n",
        "correct_answer = float(answers[7])\n",
        "\n",
        "try:\n",
        "    assert avg_mau == correct_answer\n",
        "except AssertionError:\n",
        "    print('Ответы не совпадают')\n",
        "else:\n",
        "    print('Поздравляем, Вы справились!')"
      ]
    },
    {
      "cell_type": "code",
      "execution_count": 21,
      "metadata": {
        "id": "WydV9g9C6x7O",
        "colab": {
          "base_uri": "https://localhost:8080/"
        },
        "outputId": "59decf29-ccf2-408c-8f82-3ddf1792ba69"
      },
      "outputs": [
        {
          "output_type": "execute_result",
          "data": {
            "text/plain": [
              "89.86792"
            ]
          },
          "metadata": {},
          "execution_count": 21
        }
      ],
      "source": [
        "#создадим словарь уникальных входов для wau (понедельно)\n",
        "entry_week = [datetime.strptime(row, \"%Y-%m-%d\").isocalendar()[1] for row in entries_dict.keys()]\n",
        "entries_week = dict()\n",
        "\n",
        "for week in entry_week:\n",
        "  user_entry = list()\n",
        "  for elem in entries:\n",
        "    if week == datetime.strptime(elem[1], \"%Y-%m-%d\").isocalendar()[1]:\n",
        "      user_entry.append(elem[0])\n",
        "  entries_week.setdefault(week, set(user_entry))\n",
        "\n",
        "entries_wau = dict()\n",
        "for week, users in entries_week.items():\n",
        "  entries_wau.setdefault(week, len(users))\n",
        "\n",
        "avg_wau = round(sum(list(entries_wau.values())) / len(list(entries_wau.values())), 5)\n",
        "avg_wau"
      ]
    },
    {
      "cell_type": "code",
      "execution_count": null,
      "metadata": {
        "cellView": "form",
        "id": "qbZgzDpV6zUl",
        "colab": {
          "base_uri": "https://localhost:8080/"
        },
        "outputId": "ae4f80c2-c001-40df-b395-be4ee07eae3c"
      },
      "outputs": [
        {
          "output_type": "stream",
          "name": "stdout",
          "text": [
            "Поздравляем, Вы справились!\n"
          ]
        }
      ],
      "source": [
        "#@title ✏️ Проверка: чтобы проверить свое решение запустите код в этой ячейке\n",
        "correct_answer = float(answers[8])\n",
        "\n",
        "try:\n",
        "    assert avg_wau == correct_answer\n",
        "except AssertionError:\n",
        "    print('Ответы не совпадают')\n",
        "else:\n",
        "    print('Поздравляем, Вы справились!')"
      ]
    },
    {
      "cell_type": "code",
      "execution_count": null,
      "metadata": {
        "id": "NgqOR38d64_T",
        "colab": {
          "base_uri": "https://localhost:8080/"
        },
        "outputId": "e786ac2d-007f-4e06-cde1-0c7fa4ca877f"
      },
      "outputs": [
        {
          "output_type": "execute_result",
          "data": {
            "text/plain": [
              "40.5589"
            ]
          },
          "metadata": {},
          "execution_count": 19
        }
      ],
      "source": [
        "avg_dau = round(sum(list(entries_dau.values())) / len(list(entries_dau.values())), 5)\n",
        "\n",
        "\n",
        "avg_dau"
      ]
    },
    {
      "cell_type": "code",
      "execution_count": null,
      "metadata": {
        "cellView": "form",
        "id": "TbmDR4NP66qm",
        "colab": {
          "base_uri": "https://localhost:8080/"
        },
        "outputId": "38484aba-e0e8-4f31-c186-f7048d8b6fdf"
      },
      "outputs": [
        {
          "output_type": "stream",
          "name": "stdout",
          "text": [
            "Поздравляем, Вы справились!\n"
          ]
        }
      ],
      "source": [
        "#@title ✏️ Проверка: чтобы проверить свое решение запустите код в этой ячейке\n",
        "correct_answer = float(answers[9])\n",
        "\n",
        "try:\n",
        "    assert avg_dau == correct_answer\n",
        "except AssertionError:\n",
        "    print('Ответы не совпадают')\n",
        "else:\n",
        "    print('Поздравляем, Вы справились!')"
      ]
    }
  ],
  "metadata": {
    "colab": {
      "collapsed_sections": [
        "s2g2hxfMzqLo",
        "TbkdEVLI0Cor",
        "wxkhEVmF0PAo",
        "OrwoZ-wR0jJq"
      ],
      "provenance": []
    },
    "kernelspec": {
      "display_name": "Python 3",
      "name": "python3"
    },
    "language_info": {
      "name": "python"
    }
  },
  "nbformat": 4,
  "nbformat_minor": 0
}