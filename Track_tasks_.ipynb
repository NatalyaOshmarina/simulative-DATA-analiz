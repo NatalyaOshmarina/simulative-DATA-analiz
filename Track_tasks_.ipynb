{
  "nbformat": 4,
  "nbformat_minor": 0,
  "metadata": {
    "colab": {
      "provenance": []
    },
    "kernelspec": {
      "name": "python3",
      "display_name": "Python 3"
    },
    "language_info": {
      "name": "python"
    }
  },
  "cells": [
    {
      "cell_type": "markdown",
      "source": [
        "## **2 кейс**\n",
        "\n",
        "**Трек задач**"
      ],
      "metadata": {
        "id": "XUqCUBW5fUST"
      }
    },
    {
      "cell_type": "markdown",
      "source": [
        "### **Решения**"
      ],
      "metadata": {
        "id": "CxmnD3GvffQ4"
      }
    },
    {
      "cell_type": "markdown",
      "source": [
        "#### **Задача 1**\n",
        "\n",
        "Для начала определите классы `Task` и `Project`."
      ],
      "metadata": {
        "id": "5bdLXu2ksLB7"
      }
    },
    {
      "cell_type": "markdown",
      "source": [
        "**Решение**\n",
        "\n",
        "Напишите свое решение ниже"
      ],
      "metadata": {
        "id": "qUL4LtIUnJge"
      }
    },
    {
      "cell_type": "code",
      "source": [
        "class Task:\n",
        "  \"\"\"\n",
        "  Класс для возврата атрибутов задач (название, описание, статус, длительность)\n",
        "  \"\"\"\n",
        "  def __init__(\n",
        "      self,\n",
        "      task_id: int,\n",
        "      name: str,\n",
        "      description: str,\n",
        "      status: str,\n",
        "      duration: int\n",
        "      ) -> None:\n",
        "    self._task_id = task_id\n",
        "    self._name = name\n",
        "    self._description = description\n",
        "    self._status = status\n",
        "    self.duration = duration\n",
        "\n",
        "  def get_name(self) -> str:\n",
        "    \"\"\"Возвращает название задачи\"\"\"\n",
        "    return self._name\n",
        "\n",
        "  def get_description(self) -> str:\n",
        "    \"\"\"Возвращает описание задачи\"\"\"\n",
        "    return self._description\n",
        "\n",
        "  def get_status(self) -> str:\n",
        "    \"\"\"Возвращает статус задачи\"\"\"\n",
        "    return self._status\n",
        "\n",
        "  @property\n",
        "  def get_duration(self) -> int:\n",
        "    \"\"\"Возвращает длительность задачи\"\"\"\n",
        "    return self.duration\n"
      ],
      "metadata": {
        "id": "Ia39hhmZbNRW"
      },
      "execution_count": 24,
      "outputs": []
    },
    {
      "cell_type": "code",
      "source": [
        "class Project:\n",
        "  \"\"\"\n",
        "  Класс для формирования массива задач\n",
        "  \"\"\"\n",
        "  def __init__(self, tasks=None) -> None:\n",
        "    self._tasks = tasks if tasks is not None else []\n",
        "\n",
        "  def add_task(self, obj):\n",
        "    self._tasks.append(obj)\n",
        "    return self  # Возвращаем self для цепочки вызовов\n",
        "\n",
        "  def __iter__(self):\n",
        "    return iter(self._tasks)"
      ],
      "metadata": {
        "id": "i-cVKsFc-4fS"
      },
      "execution_count": 21,
      "outputs": []
    },
    {
      "cell_type": "code",
      "source": [
        "#@title ✏️ Проверка: чтобы проверить свое решение запустите код в этой ячейке\n",
        "task1 = Task(1, \"Задача 1\", \"Описание\", \"Выполняется\", 14)\n",
        "task2 = Task(2, \"Задача 2\", \"Описание\", \"Выполняется\", 8)\n",
        "task3 = Task(3, \"Задача 3\", \"Описание\", \"Завершена\", 3)\n",
        "task4 = Task(4, \"Задача 4\", \"Описание: срочно\", \"Выполняется\", 7)\n",
        "\n",
        "project = Project()\n",
        "project.add_task(task1)\n",
        "project.add_task(task2)\n",
        "project.add_task(task3)\n",
        "project.add_task(task4)\n",
        "\n",
        "res = []\n",
        "for task in project:\n",
        "  name = task.get_name()\n",
        "  description = task.get_description()\n",
        "  status = task.get_status()\n",
        "  res.append((name, description, status))\n",
        "\n",
        "try:\n",
        "    assert res == [('Задача 1', 'Описание', 'Выполняется'),\n",
        "                   ('Задача 2', 'Описание', 'Выполняется'),\n",
        "                   ('Задача 3', 'Описание', 'Завершена'),\n",
        "                   ('Задача 4', 'Описание: срочно', 'Выполняется')]\n",
        "except AssertionError:\n",
        "    print('Ответы не совпадают')\n",
        "else:\n",
        "    print('Поздравляем, Вы справились!')"
      ],
      "metadata": {
        "id": "LkqzVw9skKEC",
        "colab": {
          "base_uri": "https://localhost:8080/"
        },
        "outputId": "0ba274b4-88f7-4d11-81dd-78c125ef01a5"
      },
      "execution_count": 3,
      "outputs": [
        {
          "output_type": "stream",
          "name": "stdout",
          "text": [
            "Поздравляем, Вы справились!\n"
          ]
        }
      ]
    },
    {
      "cell_type": "markdown",
      "source": [
        "#### **Задача 2**\n",
        "\n",
        "Определите класс `Analysis`."
      ],
      "metadata": {
        "id": "QLNMvvhXoIdV"
      }
    },
    {
      "cell_type": "markdown",
      "source": [
        "**Решение**\n",
        "\n",
        "Напишите свое решение ниже"
      ],
      "metadata": {
        "id": "LThhpSINoMHN"
      }
    },
    {
      "cell_type": "code",
      "source": [
        "class Analysis:\n",
        "  \"\"\"\n",
        "  Класс для вычисления аналитик по задачам:\n",
        "  общее количество задач,\n",
        "  количество задач в определенном статусе,\n",
        "  самые длительные задачи\n",
        "  \"\"\"\n",
        "  @staticmethod\n",
        "  def count_tasks(project: object) -> int:\n",
        "    cnt_tasks = 0\n",
        "    for task in project:\n",
        "      cnt_tasks += 1\n",
        "    return cnt_tasks\n",
        "\n",
        "  @staticmethod\n",
        "  def count_tasks_by_status(project: object, status: str) -> int:\n",
        "    cnt_tasks = 0\n",
        "    for task in project:\n",
        "      if task.get_status() == status:\n",
        "        cnt_tasks += 1\n",
        "    return cnt_tasks\n",
        "\n",
        "  @staticmethod\n",
        "  def find_longest_task(project: object) -> object  :\n",
        "    max_duration = 0\n",
        "    for task in project:\n",
        "      if task.duration > max_duration:\n",
        "        max_duration = task.duration\n",
        "        longest_task = task\n",
        "    return longest_task\n"
      ],
      "metadata": {
        "id": "9s8JBMlboJuf"
      },
      "execution_count": 27,
      "outputs": []
    },
    {
      "cell_type": "code",
      "source": [
        "#@title ✏️ Проверка: чтобы проверить свое решение запустите код в этой ячейке\n",
        "res2 = Analysis.count_tasks(project)\n",
        "res3 = Analysis.count_tasks_by_status(project, \"Выполняется\")\n",
        "res4 = Analysis.find_longest_task(project).get_name()\n",
        "\n",
        "try:\n",
        "    assert res2 == 4\n",
        "    assert res3 == 3\n",
        "    assert res4 == 'Задача 1'\n",
        "except AssertionError:\n",
        "    print('Ответы не совпадают')\n",
        "else:\n",
        "    print('Поздравляем, Вы справились!')"
      ],
      "metadata": {
        "colab": {
          "base_uri": "https://localhost:8080/"
        },
        "id": "a36bM9j9tD7l",
        "outputId": "5433da9a-2d97-4869-afa9-529c2258ac85",
        "cellView": "form"
      },
      "execution_count": 28,
      "outputs": [
        {
          "output_type": "stream",
          "name": "stdout",
          "text": [
            "Поздравляем, Вы справились!\n"
          ]
        }
      ]
    },
    {
      "cell_type": "markdown",
      "source": [
        "#### **Задача 3**\n",
        "\n",
        "Напишите `EnhancedAnalysis`"
      ],
      "metadata": {
        "id": "AwB-HtPLtjyl"
      }
    },
    {
      "cell_type": "markdown",
      "source": [
        "**Решение**\n",
        "\n",
        "Напишите свое решение ниже"
      ],
      "metadata": {
        "id": "GOTB--hmt2xw"
      }
    },
    {
      "cell_type": "code",
      "source": [
        "class EnhancedAnalysis(Analysis):\n",
        "  \"\"\"\n",
        "  Класс для формирования списка задач,\n",
        "  содержащих в наименовании или описании\n",
        "  указанные слова\n",
        "  \"\"\"\n",
        "\n",
        "  @staticmethod\n",
        "  def find_tasks_with_keywords(project: object, keywords: list):\n",
        "    tasks = [\n",
        "        task for task in project\n",
        "        if any(\n",
        "            word in task.get_name()\n",
        "            or word in task.get_description()\n",
        "            for word in keywords\n",
        "            )\n",
        "        ]\n",
        "    return tasks\n",
        "\n",
        "  def __iter__(self):\n",
        "    return iter(self._tasks)\n"
      ],
      "metadata": {
        "id": "fz7nRb_ntKMv"
      },
      "execution_count": 36,
      "outputs": []
    },
    {
      "cell_type": "code",
      "source": [
        "#@title ✏️ Проверка: чтобы проверить свое решение запустите код в этой ячейке\n",
        "keywords = [\"срочно\"]\n",
        "found_tasks = EnhancedAnalysis.find_tasks_with_keywords(project, keywords)\n",
        "res5 = []\n",
        "for task in found_tasks:\n",
        "  res5.append(task.get_name())\n",
        "\n",
        "try:\n",
        "    assert res5 == ['Задача 4']\n",
        "except AssertionError:\n",
        "    print('Ответы не совпадают')\n",
        "else:\n",
        "    print('Поздравляем, Вы справились!')"
      ],
      "metadata": {
        "colab": {
          "base_uri": "https://localhost:8080/"
        },
        "id": "KzV-hUKcvxb2",
        "outputId": "7530cf67-1c9e-4100-e09e-7a6589686e93",
        "cellView": "form"
      },
      "execution_count": 37,
      "outputs": [
        {
          "output_type": "stream",
          "name": "stdout",
          "text": [
            "Поздравляем, Вы справились!\n"
          ]
        }
      ]
    }
  ]
}