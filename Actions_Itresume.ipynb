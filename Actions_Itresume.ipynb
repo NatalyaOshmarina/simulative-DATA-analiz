{
  "nbformat": 4,
  "nbformat_minor": 0,
  "metadata": {
    "colab": {
      "provenance": []
    },
    "kernelspec": {
      "name": "python3",
      "display_name": "Python 3"
    },
    "language_info": {
      "name": "python"
    }
  },
  "cells": [
    {
      "cell_type": "markdown",
      "source": [
        "## **2 кейс**\n",
        "\n",
        "**Выгрузка активности с ItResume**"
      ],
      "metadata": {
        "id": "XUqCUBW5fUST"
      }
    },
    {
      "cell_type": "markdown",
      "source": [
        "**Важно**\n",
        "\n",
        "Перед началом решения выполните следующую ячейку, чтобы загрузить необходимый для работы файл."
      ],
      "metadata": {
        "id": "OcK9kF9mfZIt"
      }
    },
    {
      "cell_type": "code",
      "execution_count": 65,
      "metadata": {
        "id": "KtNBw8nOfPsB",
        "outputId": "610be02c-297d-4f89-ec0c-682fac458d3e",
        "colab": {
          "base_uri": "https://localhost:8080/"
        }
      },
      "outputs": [
        {
          "output_type": "stream",
          "name": "stdout",
          "text": [
            "--2025-03-27 08:17:56--  https://gist.github.com/Vs8th/a7a7f00e6cdef1b3fe87e4d61ca56e5f/raw/codesubmit.csv\n",
            "Resolving gist.github.com (gist.github.com)... 20.27.177.113\n",
            "Connecting to gist.github.com (gist.github.com)|20.27.177.113|:443... connected.\n",
            "HTTP request sent, awaiting response... 301 Moved Permanently\n",
            "Location: https://gist.githubusercontent.com/Vs8th/a7a7f00e6cdef1b3fe87e4d61ca56e5f/raw/codesubmit.csv [following]\n",
            "--2025-03-27 08:17:57--  https://gist.githubusercontent.com/Vs8th/a7a7f00e6cdef1b3fe87e4d61ca56e5f/raw/codesubmit.csv\n",
            "Resolving gist.githubusercontent.com (gist.githubusercontent.com)... 185.199.110.133, 185.199.111.133, 185.199.108.133, ...\n",
            "Connecting to gist.githubusercontent.com (gist.githubusercontent.com)|185.199.110.133|:443... connected.\n",
            "HTTP request sent, awaiting response... 200 OK\n",
            "Length: 215378 (210K) [text/plain]\n",
            "Saving to: ‘codesubmit.csv.1’\n",
            "\n",
            "codesubmit.csv.1    100%[===================>] 210.33K  --.-KB/s    in 0.1s    \n",
            "\n",
            "2025-03-27 08:17:57 (1.37 MB/s) - ‘codesubmit.csv.1’ saved [215378/215378]\n",
            "\n"
          ]
        }
      ],
      "source": [
        "!wget https://gist.github.com/Vs8th/a7a7f00e6cdef1b3fe87e4d61ca56e5f/raw/codesubmit.csv"
      ]
    },
    {
      "cell_type": "markdown",
      "source": [
        "Чтобы посмотреть как он выглядит выполните следующую ячейку."
      ],
      "metadata": {
        "id": "JIwIK2E5fcyA"
      }
    },
    {
      "cell_type": "code",
      "source": [
        "import pandas as pd\n",
        "\n",
        "df = pd.read_csv('codesubmit.csv', sep = ';')\n",
        "df"
      ],
      "metadata": {
        "id": "6f84pObFfbGE",
        "colab": {
          "base_uri": "https://localhost:8080/",
          "height": 419
        },
        "outputId": "9db0feea-1d29-495c-a965-73b4a3a4bacc"
      },
      "execution_count": null,
      "outputs": [
        {
          "output_type": "execute_result",
          "data": {
            "text/plain": [
              "                      created_at  user_id  problem_id  is_correct    type\n",
              "0     2023-04-30 13:47:14.344471        7         870         1.0  submit\n",
              "1     2023-04-30 13:46:15.949925        7         870         0.0  submit\n",
              "2     2023-04-30 16:13:26.005286      173          21         1.0  submit\n",
              "3     2023-04-30 16:13:06.739782      173          21         NaN     run\n",
              "4     2023-04-30 15:52:00.195532      173          25         1.0  submit\n",
              "...                          ...      ...         ...         ...     ...\n",
              "4994  2023-04-30 21:52:00.269123    13493         435         NaN     run\n",
              "4995  2023-04-30 21:51:01.094234    13493         435         1.0  submit\n",
              "4996  2023-04-30 21:50:52.059690    13493         435         NaN     run\n",
              "4997  2023-04-30 21:42:24.323689    13493        1086         NaN     run\n",
              "4998  2023-04-30 21:36:13.783309    13493        1086         NaN     run\n",
              "\n",
              "[4999 rows x 5 columns]"
            ],
            "text/html": [
              "\n",
              "  <div id=\"df-fa64f658-a428-4438-ac17-30b9198d2b0c\">\n",
              "    <div class=\"colab-df-container\">\n",
              "      <div>\n",
              "<style scoped>\n",
              "    .dataframe tbody tr th:only-of-type {\n",
              "        vertical-align: middle;\n",
              "    }\n",
              "\n",
              "    .dataframe tbody tr th {\n",
              "        vertical-align: top;\n",
              "    }\n",
              "\n",
              "    .dataframe thead th {\n",
              "        text-align: right;\n",
              "    }\n",
              "</style>\n",
              "<table border=\"1\" class=\"dataframe\">\n",
              "  <thead>\n",
              "    <tr style=\"text-align: right;\">\n",
              "      <th></th>\n",
              "      <th>created_at</th>\n",
              "      <th>user_id</th>\n",
              "      <th>problem_id</th>\n",
              "      <th>is_correct</th>\n",
              "      <th>type</th>\n",
              "    </tr>\n",
              "  </thead>\n",
              "  <tbody>\n",
              "    <tr>\n",
              "      <th>0</th>\n",
              "      <td>2023-04-30 13:47:14.344471</td>\n",
              "      <td>7</td>\n",
              "      <td>870</td>\n",
              "      <td>1.0</td>\n",
              "      <td>submit</td>\n",
              "    </tr>\n",
              "    <tr>\n",
              "      <th>1</th>\n",
              "      <td>2023-04-30 13:46:15.949925</td>\n",
              "      <td>7</td>\n",
              "      <td>870</td>\n",
              "      <td>0.0</td>\n",
              "      <td>submit</td>\n",
              "    </tr>\n",
              "    <tr>\n",
              "      <th>2</th>\n",
              "      <td>2023-04-30 16:13:26.005286</td>\n",
              "      <td>173</td>\n",
              "      <td>21</td>\n",
              "      <td>1.0</td>\n",
              "      <td>submit</td>\n",
              "    </tr>\n",
              "    <tr>\n",
              "      <th>3</th>\n",
              "      <td>2023-04-30 16:13:06.739782</td>\n",
              "      <td>173</td>\n",
              "      <td>21</td>\n",
              "      <td>NaN</td>\n",
              "      <td>run</td>\n",
              "    </tr>\n",
              "    <tr>\n",
              "      <th>4</th>\n",
              "      <td>2023-04-30 15:52:00.195532</td>\n",
              "      <td>173</td>\n",
              "      <td>25</td>\n",
              "      <td>1.0</td>\n",
              "      <td>submit</td>\n",
              "    </tr>\n",
              "    <tr>\n",
              "      <th>...</th>\n",
              "      <td>...</td>\n",
              "      <td>...</td>\n",
              "      <td>...</td>\n",
              "      <td>...</td>\n",
              "      <td>...</td>\n",
              "    </tr>\n",
              "    <tr>\n",
              "      <th>4994</th>\n",
              "      <td>2023-04-30 21:52:00.269123</td>\n",
              "      <td>13493</td>\n",
              "      <td>435</td>\n",
              "      <td>NaN</td>\n",
              "      <td>run</td>\n",
              "    </tr>\n",
              "    <tr>\n",
              "      <th>4995</th>\n",
              "      <td>2023-04-30 21:51:01.094234</td>\n",
              "      <td>13493</td>\n",
              "      <td>435</td>\n",
              "      <td>1.0</td>\n",
              "      <td>submit</td>\n",
              "    </tr>\n",
              "    <tr>\n",
              "      <th>4996</th>\n",
              "      <td>2023-04-30 21:50:52.059690</td>\n",
              "      <td>13493</td>\n",
              "      <td>435</td>\n",
              "      <td>NaN</td>\n",
              "      <td>run</td>\n",
              "    </tr>\n",
              "    <tr>\n",
              "      <th>4997</th>\n",
              "      <td>2023-04-30 21:42:24.323689</td>\n",
              "      <td>13493</td>\n",
              "      <td>1086</td>\n",
              "      <td>NaN</td>\n",
              "      <td>run</td>\n",
              "    </tr>\n",
              "    <tr>\n",
              "      <th>4998</th>\n",
              "      <td>2023-04-30 21:36:13.783309</td>\n",
              "      <td>13493</td>\n",
              "      <td>1086</td>\n",
              "      <td>NaN</td>\n",
              "      <td>run</td>\n",
              "    </tr>\n",
              "  </tbody>\n",
              "</table>\n",
              "<p>4999 rows × 5 columns</p>\n",
              "</div>\n",
              "      <button class=\"colab-df-convert\" onclick=\"convertToInteractive('df-fa64f658-a428-4438-ac17-30b9198d2b0c')\"\n",
              "              title=\"Convert this dataframe to an interactive table.\"\n",
              "              style=\"display:none;\">\n",
              "        \n",
              "  <svg xmlns=\"http://www.w3.org/2000/svg\" height=\"24px\"viewBox=\"0 0 24 24\"\n",
              "       width=\"24px\">\n",
              "    <path d=\"M0 0h24v24H0V0z\" fill=\"none\"/>\n",
              "    <path d=\"M18.56 5.44l.94 2.06.94-2.06 2.06-.94-2.06-.94-.94-2.06-.94 2.06-2.06.94zm-11 1L8.5 8.5l.94-2.06 2.06-.94-2.06-.94L8.5 2.5l-.94 2.06-2.06.94zm10 10l.94 2.06.94-2.06 2.06-.94-2.06-.94-.94-2.06-.94 2.06-2.06.94z\"/><path d=\"M17.41 7.96l-1.37-1.37c-.4-.4-.92-.59-1.43-.59-.52 0-1.04.2-1.43.59L10.3 9.45l-7.72 7.72c-.78.78-.78 2.05 0 2.83L4 21.41c.39.39.9.59 1.41.59.51 0 1.02-.2 1.41-.59l7.78-7.78 2.81-2.81c.8-.78.8-2.07 0-2.86zM5.41 20L4 18.59l7.72-7.72 1.47 1.35L5.41 20z\"/>\n",
              "  </svg>\n",
              "      </button>\n",
              "      \n",
              "  <style>\n",
              "    .colab-df-container {\n",
              "      display:flex;\n",
              "      flex-wrap:wrap;\n",
              "      gap: 12px;\n",
              "    }\n",
              "\n",
              "    .colab-df-convert {\n",
              "      background-color: #E8F0FE;\n",
              "      border: none;\n",
              "      border-radius: 50%;\n",
              "      cursor: pointer;\n",
              "      display: none;\n",
              "      fill: #1967D2;\n",
              "      height: 32px;\n",
              "      padding: 0 0 0 0;\n",
              "      width: 32px;\n",
              "    }\n",
              "\n",
              "    .colab-df-convert:hover {\n",
              "      background-color: #E2EBFA;\n",
              "      box-shadow: 0px 1px 2px rgba(60, 64, 67, 0.3), 0px 1px 3px 1px rgba(60, 64, 67, 0.15);\n",
              "      fill: #174EA6;\n",
              "    }\n",
              "\n",
              "    [theme=dark] .colab-df-convert {\n",
              "      background-color: #3B4455;\n",
              "      fill: #D2E3FC;\n",
              "    }\n",
              "\n",
              "    [theme=dark] .colab-df-convert:hover {\n",
              "      background-color: #434B5C;\n",
              "      box-shadow: 0px 1px 3px 1px rgba(0, 0, 0, 0.15);\n",
              "      filter: drop-shadow(0px 1px 2px rgba(0, 0, 0, 0.3));\n",
              "      fill: #FFFFFF;\n",
              "    }\n",
              "  </style>\n",
              "\n",
              "      <script>\n",
              "        const buttonEl =\n",
              "          document.querySelector('#df-fa64f658-a428-4438-ac17-30b9198d2b0c button.colab-df-convert');\n",
              "        buttonEl.style.display =\n",
              "          google.colab.kernel.accessAllowed ? 'block' : 'none';\n",
              "\n",
              "        async function convertToInteractive(key) {\n",
              "          const element = document.querySelector('#df-fa64f658-a428-4438-ac17-30b9198d2b0c');\n",
              "          const dataTable =\n",
              "            await google.colab.kernel.invokeFunction('convertToInteractive',\n",
              "                                                     [key], {});\n",
              "          if (!dataTable) return;\n",
              "\n",
              "          const docLinkHtml = 'Like what you see? Visit the ' +\n",
              "            '<a target=\"_blank\" href=https://colab.research.google.com/notebooks/data_table.ipynb>data table notebook</a>'\n",
              "            + ' to learn more about interactive tables.';\n",
              "          element.innerHTML = '';\n",
              "          dataTable['output_type'] = 'display_data';\n",
              "          await google.colab.output.renderOutput(dataTable, element);\n",
              "          const docLink = document.createElement('div');\n",
              "          docLink.innerHTML = docLinkHtml;\n",
              "          element.appendChild(docLink);\n",
              "        }\n",
              "      </script>\n",
              "    </div>\n",
              "  </div>\n",
              "  "
            ]
          },
          "metadata": {},
          "execution_count": 2
        }
      ]
    },
    {
      "cell_type": "markdown",
      "source": [
        "### **Решения**"
      ],
      "metadata": {
        "id": "CxmnD3GvffQ4"
      }
    },
    {
      "cell_type": "markdown",
      "source": [
        "#### **Задача 1**\n",
        "\n",
        "Ваша задача - выяснить сколько в среднем тратится времени на решение задачи.\n",
        "\n",
        "**Примечание**: для правильного подсчета - рассчитайте сначала среднее время решения по каждой задаче в отдельности, и только затем находите общее среднее время решения задач.\n",
        "\n",
        "Результат - число типа `float`, округлите до 2 знаков после запятой и запишите в переменную `res`.\n"
      ],
      "metadata": {
        "id": "5bdLXu2ksLB7"
      }
    },
    {
      "cell_type": "markdown",
      "source": [
        "**Решение**\n",
        "\n",
        "Напишите свое решение ниже"
      ],
      "metadata": {
        "id": "qUL4LtIUnJge"
      }
    },
    {
      "cell_type": "code",
      "source": [
        "import csv\n",
        "from datetime import datetime\n",
        "from collections import defaultdict"
      ],
      "metadata": {
        "id": "VOmrektJocBz"
      },
      "execution_count": 66,
      "outputs": []
    },
    {
      "cell_type": "code",
      "source": [
        "# функции чтения файлов и группировки данных\n",
        "def read_file(file):\n",
        "  with open(file, newline='') as file_csv:\n",
        "    reader = csv.reader(file_csv, delimiter=';')\n",
        "    header = next(reader)\n",
        "    users = [row for row in reader]\n",
        "    return users\n",
        "\n",
        "def get_time_solving(data: list) -> dict:\n",
        "  \"\"\"\n",
        "  Возвращает массив, сгруппированный по задачам с количеством времени,\n",
        "  потраченного на решение каждым пользователем.\n",
        "\n",
        "  Args:\n",
        "      data (list): массив записей активности пользователей, отсортированный\n",
        "      по id задачи, времени активности (отправка задачи на проверку\n",
        "      или выполнение) и id пользователя.\n",
        "\n",
        "  Returns:\n",
        "      dict: Словарь, где ключом является id задачи, а значение - строка,\n",
        "      содержащая время решения задачи каждым пользователем.\n",
        "  \"\"\"\n",
        "\n",
        "  if not data:\n",
        "    return {}\n",
        "\n",
        "  grouped_results = defaultdict(dict)\n",
        "  user_problem_times = defaultdict(dict)\n",
        "\n",
        "  for row in data:\n",
        "    timestamp_str, user, problem, solved, _, = row\n",
        "    timestamp = datetime.strptime(timestamp_str, '%Y-%m-%d %H:%M:%S.%f')\n",
        "\n",
        "    # Если задача уже решена для этого пользователя - пропускаем\n",
        "    if user_problem_times[user].get(problem, {}).get('solved', False):\n",
        "      continue\n",
        "\n",
        "    # Если это первая запись для пользователя/задачи\n",
        "    if problem not in user_problem_times[user]:\n",
        "      user_problem_times[user][problem] = {\n",
        "          'start_time': timestamp,\n",
        "          'solved': False\n",
        "          }\n",
        "\n",
        "    # Если нашли успешное решение (solved == '1')\n",
        "    if solved == '1':\n",
        "      time_spent = (\n",
        "          timestamp - user_problem_times[user][problem]['start_time']\n",
        "          ).total_seconds()\n",
        "      if time_spent != 0.0:\n",
        "        grouped_results[problem] = grouped_results.get(problem, '') + ' ' + str(time_spent)\n",
        "      user_problem_times[user][problem]['solved'] = True\n",
        "\n",
        "  return dict(grouped_results)\n",
        "\n",
        "rows = read_file('codesubmit.csv')\n",
        "grouped_list = get_time_solving(sorted(rows, key=lambda x: (x[2], x[0], x[1])))\n",
        "#преобразуем значения словаря в числа\n",
        "created_float_list = {\n",
        "    key: list(map(float, value.split())) for key, value in grouped_list.items()\n",
        "    }\n",
        "#вычисляем среднее время решения для каждой задачи\n",
        "result_list = {\n",
        "    key: sum(value) / len(value) for key, value in created_float_list.items()\n",
        "    }\n",
        "res = round(sum(result_list.values()) / len(result_list), 2)\n"
      ],
      "metadata": {
        "id": "F19zAg6oDEQT"
      },
      "execution_count": 67,
      "outputs": []
    },
    {
      "cell_type": "markdown",
      "source": [
        "✏️ ✏️ ✏️\n",
        "\n",
        "**Проверка**\n",
        "\n",
        "Чтобы проверить свое решение, запустите код в следующих ячейках"
      ],
      "metadata": {
        "id": "54Tvpn9OkDwV"
      }
    },
    {
      "cell_type": "code",
      "source": [
        "try:\n",
        "    assert res == 611.86\n",
        "except AssertionError:\n",
        "    print('Ответы не совпадают')\n",
        "else:\n",
        "    print('Поздравляем, Вы справились!')"
      ],
      "metadata": {
        "id": "LkqzVw9skKEC",
        "colab": {
          "base_uri": "https://localhost:8080/"
        },
        "outputId": "45b79c09-cc6c-4f1d-e0ef-fbc5e1ed8319"
      },
      "execution_count": null,
      "outputs": [
        {
          "output_type": "stream",
          "name": "stdout",
          "text": [
            "Поздравляем, Вы справились!\n"
          ]
        }
      ]
    },
    {
      "cell_type": "markdown",
      "source": [
        "#### **Задача 2**\n",
        "\n",
        "Ваша задача - выяснить сколько часов в среднем проводит юзер в день на платформе. Перерывы в активности за день - не учитываем.\n",
        "\n",
        "Результат - число типа `float`, округлите до 2 знаков после запятой и запишите в переменную `res2`."
      ],
      "metadata": {
        "id": "QLNMvvhXoIdV"
      }
    },
    {
      "cell_type": "markdown",
      "source": [
        "**Решение**\n",
        "\n",
        "Напишите свое решение ниже"
      ],
      "metadata": {
        "id": "LThhpSINoMHN"
      }
    },
    {
      "cell_type": "code",
      "source": [
        "def avg_active_times(data: list) -> float:\n",
        "  \"\"\"\n",
        "  Вычисляет среднее значение времени, проведенное пользователем на платформе.\n",
        "\n",
        "  Args:\n",
        "      data (list): массив записей активности пользователей, отсортированный\n",
        "      по id пользователя и времени активности (отправка задачи на проверку\n",
        "      или выполнение).\n",
        "\n",
        "  Returns:\n",
        "      float: Среднее значение времени пользователей, проведенного на платформе.\n",
        "  \"\"\"\n",
        "\n",
        "  if not data:\n",
        "      return {}\n",
        "\n",
        "  result = dict.fromkeys([row[1] for row in data], 0)\n",
        "  time_str = data[0][0]\n",
        "  user = data[0][1]\n",
        "  time_start = datetime.strptime(time_str, '%Y-%m-%d %H:%M:%S.%f')\n",
        "\n",
        "  for row in data:\n",
        "    if row[1] == user:\n",
        "      time_diff = datetime.strptime(row[0], '%Y-%m-%d %H:%M:%S.%f') - time_start\n",
        "      result[user] = result.get(user, 0) + (time_diff.total_seconds() / 3600)\n",
        "      time_start = datetime.strptime(row[0], '%Y-%m-%d %H:%M:%S.%f')\n",
        "    else:\n",
        "      time_start = datetime.strptime(row[0], '%Y-%m-%d %H:%M:%S.%f')\n",
        "      user = row[1]\n",
        "\n",
        "  return round(sum(result.values()) / len(result), 2)\n",
        "\n",
        "users = sorted([(row [0], row[1]) for row in rows], key=lambda x: (x[1], x[0]))\n",
        "res2 = avg_active_times(users)"
      ],
      "metadata": {
        "id": "LHlP5JjMAF4m"
      },
      "execution_count": null,
      "outputs": []
    },
    {
      "cell_type": "markdown",
      "source": [
        "✏️ ✏️ ✏️\n",
        "\n",
        "**Проверка**\n",
        "\n",
        "Чтобы проверить свое решение, запустите код в следующих ячейках"
      ],
      "metadata": {
        "id": "GN_PNZICsxRD"
      }
    },
    {
      "cell_type": "code",
      "source": [
        "try:\n",
        "    assert res2 == 1.7\n",
        "except AssertionError:\n",
        "    print('Ответы не совпадают')\n",
        "else:\n",
        "    print('Поздравляем, Вы справились!')"
      ],
      "metadata": {
        "colab": {
          "base_uri": "https://localhost:8080/"
        },
        "id": "a36bM9j9tD7l",
        "outputId": "8928c129-965f-41c2-c26c-7d54cd683c6f"
      },
      "execution_count": null,
      "outputs": [
        {
          "output_type": "stream",
          "name": "stdout",
          "text": [
            "Поздравляем, Вы справились!\n"
          ]
        }
      ]
    },
    {
      "cell_type": "markdown",
      "source": [
        "#### **Задача 3**\n",
        "\n",
        "Теперь давайте посмотрим на активные сеансы. Выясните, сколько задач в среднем решается за один активный сеанс.\n",
        "\n",
        "**Активный сеанс** - период, когда между любой активностью пользователя разница менее или равна часу, не более\n",
        "\n",
        "**Важно**: в расчет берем не только успешные попытки решений (`is_correct=1`), а и неуспешные тоже (`is_correct=0`), и тип `run` в том числе.\n",
        "\n",
        "Результат - число типа `float`, округлите до 2 знаков после запятой и запишите в переменную `res3`."
      ],
      "metadata": {
        "id": "AwB-HtPLtjyl"
      }
    },
    {
      "cell_type": "markdown",
      "source": [
        "**Решение**\n",
        "\n",
        "Напишите свое решение ниже"
      ],
      "metadata": {
        "id": "GOTB--hmt2xw"
      }
    },
    {
      "cell_type": "code",
      "source": [
        "def calculate_avg_cnt_problems(data: dict) -> float:\n",
        "  \"\"\"\n",
        "  Вычисляет среднее количество задач, решаемых за один активный сеанс.\n",
        "  Под активным сеансом понимается сеанс, проведенный пользователем без перерыва час и более.\n",
        "\n",
        "  Args:\n",
        "      data (dict): словарь записей активности пользователей, где ключом является\n",
        "      id пользователя, а значением - словарь с ключем - номер активного сеанса\n",
        "      и значением - список id задач, решаемых пользователем.\n",
        "\n",
        "  Returns:\n",
        "      float: Среднее значение количеств задач, решаемых за активный сеанс.\n",
        "  \"\"\"\n",
        "  cnt_problem = {}\n",
        "  cnt_user = {}\n",
        "\n",
        "  for user, session in data.items():\n",
        "    for num, problems in session.items():\n",
        "      cnt_problem[num] = cnt_problem.get(num, 0) + len(problems)\n",
        "      cnt_user[num] = cnt_user.get(num, 0) + 1\n",
        "\n",
        "  return round(sum(cnt_problem.values()) / sum(cnt_user.values()), 2)\n",
        "\n",
        "\n",
        "def calculate_cnt_problem(data: list) -> float:\n",
        "  \"\"\"\n",
        "  Вычисляет среднее количество задач, решаемых за один активный сеанс.\n",
        "  Под активным сеансом понимается сеанс, проведенеый пользователем без перерыва менее часа.\n",
        "\n",
        "  Args:\n",
        "      data (list): массив записей активности пользователей, отсортированный\n",
        "      по id пользователя, времени активности (отправка задачи на проверку\n",
        "      или выполнение) и id задачи.\n",
        "\n",
        "  Returns:\n",
        "      float: Среднее значение количеств задач, решаемых за активный сеанс.\n",
        "  \"\"\"\n",
        "\n",
        "  if not data:\n",
        "      return {}\n",
        "\n",
        "  user_problem_times = defaultdict(dict)\n",
        "\n",
        "  for row in data:\n",
        "      timestamp_str, user, problem, _, _ = row\n",
        "      timestamp = datetime.strptime(timestamp_str, '%Y-%m-%d %H:%M:%S.%f')\n",
        "\n",
        "       # Инициализация структуры для нового пользователя\n",
        "      if user not in user_problem_times: # Первый сеанс\n",
        "        user_problem_times[user] = {\n",
        "            1: {\n",
        "                'problems': set(),\n",
        "                'last_activity': timestamp\n",
        "                }\n",
        "            }\n",
        "        current_session = 1\n",
        "\n",
        "       # Получаем последнюю сессию пользователя\n",
        "      last_session = max(user_problem_times[user].keys())\n",
        "      last_activity = user_problem_times[user][last_session]['last_activity']\n",
        "\n",
        "       # Проверяем перерыв между активностями\n",
        "      time_diff = (timestamp - last_activity).total_seconds() / 3600\n",
        "\n",
        "      if time_diff > 1:  # Новая сессия\n",
        "        new_session = last_session + 1\n",
        "        user_problem_times[user][new_session] = {\n",
        "            'problems': set(),\n",
        "            'last_activity': timestamp\n",
        "            }\n",
        "        current_session = new_session\n",
        "      else:\n",
        "        current_session = last_session\n",
        "\n",
        "       # Добавляем задачу в текущую сессию\n",
        "      user_problem_times[user][current_session]['problems'].add(problem)\n",
        "      user_problem_times[user][current_session]['last_activity'] = timestamp\n",
        "\n",
        "  # Преобразуем в dict\n",
        "  result = {}\n",
        "  for user, sessions in user_problem_times.items():\n",
        "      result[user] = {}\n",
        "      for session_num, session_data in sessions.items():\n",
        "          result[user][session_num] = session_data['problems']\n",
        "\n",
        "  return calculate_avg_cnt_problems(result)\n",
        "\n",
        "res3 = calculate_cnt_problem(sorted(rows, key=lambda x: (x[1], x[0], x[2])))"
      ],
      "metadata": {
        "id": "fz7nRb_ntKMv"
      },
      "execution_count": null,
      "outputs": []
    },
    {
      "cell_type": "markdown",
      "source": [
        "✏️ ✏️ ✏️\n",
        "\n",
        "**Проверка**\n",
        "\n",
        "Чтобы проверить свое решение, запустите код в следующих ячейках"
      ],
      "metadata": {
        "id": "0-7TiI06t8D0"
      }
    },
    {
      "cell_type": "code",
      "source": [
        "try:\n",
        "    assert res3 == 3.14\n",
        "except AssertionError:\n",
        "    print('Ответы не совпадают')\n",
        "else:\n",
        "    print('Поздравляем, Вы справились!')"
      ],
      "metadata": {
        "id": "eOzvKzYqt_UH",
        "colab": {
          "base_uri": "https://localhost:8080/"
        },
        "outputId": "ac5ac0d4-33e9-4afd-a8fd-9f0373527198"
      },
      "execution_count": null,
      "outputs": [
        {
          "output_type": "stream",
          "name": "stdout",
          "text": [
            "Поздравляем, Вы справились!\n"
          ]
        }
      ]
    },
    {
      "cell_type": "markdown",
      "source": [
        "#### **Задача 4**\n",
        "\n",
        "И финальная - найдите самый \"популярный\" час дня на нашей платформе.\n",
        "\n",
        "Популярность определяем максимальным количеством уникальных пользователей, совершающих какую-либо активность в этот период\n",
        "\n",
        "Результат в числовом формате запишите в переменную `res4`.\n",
        "\n",
        "Например, самым популярным часом стал период с 22 до 23, тогда в переменной `res4` должно лежать **22**. Обозначающее начало этого периода."
      ],
      "metadata": {
        "id": "7YYyJ9pIOiu0"
      }
    },
    {
      "cell_type": "markdown",
      "source": [
        "**Решение**\n",
        "\n",
        "Напишите свое решение ниже"
      ],
      "metadata": {
        "id": "iSMSae9APKaH"
      }
    },
    {
      "cell_type": "code",
      "source": [
        "hours = dict()\n",
        "for row in rows:\n",
        "  current_hour = datetime.strptime(row[0], '%Y-%m-%d %H:%M:%S.%f').hour\n",
        "  user = row[1]\n",
        "  hours[current_hour] = hours.get(current_hour, user) + ' ' + user\n",
        "\n",
        "cnt_unique_users = {key: len(set(value.split())) for key, value in hours.items()}\n",
        "res4 = max(cnt_unique_users, key=cnt_unique_users.get)\n"
      ],
      "metadata": {
        "id": "YR3WT5QlPH75",
        "colab": {
          "base_uri": "https://localhost:8080/"
        },
        "outputId": "be832c05-eb58-48bc-829b-a8657182cdb9"
      },
      "execution_count": null,
      "outputs": [
        {
          "output_type": "execute_result",
          "data": {
            "text/plain": [
              "16"
            ]
          },
          "metadata": {},
          "execution_count": 30
        }
      ]
    },
    {
      "cell_type": "markdown",
      "source": [
        "✏️ ✏️ ✏️\n",
        "\n",
        "**Проверка**\n",
        "\n",
        "Чтобы проверить свое решение, запустите код в следующих ячейках"
      ],
      "metadata": {
        "id": "8BacSt70PPhN"
      }
    },
    {
      "cell_type": "code",
      "source": [
        "try:\n",
        "    assert res4 == 16\n",
        "except AssertionError:\n",
        "    print('Ответы не совпадают')\n",
        "else:\n",
        "    print('Поздравляем, Вы справились!')"
      ],
      "metadata": {
        "id": "8xdTbZWOPMp1",
        "colab": {
          "base_uri": "https://localhost:8080/"
        },
        "outputId": "872df2c0-cabb-475b-b78b-544040011885"
      },
      "execution_count": null,
      "outputs": [
        {
          "output_type": "stream",
          "name": "stdout",
          "text": [
            "Поздравляем, Вы справились!\n"
          ]
        }
      ]
    }
  ]
}