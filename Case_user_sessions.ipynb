{
  "nbformat": 4,
  "nbformat_minor": 0,
  "metadata": {
    "colab": {
      "provenance": []
    },
    "kernelspec": {
      "name": "python3",
      "display_name": "Python 3"
    },
    "language_info": {
      "name": "python"
    }
  },
  "cells": [
    {
      "cell_type": "markdown",
      "source": [
        "## **3 кейс**\n",
        "\n",
        "**Пользовательские сессии**"
      ],
      "metadata": {
        "id": "XUqCUBW5fUST"
      }
    },
    {
      "cell_type": "markdown",
      "source": [
        "**Важно**\n",
        "\n",
        "Перед началом решения выполните следующую ячейку, чтобы загрузить необходимый для работы файл."
      ],
      "metadata": {
        "id": "OcK9kF9mfZIt"
      }
    },
    {
      "cell_type": "code",
      "execution_count": 1,
      "metadata": {
        "id": "KtNBw8nOfPsB",
        "colab": {
          "base_uri": "https://localhost:8080/"
        },
        "outputId": "15acb0b4-0691-4411-b916-3d57f646af19"
      },
      "outputs": [
        {
          "output_type": "stream",
          "name": "stdout",
          "text": [
            "--2025-03-30 07:04:21--  https://gist.github.com/Vs8th/9fcfa729905072c12b1e535c71565a68/raw/sessions.csv\n",
            "Resolving gist.github.com (gist.github.com)... 140.82.113.3\n",
            "Connecting to gist.github.com (gist.github.com)|140.82.113.3|:443... connected.\n",
            "HTTP request sent, awaiting response... 301 Moved Permanently\n",
            "Location: https://gist.githubusercontent.com/Vs8th/9fcfa729905072c12b1e535c71565a68/raw/sessions.csv [following]\n",
            "--2025-03-30 07:04:21--  https://gist.githubusercontent.com/Vs8th/9fcfa729905072c12b1e535c71565a68/raw/sessions.csv\n",
            "Resolving gist.githubusercontent.com (gist.githubusercontent.com)... 185.199.108.133, 185.199.111.133, 185.199.109.133, ...\n",
            "Connecting to gist.githubusercontent.com (gist.githubusercontent.com)|185.199.108.133|:443... connected.\n",
            "HTTP request sent, awaiting response... 200 OK\n",
            "Length: 1880014 (1.8M) [text/plain]\n",
            "Saving to: ‘sessions.csv’\n",
            "\n",
            "sessions.csv        100%[===================>]   1.79M  --.-KB/s    in 0.07s   \n",
            "\n",
            "2025-03-30 07:04:22 (24.5 MB/s) - ‘sessions.csv’ saved [1880014/1880014]\n",
            "\n"
          ]
        }
      ],
      "source": [
        "!wget https://gist.github.com/Vs8th/9fcfa729905072c12b1e535c71565a68/raw/sessions.csv"
      ]
    },
    {
      "cell_type": "markdown",
      "source": [
        "Чтобы посмотреть как он выглядит выполните следующую ячейку."
      ],
      "metadata": {
        "id": "JIwIK2E5fcyA"
      }
    },
    {
      "cell_type": "code",
      "source": [
        "import pandas as pd\n",
        "\n",
        "df = pd.read_csv('sessions.csv')\n",
        "df"
      ],
      "metadata": {
        "id": "6f84pObFfbGE",
        "colab": {
          "base_uri": "https://localhost:8080/",
          "height": 423
        },
        "outputId": "bcd5a9a7-38f9-4360-a2a6-ee71b0117c98"
      },
      "execution_count": null,
      "outputs": [
        {
          "output_type": "execute_result",
          "data": {
            "text/plain": [
              "      user_id                                            session\n",
              "0       user0  [\"2023-05-06 20:43:45\", 1192, [[\"page0\", \"2023...\n",
              "1       user1  [\"2023-05-03 15:39:47\", 1642, [[\"page0\", \"2023...\n",
              "2       user1  [\"2023-05-16 21:24:30\", 506, [[\"page0\", \"2023-...\n",
              "3       user1  [\"2023-05-09 01:41:35\", 1004, [[\"page0\", \"2023...\n",
              "4       user1  [\"2023-05-26 05:31:50\", 984, [[\"page0\", \"2023-...\n",
              "...       ...                                                ...\n",
              "5278  user998  [\"2023-05-26 17:33:49\", 631, [[\"page0\", \"2023-...\n",
              "5279  user998  [\"2023-05-15 23:21:39\", 1393, [[\"page0\", \"2023...\n",
              "5280  user998  [\"2023-05-16 10:15:48\", 1448, [[\"page0\", \"2023...\n",
              "5281  user998  [\"2023-05-26 17:06:25\", 810, [[\"page0\", \"2023-...\n",
              "5282  user999  [\"2023-05-20 08:08:50\", 744, [[\"page0\", \"2023-...\n",
              "\n",
              "[5283 rows x 2 columns]"
            ],
            "text/html": [
              "\n",
              "  <div id=\"df-3003d197-55dd-483a-bdc4-96f68fa14f34\" class=\"colab-df-container\">\n",
              "    <div>\n",
              "<style scoped>\n",
              "    .dataframe tbody tr th:only-of-type {\n",
              "        vertical-align: middle;\n",
              "    }\n",
              "\n",
              "    .dataframe tbody tr th {\n",
              "        vertical-align: top;\n",
              "    }\n",
              "\n",
              "    .dataframe thead th {\n",
              "        text-align: right;\n",
              "    }\n",
              "</style>\n",
              "<table border=\"1\" class=\"dataframe\">\n",
              "  <thead>\n",
              "    <tr style=\"text-align: right;\">\n",
              "      <th></th>\n",
              "      <th>user_id</th>\n",
              "      <th>session</th>\n",
              "    </tr>\n",
              "  </thead>\n",
              "  <tbody>\n",
              "    <tr>\n",
              "      <th>0</th>\n",
              "      <td>user0</td>\n",
              "      <td>[\"2023-05-06 20:43:45\", 1192, [[\"page0\", \"2023...</td>\n",
              "    </tr>\n",
              "    <tr>\n",
              "      <th>1</th>\n",
              "      <td>user1</td>\n",
              "      <td>[\"2023-05-03 15:39:47\", 1642, [[\"page0\", \"2023...</td>\n",
              "    </tr>\n",
              "    <tr>\n",
              "      <th>2</th>\n",
              "      <td>user1</td>\n",
              "      <td>[\"2023-05-16 21:24:30\", 506, [[\"page0\", \"2023-...</td>\n",
              "    </tr>\n",
              "    <tr>\n",
              "      <th>3</th>\n",
              "      <td>user1</td>\n",
              "      <td>[\"2023-05-09 01:41:35\", 1004, [[\"page0\", \"2023...</td>\n",
              "    </tr>\n",
              "    <tr>\n",
              "      <th>4</th>\n",
              "      <td>user1</td>\n",
              "      <td>[\"2023-05-26 05:31:50\", 984, [[\"page0\", \"2023-...</td>\n",
              "    </tr>\n",
              "    <tr>\n",
              "      <th>...</th>\n",
              "      <td>...</td>\n",
              "      <td>...</td>\n",
              "    </tr>\n",
              "    <tr>\n",
              "      <th>5278</th>\n",
              "      <td>user998</td>\n",
              "      <td>[\"2023-05-26 17:33:49\", 631, [[\"page0\", \"2023-...</td>\n",
              "    </tr>\n",
              "    <tr>\n",
              "      <th>5279</th>\n",
              "      <td>user998</td>\n",
              "      <td>[\"2023-05-15 23:21:39\", 1393, [[\"page0\", \"2023...</td>\n",
              "    </tr>\n",
              "    <tr>\n",
              "      <th>5280</th>\n",
              "      <td>user998</td>\n",
              "      <td>[\"2023-05-16 10:15:48\", 1448, [[\"page0\", \"2023...</td>\n",
              "    </tr>\n",
              "    <tr>\n",
              "      <th>5281</th>\n",
              "      <td>user998</td>\n",
              "      <td>[\"2023-05-26 17:06:25\", 810, [[\"page0\", \"2023-...</td>\n",
              "    </tr>\n",
              "    <tr>\n",
              "      <th>5282</th>\n",
              "      <td>user999</td>\n",
              "      <td>[\"2023-05-20 08:08:50\", 744, [[\"page0\", \"2023-...</td>\n",
              "    </tr>\n",
              "  </tbody>\n",
              "</table>\n",
              "<p>5283 rows × 2 columns</p>\n",
              "</div>\n",
              "    <div class=\"colab-df-buttons\">\n",
              "\n",
              "  <div class=\"colab-df-container\">\n",
              "    <button class=\"colab-df-convert\" onclick=\"convertToInteractive('df-3003d197-55dd-483a-bdc4-96f68fa14f34')\"\n",
              "            title=\"Convert this dataframe to an interactive table.\"\n",
              "            style=\"display:none;\">\n",
              "\n",
              "  <svg xmlns=\"http://www.w3.org/2000/svg\" height=\"24px\" viewBox=\"0 -960 960 960\">\n",
              "    <path d=\"M120-120v-720h720v720H120Zm60-500h600v-160H180v160Zm220 220h160v-160H400v160Zm0 220h160v-160H400v160ZM180-400h160v-160H180v160Zm440 0h160v-160H620v160ZM180-180h160v-160H180v160Zm440 0h160v-160H620v160Z\"/>\n",
              "  </svg>\n",
              "    </button>\n",
              "\n",
              "  <style>\n",
              "    .colab-df-container {\n",
              "      display:flex;\n",
              "      gap: 12px;\n",
              "    }\n",
              "\n",
              "    .colab-df-convert {\n",
              "      background-color: #E8F0FE;\n",
              "      border: none;\n",
              "      border-radius: 50%;\n",
              "      cursor: pointer;\n",
              "      display: none;\n",
              "      fill: #1967D2;\n",
              "      height: 32px;\n",
              "      padding: 0 0 0 0;\n",
              "      width: 32px;\n",
              "    }\n",
              "\n",
              "    .colab-df-convert:hover {\n",
              "      background-color: #E2EBFA;\n",
              "      box-shadow: 0px 1px 2px rgba(60, 64, 67, 0.3), 0px 1px 3px 1px rgba(60, 64, 67, 0.15);\n",
              "      fill: #174EA6;\n",
              "    }\n",
              "\n",
              "    .colab-df-buttons div {\n",
              "      margin-bottom: 4px;\n",
              "    }\n",
              "\n",
              "    [theme=dark] .colab-df-convert {\n",
              "      background-color: #3B4455;\n",
              "      fill: #D2E3FC;\n",
              "    }\n",
              "\n",
              "    [theme=dark] .colab-df-convert:hover {\n",
              "      background-color: #434B5C;\n",
              "      box-shadow: 0px 1px 3px 1px rgba(0, 0, 0, 0.15);\n",
              "      filter: drop-shadow(0px 1px 2px rgba(0, 0, 0, 0.3));\n",
              "      fill: #FFFFFF;\n",
              "    }\n",
              "  </style>\n",
              "\n",
              "    <script>\n",
              "      const buttonEl =\n",
              "        document.querySelector('#df-3003d197-55dd-483a-bdc4-96f68fa14f34 button.colab-df-convert');\n",
              "      buttonEl.style.display =\n",
              "        google.colab.kernel.accessAllowed ? 'block' : 'none';\n",
              "\n",
              "      async function convertToInteractive(key) {\n",
              "        const element = document.querySelector('#df-3003d197-55dd-483a-bdc4-96f68fa14f34');\n",
              "        const dataTable =\n",
              "          await google.colab.kernel.invokeFunction('convertToInteractive',\n",
              "                                                    [key], {});\n",
              "        if (!dataTable) return;\n",
              "\n",
              "        const docLinkHtml = 'Like what you see? Visit the ' +\n",
              "          '<a target=\"_blank\" href=https://colab.research.google.com/notebooks/data_table.ipynb>data table notebook</a>'\n",
              "          + ' to learn more about interactive tables.';\n",
              "        element.innerHTML = '';\n",
              "        dataTable['output_type'] = 'display_data';\n",
              "        await google.colab.output.renderOutput(dataTable, element);\n",
              "        const docLink = document.createElement('div');\n",
              "        docLink.innerHTML = docLinkHtml;\n",
              "        element.appendChild(docLink);\n",
              "      }\n",
              "    </script>\n",
              "  </div>\n",
              "\n",
              "\n",
              "<div id=\"df-f18589d7-a981-4523-b7a5-7b76840220d4\">\n",
              "  <button class=\"colab-df-quickchart\" onclick=\"quickchart('df-f18589d7-a981-4523-b7a5-7b76840220d4')\"\n",
              "            title=\"Suggest charts\"\n",
              "            style=\"display:none;\">\n",
              "\n",
              "<svg xmlns=\"http://www.w3.org/2000/svg\" height=\"24px\"viewBox=\"0 0 24 24\"\n",
              "     width=\"24px\">\n",
              "    <g>\n",
              "        <path d=\"M19 3H5c-1.1 0-2 .9-2 2v14c0 1.1.9 2 2 2h14c1.1 0 2-.9 2-2V5c0-1.1-.9-2-2-2zM9 17H7v-7h2v7zm4 0h-2V7h2v10zm4 0h-2v-4h2v4z\"/>\n",
              "    </g>\n",
              "</svg>\n",
              "  </button>\n",
              "\n",
              "<style>\n",
              "  .colab-df-quickchart {\n",
              "      --bg-color: #E8F0FE;\n",
              "      --fill-color: #1967D2;\n",
              "      --hover-bg-color: #E2EBFA;\n",
              "      --hover-fill-color: #174EA6;\n",
              "      --disabled-fill-color: #AAA;\n",
              "      --disabled-bg-color: #DDD;\n",
              "  }\n",
              "\n",
              "  [theme=dark] .colab-df-quickchart {\n",
              "      --bg-color: #3B4455;\n",
              "      --fill-color: #D2E3FC;\n",
              "      --hover-bg-color: #434B5C;\n",
              "      --hover-fill-color: #FFFFFF;\n",
              "      --disabled-bg-color: #3B4455;\n",
              "      --disabled-fill-color: #666;\n",
              "  }\n",
              "\n",
              "  .colab-df-quickchart {\n",
              "    background-color: var(--bg-color);\n",
              "    border: none;\n",
              "    border-radius: 50%;\n",
              "    cursor: pointer;\n",
              "    display: none;\n",
              "    fill: var(--fill-color);\n",
              "    height: 32px;\n",
              "    padding: 0;\n",
              "    width: 32px;\n",
              "  }\n",
              "\n",
              "  .colab-df-quickchart:hover {\n",
              "    background-color: var(--hover-bg-color);\n",
              "    box-shadow: 0 1px 2px rgba(60, 64, 67, 0.3), 0 1px 3px 1px rgba(60, 64, 67, 0.15);\n",
              "    fill: var(--button-hover-fill-color);\n",
              "  }\n",
              "\n",
              "  .colab-df-quickchart-complete:disabled,\n",
              "  .colab-df-quickchart-complete:disabled:hover {\n",
              "    background-color: var(--disabled-bg-color);\n",
              "    fill: var(--disabled-fill-color);\n",
              "    box-shadow: none;\n",
              "  }\n",
              "\n",
              "  .colab-df-spinner {\n",
              "    border: 2px solid var(--fill-color);\n",
              "    border-color: transparent;\n",
              "    border-bottom-color: var(--fill-color);\n",
              "    animation:\n",
              "      spin 1s steps(1) infinite;\n",
              "  }\n",
              "\n",
              "  @keyframes spin {\n",
              "    0% {\n",
              "      border-color: transparent;\n",
              "      border-bottom-color: var(--fill-color);\n",
              "      border-left-color: var(--fill-color);\n",
              "    }\n",
              "    20% {\n",
              "      border-color: transparent;\n",
              "      border-left-color: var(--fill-color);\n",
              "      border-top-color: var(--fill-color);\n",
              "    }\n",
              "    30% {\n",
              "      border-color: transparent;\n",
              "      border-left-color: var(--fill-color);\n",
              "      border-top-color: var(--fill-color);\n",
              "      border-right-color: var(--fill-color);\n",
              "    }\n",
              "    40% {\n",
              "      border-color: transparent;\n",
              "      border-right-color: var(--fill-color);\n",
              "      border-top-color: var(--fill-color);\n",
              "    }\n",
              "    60% {\n",
              "      border-color: transparent;\n",
              "      border-right-color: var(--fill-color);\n",
              "    }\n",
              "    80% {\n",
              "      border-color: transparent;\n",
              "      border-right-color: var(--fill-color);\n",
              "      border-bottom-color: var(--fill-color);\n",
              "    }\n",
              "    90% {\n",
              "      border-color: transparent;\n",
              "      border-bottom-color: var(--fill-color);\n",
              "    }\n",
              "  }\n",
              "</style>\n",
              "\n",
              "  <script>\n",
              "    async function quickchart(key) {\n",
              "      const quickchartButtonEl =\n",
              "        document.querySelector('#' + key + ' button');\n",
              "      quickchartButtonEl.disabled = true;  // To prevent multiple clicks.\n",
              "      quickchartButtonEl.classList.add('colab-df-spinner');\n",
              "      try {\n",
              "        const charts = await google.colab.kernel.invokeFunction(\n",
              "            'suggestCharts', [key], {});\n",
              "      } catch (error) {\n",
              "        console.error('Error during call to suggestCharts:', error);\n",
              "      }\n",
              "      quickchartButtonEl.classList.remove('colab-df-spinner');\n",
              "      quickchartButtonEl.classList.add('colab-df-quickchart-complete');\n",
              "    }\n",
              "    (() => {\n",
              "      let quickchartButtonEl =\n",
              "        document.querySelector('#df-f18589d7-a981-4523-b7a5-7b76840220d4 button');\n",
              "      quickchartButtonEl.style.display =\n",
              "        google.colab.kernel.accessAllowed ? 'block' : 'none';\n",
              "    })();\n",
              "  </script>\n",
              "</div>\n",
              "    </div>\n",
              "  </div>\n"
            ],
            "application/vnd.google.colaboratory.intrinsic+json": {
              "type": "dataframe",
              "variable_name": "df",
              "summary": "{\n  \"name\": \"df\",\n  \"rows\": 5283,\n  \"fields\": [\n    {\n      \"column\": \"user_id\",\n      \"properties\": {\n        \"dtype\": \"category\",\n        \"num_unique_values\": 1000,\n        \"samples\": [\n          \"user521\",\n          \"user737\",\n          \"user740\"\n        ],\n        \"semantic_type\": \"\",\n        \"description\": \"\"\n      }\n    },\n    {\n      \"column\": \"session\",\n      \"properties\": {\n        \"dtype\": \"string\",\n        \"num_unique_values\": 5283,\n        \"samples\": [\n          \"[\\\"2023-05-06 22:16:51\\\", 1296, [[\\\"page0\\\", \\\"2023-05-06 22:25:50\\\"], [\\\"page1\\\", \\\"2023-05-06 22:37:04\\\"], [\\\"page2\\\", \\\"2023-05-06 22:29:50\\\"], [\\\"page3\\\", \\\"2023-05-06 22:26:00\\\"], [\\\"page4\\\", \\\"2023-05-06 22:24:16\\\"], [\\\"page5\\\", \\\"2023-05-06 22:37:49\\\"], [\\\"page6\\\", \\\"2023-05-06 22:23:45\\\"], [\\\"page7\\\", \\\"2023-05-06 22:36:13\\\"], [\\\"page8\\\", \\\"2023-05-06 22:26:03\\\"], [\\\"page9\\\", \\\"2023-05-06 22:24:01\\\"], [\\\"page10\\\", \\\"2023-05-06 22:35:25\\\"], [\\\"page11\\\", \\\"2023-05-06 22:36:45\\\"], [\\\"page12\\\", \\\"2023-05-06 22:18:43\\\"], [\\\"page13\\\", \\\"2023-05-06 22:28:13\\\"], [\\\"page14\\\", \\\"2023-05-06 22:38:04\\\"]]]\",\n          \"[\\\"2023-05-28 23:49:26\\\", 517, [[\\\"page0\\\", \\\"2023-05-28 23:50:20\\\"], [\\\"page1\\\", \\\"2023-05-28 23:53:26\\\"], [\\\"page2\\\", \\\"2023-05-28 23:54:56\\\"], [\\\"page3\\\", \\\"2023-05-28 23:57:24\\\"], [\\\"page4\\\", \\\"2023-05-28 23:55:40\\\"], [\\\"page5\\\", \\\"2023-05-28 23:56:58\\\"], [\\\"page6\\\", \\\"2023-05-28 23:56:57\\\"], [\\\"page7\\\", \\\"2023-05-28 23:53:49\\\"], [\\\"page8\\\", \\\"2023-05-28 23:53:56\\\"]]]\",\n          \"[\\\"2023-05-22 08:23:34\\\", 1050, [[\\\"page0\\\", \\\"2023-05-22 08:35:22\\\"], [\\\"page1\\\", \\\"2023-05-22 08:24:34\\\"], [\\\"page2\\\", \\\"2023-05-22 08:32:56\\\"], [\\\"page3\\\", \\\"2023-05-22 08:38:57\\\"]]]\"\n        ],\n        \"semantic_type\": \"\",\n        \"description\": \"\"\n      }\n    }\n  ]\n}"
            }
          },
          "metadata": {},
          "execution_count": 33
        }
      ]
    },
    {
      "cell_type": "markdown",
      "source": [
        "### **Решения**"
      ],
      "metadata": {
        "id": "CxmnD3GvffQ4"
      }
    },
    {
      "cell_type": "markdown",
      "source": [
        "#### **Задача 1**\n",
        "\n",
        "Ваша задача написать функцию `get_time_to_conversion`, которая принимает на вход сессии в формате, который вы определили для себя и подсчитывает среднее время между заходом на сайт и целевым действием.\n",
        "\n",
        "Результат - число типа `float`, округленное до двух знаков после запятой, сохраните в переменную `res`"
      ],
      "metadata": {
        "id": "5bdLXu2ksLB7"
      }
    },
    {
      "cell_type": "markdown",
      "source": [
        "**Решение**\n",
        "\n",
        "Напишите свое решение ниже"
      ],
      "metadata": {
        "id": "qUL4LtIUnJge"
      }
    },
    {
      "cell_type": "code",
      "source": [
        "import json\n",
        "import csv\n",
        "from datetime import datetime\n",
        "from collections import defaultdict"
      ],
      "metadata": {
        "id": "thVSEpb66aWn"
      },
      "execution_count": 2,
      "outputs": []
    },
    {
      "cell_type": "code",
      "source": [
        "# функция чтения файлов\\\n",
        "def read_file(file):\n",
        "  with open(file, newline='') as file_csv:\n",
        "    reader = csv.reader(file_csv, delimiter=';')\n",
        "    header = next(reader)\n",
        "    users = [row for row in reader]\n",
        "    return users\n",
        "\n",
        "def parse_dates(obj: list) -> list:\n",
        "  \"\"\"\n",
        "  Возвращает преобразованный список (строка заменена на формат datetime).\n",
        "\n",
        "  Args:\n",
        "      obj (list): список строк активности пользователя.\n",
        "\n",
        "  Returns:\n",
        "      list: Список сессий:\n",
        "      первый элемент - время старта,\n",
        "      второй элемент - общее количество времени, проведенное на сайте,\n",
        "      третий элемент - список действий пользователя.\n",
        "  \"\"\"\n",
        "\n",
        "  if isinstance(obj, list):\n",
        "      return [parse_dates(item) for item in obj]\n",
        "  elif isinstance(obj, str):\n",
        "      try:\n",
        "        return datetime.strptime(obj, '%Y-%m-%d %H:%M:%S')\n",
        "      except ValueError:\n",
        "        return obj\n",
        "  return obj\n",
        "\n",
        "def filter_data(sessions: list, conversion=True) -> list:\n",
        "  \"\"\"\n",
        "  Возвращает список, разбитый по сессиям.\n",
        "\n",
        "  Args:\n",
        "      sessions (list): список строк активности пользователя.\n",
        "  Kwargs:\n",
        "      conversion (bool): определяет условие возврата массива -\n",
        "      все активности или только результативные.\n",
        "\n",
        "  Returns:\n",
        "      list: Список сессий:\n",
        "      первый элемент - пользователь,\n",
        "      второй элемент - список сессий пользователя только с данными 'conversion'\n",
        "      (результативное действие).\n",
        "  \"\"\"\n",
        "\n",
        "  results = []\n",
        "  for session in sessions:\n",
        "      for user_data in session:\n",
        "        try:\n",
        "          user_id, json_part = user_data.split(',', 1)\n",
        "          fixed_json = json_part.strip('\"').replace('\"\"', '\"')\n",
        "          fixed_json = fixed_json.replace('\"[', '[').replace(']\"', ']')\n",
        "\n",
        "          # Сначала загружаем, потом обрабатываем\n",
        "          user_info = json.loads(fixed_json)\n",
        "          processed_info = parse_dates(user_info)  # Применяем кастомный парсер\n",
        "          if conversion:\n",
        "            # Фильтруем, оставляя только 'conversion'\n",
        "            if isinstance(processed_info, list) and len(processed_info) > 2:\n",
        "              conversion_data = [\n",
        "                  item for item in processed_info[2]\n",
        "                  if isinstance(item, list)\n",
        "                  and item[0] == 'conversion'\n",
        "                  ]\n",
        "              processed_info[2] = conversion_data\n",
        "            # В итоговом списке оставляем только данные с 'conversion'\n",
        "            if len(processed_info[2]):\n",
        "              results.append([user_id, processed_info])\n",
        "          else:\n",
        "            results.append([user_id, processed_info])\n",
        "\n",
        "        except Exception as e:\n",
        "          print(f\"Ошибка обработки {user_id}: {e}\")\n",
        "  return results\n",
        "\n",
        "def get_time_to_conversion(data: list) -> float:\n",
        "  \"\"\"\n",
        "  Вычисляет среднее время, проведенное на сайте до результативных действий.\n",
        "\n",
        "  Args:\n",
        "      data (list): список действий пользователя:\n",
        "      первый элемент - пользователь,\n",
        "      второй элемент - список сессий пользователя только с данными 'conversion'\n",
        "      (результативное действие).\n",
        "\n",
        "  Returns:\n",
        "      float: Среднее значение времени пользователя,\n",
        "      проведенное от входа на сайт и до результативного действия.\n",
        "  \"\"\"\n",
        "  result = []\n",
        "  #преобразуем список списков в список значений\n",
        "  for entry in data:\n",
        "    user_id, details = entry\n",
        "    # Первый элемент — дата, второй — число, третий — список событий\n",
        "    first_date, number, events = details\n",
        "\n",
        "    # Находим событие 'conversion' (если есть)\n",
        "    conversion_time = None\n",
        "    for event in events:\n",
        "      if event[0] == 'conversion':\n",
        "        conversion_time = event[1]\n",
        "        break\n",
        "\n",
        "    # Формируем упрощённую запись\n",
        "    flattened_entry = [user_id, first_date, number, conversion_time]\n",
        "    result.append(flattened_entry)\n",
        "\n",
        "  #приозведем вычисления\n",
        "  total_time = list(map(lambda x: (x[3] - x [1]).total_seconds(), result))\n",
        "  return round(sum(total_time) / len(total_time), 2)\n",
        "\n",
        "sessions = read_file('sessions.csv')\n",
        "data_info = filter_data(sessions)\n",
        "res = get_time_to_conversion(data_info)"
      ],
      "metadata": {
        "id": "Ia39hhmZbNRW"
      },
      "execution_count": 3,
      "outputs": []
    },
    {
      "cell_type": "markdown",
      "source": [
        "✏️ ✏️ ✏️\n",
        "\n",
        "**Проверка**\n",
        "\n",
        "Чтобы проверить свое решение, запустите код в следующих ячейках"
      ],
      "metadata": {
        "id": "54Tvpn9OkDwV"
      }
    },
    {
      "cell_type": "code",
      "source": [
        "try:\n",
        "    assert res == 467.24\n",
        "except AssertionError:\n",
        "    print('Ответы не совпадают')\n",
        "else:\n",
        "    print('Поздравляем, Вы справились!')"
      ],
      "metadata": {
        "id": "LkqzVw9skKEC",
        "colab": {
          "base_uri": "https://localhost:8080/"
        },
        "outputId": "90091f20-bad4-422c-e78d-ee3d2d637f59"
      },
      "execution_count": null,
      "outputs": [
        {
          "output_type": "stream",
          "name": "stdout",
          "text": [
            "Поздравляем, Вы справились!\n"
          ]
        }
      ]
    },
    {
      "cell_type": "markdown",
      "source": [
        "#### **Задача 2**\n",
        "\n",
        "Ваша задача написать функцию `get_session_duration`, которая принимает на вход сессии в формате, который вы определили для себя и подсчитывает сколько вообще в среднем длится сессия.\n",
        "\n",
        "Результат - число типа `float`, округленное до двух знаков после запятой, сохраните в переменную `res2`"
      ],
      "metadata": {
        "id": "QLNMvvhXoIdV"
      }
    },
    {
      "cell_type": "markdown",
      "source": [
        "**Решение**\n",
        "\n",
        "Напишите свое решение ниже"
      ],
      "metadata": {
        "id": "LThhpSINoMHN"
      }
    },
    {
      "cell_type": "code",
      "source": [
        "\n",
        "def get_session_duration(data_info: list) -> float:\n",
        "  \"\"\"\n",
        "  Вычисляет среднее время, проведенное на сайте.\n",
        "\n",
        "  Args:\n",
        "      data_info (list): список действий пользователя:\n",
        "      первый элемент - пользователь,\n",
        "      второй элемент - список сессий пользователя.\n",
        "\n",
        "  Returns:\n",
        "      float: Среднее значение времени пользователя,\n",
        "      проведенное на сайте.\n",
        "  \"\"\"\n",
        "  # отбираем в список время, проведенное на сайте\n",
        "  # (второй элемент вложенного списка)\n",
        "  result = []\n",
        "  for session in data_info:\n",
        "    duration = session[1][1]\n",
        "    result.append(duration)\n",
        "  return round(sum(result) / len(result), 2)\n",
        "\n",
        "data_info = filter_data(sessions, conversion=False)\n",
        "res2 = get_session_duration(data_info)"
      ],
      "metadata": {
        "id": "9s8JBMlboJuf",
        "colab": {
          "base_uri": "https://localhost:8080/"
        },
        "outputId": "aa142889-6aa0-44c4-83de-3a01748b18c3"
      },
      "execution_count": null,
      "outputs": [
        {
          "output_type": "execute_result",
          "data": {
            "text/plain": [
              "901.35"
            ]
          },
          "metadata": {},
          "execution_count": 17
        }
      ]
    },
    {
      "cell_type": "markdown",
      "source": [
        "✏️ ✏️ ✏️\n",
        "\n",
        "**Проверка**\n",
        "\n",
        "Чтобы проверить свое решение, запустите код в следующих ячейках"
      ],
      "metadata": {
        "id": "GN_PNZICsxRD"
      }
    },
    {
      "cell_type": "code",
      "source": [
        "try:\n",
        "    assert res2 == 901.35\n",
        "except AssertionError:\n",
        "    print('Ответы не совпадают')\n",
        "else:\n",
        "    print('Поздравляем, Вы справились!')"
      ],
      "metadata": {
        "id": "tys9eJRSqcEW",
        "colab": {
          "base_uri": "https://localhost:8080/"
        },
        "outputId": "05ce1431-2af0-42d4-80cf-504ee2f2772b"
      },
      "execution_count": null,
      "outputs": [
        {
          "output_type": "stream",
          "name": "stdout",
          "text": [
            "Поздравляем, Вы справились!\n"
          ]
        }
      ]
    },
    {
      "cell_type": "markdown",
      "source": [
        "#### **Задача 3**\n",
        "\n",
        "Напишите функцию `get_daily_session_count`, которая принимает на вход сессии в формате, который вы определили для себя и подсчитывает cколько разных заходов в течение дня делает пользователь.\n",
        "\n",
        "Результат - число типа `float`, округленное до двух знаков после запятой, сохраните в переменную `res3`"
      ],
      "metadata": {
        "id": "AwB-HtPLtjyl"
      }
    },
    {
      "cell_type": "markdown",
      "source": [
        "**Решение**\n",
        "\n",
        "Напишите свое решение ниже"
      ],
      "metadata": {
        "id": "GOTB--hmt2xw"
      }
    },
    {
      "cell_type": "code",
      "source": [
        "def get_daily_session_count(data_info: list) -> float:\n",
        "  \"\"\"\n",
        "  Вычисляет среднее количество заходов на сайт.\n",
        "\n",
        "  Args:\n",
        "      data_info (list): список действий пользователя:\n",
        "      первый элемент - пользователь,\n",
        "      второй элемент - список сессий пользователя (страница, дата).\n",
        "\n",
        "  Returns:\n",
        "      float: Среднее количество заходов на сайт в день.\n",
        "  \"\"\"\n",
        "\n",
        " # группируем сеансы по дням и количеством заходов каждого пользователя\n",
        "  grouped_days = defaultdict(dict)\n",
        "\n",
        "  for session in data_info:\n",
        "    user = session[0]\n",
        "    day = session[1][0].date()\n",
        "    grouped_days[day][user] = grouped_days[day].get(user, 0) + 1\n",
        "\n",
        "  # составляем словарь со средним значением заходов на сайт пользователей\n",
        "  # за каждый день\n",
        "\n",
        "  results = {}\n",
        "  for day, session in grouped_days.items():\n",
        "    results[day] = results.get(day, sum(session.values()) / len(session.values()))\n",
        "\n",
        "  return round(sum(results.values()) / len(results), 2)\n",
        "\n",
        "data_info = filter_data(sessions, conversion=False)\n",
        "\n",
        "res3 = get_daily_session_count(data_info)"
      ],
      "metadata": {
        "id": "fz7nRb_ntKMv",
        "colab": {
          "base_uri": "https://localhost:8080/"
        },
        "outputId": "71ed1d82-4c48-408b-9325-733d3306999b"
      },
      "execution_count": 9,
      "outputs": [
        {
          "output_type": "execute_result",
          "data": {
            "text/plain": [
              "1.11"
            ]
          },
          "metadata": {},
          "execution_count": 9
        }
      ]
    },
    {
      "cell_type": "markdown",
      "source": [
        "✏️ ✏️ ✏️\n",
        "\n",
        "**Проверка**\n",
        "\n",
        "Чтобы проверить свое решение, запустите код в следующих ячейках"
      ],
      "metadata": {
        "id": "0-7TiI06t8D0"
      }
    },
    {
      "cell_type": "code",
      "source": [
        "try:\n",
        "    assert res3 == 1.11\n",
        "except AssertionError:\n",
        "    print('Ответы не совпадают')\n",
        "else:\n",
        "    print('Поздравляем, Вы справились!')"
      ],
      "metadata": {
        "id": "eOzvKzYqt_UH",
        "colab": {
          "base_uri": "https://localhost:8080/"
        },
        "outputId": "9e0a1afa-9770-4d0d-ed0c-90d3c15d8e13"
      },
      "execution_count": 10,
      "outputs": [
        {
          "output_type": "stream",
          "name": "stdout",
          "text": [
            "Поздравляем, Вы справились!\n"
          ]
        }
      ]
    },
    {
      "cell_type": "markdown",
      "source": [
        "#### **Задача 4**\n",
        "\n",
        "Напишите функцию `get_average_session_count`, которая принимает на вход сессии в формате, который вы определили для себя и подсчитывает сколько заходов вообще в среднем делает пользователь.\n",
        "\n",
        "Результат - число типа `float`, округленное до двух знаков после запятой, сохраните в переменную `res4`"
      ],
      "metadata": {
        "id": "R9huPDD3i9wz"
      }
    },
    {
      "cell_type": "markdown",
      "source": [
        "**Решение**\n",
        "\n",
        "Напишите свое решение ниже"
      ],
      "metadata": {
        "id": "1CWLkmQzjLNf"
      }
    },
    {
      "cell_type": "code",
      "source": [
        "def get_average_session_count(data_info):\n",
        "  results = {}\n",
        "  for session in data_info:\n",
        "    user = session[0]\n",
        "    results[user] = results.get(user, 0) + 1\n",
        "\n",
        "  return round(sum(results.values()) / len(results), 2)\n",
        "\n",
        "\n",
        "\n",
        "res4 = get_average_session_count(data_info)"
      ],
      "metadata": {
        "id": "MaWSJGvEjJgq",
        "colab": {
          "base_uri": "https://localhost:8080/"
        },
        "outputId": "840e1d3f-6e6c-4d48-b6fd-e0a54b38e718"
      },
      "execution_count": null,
      "outputs": [
        {
          "output_type": "execute_result",
          "data": {
            "text/plain": [
              "5.28"
            ]
          },
          "metadata": {},
          "execution_count": 34
        }
      ]
    },
    {
      "cell_type": "markdown",
      "source": [
        "✏️ ✏️ ✏️\n",
        "\n",
        "**Проверка**\n",
        "\n",
        "Чтобы проверить свое решение, запустите код в следующих ячейках"
      ],
      "metadata": {
        "id": "nLNPyebujSh8"
      }
    },
    {
      "cell_type": "code",
      "source": [
        "try:\n",
        "    assert res4 == 5.28\n",
        "except AssertionError:\n",
        "    print('Ответы не совпадают')\n",
        "else:\n",
        "    print('Поздравляем, Вы справились!')"
      ],
      "metadata": {
        "id": "oPvNP5sijS9v",
        "colab": {
          "base_uri": "https://localhost:8080/"
        },
        "outputId": "77a656e7-8755-4b3e-d0dd-7da9291eb554"
      },
      "execution_count": null,
      "outputs": [
        {
          "output_type": "stream",
          "name": "stdout",
          "text": [
            "Поздравляем, Вы справились!\n"
          ]
        }
      ]
    },
    {
      "cell_type": "code",
      "source": [],
      "metadata": {
        "id": "ExXew_jhja_m"
      },
      "execution_count": null,
      "outputs": []
    }
  ]
}